{
 "cells": [
  {
   "cell_type": "code",
   "execution_count": 1,
   "id": "e790a6e9",
   "metadata": {},
   "outputs": [],
   "source": [
    "import pandas as pd \n",
    "import numpy as np\n",
    "import sqlite3\n",
    "import pickle\n",
    "pd.set_option('display.max_columns', None)\n",
    "from functools import reduce \n"
   ]
  },
  {
   "cell_type": "code",
   "execution_count": 2,
   "id": "be726f31",
   "metadata": {},
   "outputs": [],
   "source": [
    "conn = sqlite3.connect('database.db')"
   ]
  },
  {
   "cell_type": "code",
   "execution_count": 3,
   "id": "7b7ebe2e",
   "metadata": {},
   "outputs": [],
   "source": [
    "\n",
    "query = '''\n",
    "    SELECT DISTINCT \"Month\", \"LSOA name\", \"LSOA code\", \"Falls within\", COUNT() AS amount_of_crimes\n",
    "    FROM street2011\n",
    "    GROUP BY \"Month\", \"LSOA code\"\n",
    "    UNION ALL\n",
    "    SELECT DISTINCT \"Month\", \"LSOA name\", \"LSOA code\", \"Falls within\", COUNT() AS amount_of_crimes\n",
    "    FROM street2012\n",
    "    GROUP BY \"Month\", \"LSOA code\"\n",
    "    UNION ALL\n",
    "    SELECT DISTINCT \"Month\", \"LSOA name\", \"LSOA code\",\"Falls within\", COUNT() AS amount_of_crimes\n",
    "    FROM street2013\n",
    "    GROUP BY \"Month\", \"LSOA code\"\n",
    "    UNION ALL\n",
    "    SELECT DISTINCT \"Month\", \"LSOA name\", \"LSOA code\",\"Falls within\", COUNT() AS amount_of_crimes\n",
    "    FROM street2014\n",
    "    GROUP BY \"Month\", \"LSOA code\"\n",
    "    UNION ALL\n",
    "    SELECT DISTINCT \"Month\", \"LSOA name\", \"LSOA code\",\"Falls within\", COUNT() AS amount_of_crimes\n",
    "    FROM street2015\n",
    "    GROUP BY \"Month\", \"LSOA code\"\n",
    "    UNION ALL\n",
    "    SELECT DISTINCT \"Month\", \"LSOA name\", \"LSOA code\",\"Falls within\", COUNT() AS amount_of_crimes\n",
    "    FROM street2016\n",
    "    GROUP BY \"Month\", \"LSOA code\"\n",
    "    UNION ALL\n",
    "    SELECT DISTINCT \"Month\", \"LSOA name\", \"LSOA code\",\"Falls within\", COUNT() AS amount_of_crimes\n",
    "    FROM street2017\n",
    "    GROUP BY \"Month\", \"LSOA code\"\n",
    "    UNION ALL\n",
    "    SELECT DISTINCT \"Month\", \"LSOA name\", \"LSOA code\", \"Falls within\", COUNT() AS amount_of_crimes\n",
    "    FROM street2018\n",
    "    GROUP BY \"Month\", \"LSOA code\"\n",
    "    UNION ALL\n",
    "    SELECT DISTINCT \"Month\", \"LSOA name\", \"LSOA code\", \"Falls within\", COUNT() AS amount_of_crimes\n",
    "    FROM street2019\n",
    "    GROUP BY \"Month\", \"LSOA code\"\n",
    "    '''\n",
    "dataframe2 = pd.read_sql_query(query, conn)"
   ]
  },
  {
   "cell_type": "code",
   "execution_count": 11,
   "id": "c2f4d4dc",
   "metadata": {},
   "outputs": [],
   "source": [
    "#Train\n",
    "crime_per_district = dataframe2.copy()\n",
    "crime_per_district[\"Falls within\"] = crime_per_district[\"Falls within\"].str.rsplit(' ',1).str[0]\n",
    "crime_per_district = crime_per_district.rename(columns={'LSOA name': 'name', 'LSOA code': 'Geo code', 'Falls within':'Force Name'})"
   ]
  },
  {
   "cell_type": "code",
   "execution_count": 12,
   "id": "2e8d5bf6",
   "metadata": {},
   "outputs": [],
   "source": [
    "crime_per_district['year'] = pd.to_datetime(crime_per_district['Month'], format='%Y-%m').dt.year\n",
    "crime_per_district['month'] = pd.to_datetime(crime_per_district['Month'], format='%Y-%m').dt.month"
   ]
  },
  {
   "cell_type": "code",
   "execution_count": 13,
   "id": "6d9d76fd",
   "metadata": {},
   "outputs": [],
   "source": [
    "crime_per_district['prev_month_crimes'] = crime_per_district.groupby(['Geo code'])['amount_of_crimes'].shift(1)\n",
    "crime_per_district['prev_year_crimes'] = crime_per_district.groupby(['Geo code', 'month'])['amount_of_crimes'].shift(1)\n"
   ]
  },
  {
   "cell_type": "code",
   "execution_count": 14,
   "id": "6eaabb84",
   "metadata": {},
   "outputs": [],
   "source": [
    "crime_per_district = crime_per_district[crime_per_district['year']>2011]"
   ]
  },
  {
   "cell_type": "code",
   "execution_count": 8,
   "id": "51b8ce08",
   "metadata": {},
   "outputs": [],
   "source": [
    "crime_per_district.dropna(inplace=True)"
   ]
  },
  {
   "cell_type": "code",
   "execution_count": 5,
   "id": "3643f53f",
   "metadata": {},
   "outputs": [],
   "source": [
    "del dataframe2"
   ]
  },
  {
   "cell_type": "markdown",
   "id": "bb7e7e5e",
   "metadata": {},
   "source": [
    "# Police per district (yearly)"
   ]
  },
  {
   "cell_type": "code",
   "execution_count": 42,
   "id": "e65a4418",
   "metadata": {},
   "outputs": [],
   "source": [
    "df_police = pd.read_excel('Number of police officers per district per year.ods', engine='odf')\n",
    "df_police = df_police.rename(columns={'As at 31 March...': 'year', 'Geo code': 'Geo code police'})"
   ]
  },
  {
   "cell_type": "code",
   "execution_count": 43,
   "id": "5ca6aaaa",
   "metadata": {},
   "outputs": [],
   "source": [
    "df_police2 = df_police[df_police['year']>2010]\n",
    "df_police3 = df_police2[df_police2['year']<2020]\n",
    "df_police4 = df_police3[df_police3['Worker type']=='Police Officer']\n",
    "df_police_final = df_police4.groupby(['year','Force Name', 'Geo code police'])[['Total (headcount)']].sum()"
   ]
  },
  {
   "cell_type": "code",
   "execution_count": 44,
   "id": "feb3a13a",
   "metadata": {},
   "outputs": [],
   "source": [
    "del df_police\n",
    "del df_police2\n",
    "del df_police3\n",
    "del df_police4"
   ]
  },
  {
   "cell_type": "markdown",
   "id": "1b8a8c1a",
   "metadata": {},
   "source": [
    "# Population LSOA (yearly)"
   ]
  },
  {
   "cell_type": "code",
   "execution_count": 45,
   "id": "7b6da714",
   "metadata": {},
   "outputs": [
    {
     "name": "stderr",
     "output_type": "stream",
     "text": [
      "C:\\Users\\blaze\\Anaconda3\\lib\\site-packages\\openpyxl\\worksheet\\header_footer.py:48: UserWarning: Cannot parse header or footer so it will be ignored\n",
      "  warn(\"\"\"Cannot parse header or footer so it will be ignored\"\"\")\n"
     ]
    }
   ],
   "source": [
    "df_2011 = pd.read_excel('people2011.xlsx')\n",
    "df_2012 = pd.read_excel('people2012.xlsx')\n",
    "df_2013 = pd.read_excel('people2013.xlsx')\n",
    "df_2014 = pd.read_excel('people2014.xlsx')\n",
    "df_2015 = pd.read_excel('people2015.xlsx')\n",
    "df_2016 = pd.read_excel('people2016.xlsx')\n",
    "df_2017 = pd.read_excel('people2017.xlsx')\n",
    "df_2018 = pd.read_excel('people2018.xlsx')\n",
    "df_2019 = pd.read_excel('people2019.xlsx')"
   ]
  },
  {
   "cell_type": "code",
   "execution_count": 46,
   "id": "e87068d2",
   "metadata": {},
   "outputs": [],
   "source": [
    "df_2011 = df_2011[['Area Codes', 'All Ages']]\n",
    "df_2012 = df_2012[['Area Codes', 'All Ages']]\n",
    "df_2013 = df_2013[['Area Codes', 'All Ages']]\n",
    "df_2014 = df_2014[['Area Codes', 'All Ages']]\n",
    "df_2015 = df_2015[['Area Codes', 'All Ages']]\n",
    "df_2016 = df_2016[['Area Codes', 'All Ages']]\n",
    "df_2017 = df_2017[['Area Codes', 'All Ages']]\n",
    "df_2018 = df_2018[['Area Codes', 'All Ages']]\n",
    "df_2019 = df_2019[['LSOA Code', 'All Ages']]\n",
    "df_2011 = df_2011.rename(columns={'All Ages':'Population 2011'})\n",
    "df_2012 = df_2012.rename(columns={'All Ages':'Population 2012'})\n",
    "df_2013 = df_2013.rename(columns={'All Ages':'Population 2013'})\n",
    "df_2014 = df_2014.rename(columns={'All Ages':'Population 2014'})\n",
    "df_2015 = df_2015.rename(columns={'All Ages':'Population 2015'})\n",
    "df_2016 = df_2016.rename(columns={'All Ages':'Population 2016'})\n",
    "df_2017 = df_2017.rename(columns={'All Ages':'Population 2017'})\n",
    "df_2018 = df_2018.rename(columns={'All Ages':'Population 2018'})\n",
    "df_2019 = df_2019.rename(columns={'LSOA Code': 'Area Codes', 'All Ages':'Population 2019'})"
   ]
  },
  {
   "cell_type": "code",
   "execution_count": 47,
   "id": "77b7e30b",
   "metadata": {},
   "outputs": [],
   "source": [
    "data_frames = [df_2011, df_2012, df_2013,df_2014,df_2015,df_2016,df_2017,df_2018,df_2019]"
   ]
  },
  {
   "cell_type": "code",
   "execution_count": 48,
   "id": "bbbc1829",
   "metadata": {},
   "outputs": [],
   "source": [
    "df_pop_merged =  reduce(lambda  left,right: pd.merge(left,right,on=['Area Codes'], how='outer'), data_frames)"
   ]
  },
  {
   "cell_type": "code",
   "execution_count": 49,
   "id": "b4badd6e",
   "metadata": {},
   "outputs": [],
   "source": [
    "del df_2011\n",
    "del df_2012\n",
    "del df_2013\n",
    "del df_2014\n",
    "del df_2015\n",
    "del df_2016\n",
    "del df_2017\n",
    "del df_2018\n",
    "del df_2019\n"
   ]
  },
  {
   "cell_type": "code",
   "execution_count": 50,
   "id": "f2b0ee8c",
   "metadata": {},
   "outputs": [],
   "source": [
    "df_pop_merged2 = df_pop_merged.copy()\n",
    "df_pop_merged2 = df_pop_merged2.loc[df_pop_merged.index.repeat(8)]\n",
    "df_pop_merged2['year']= 2012\n",
    "df_pop_merged2['LSOA population']= 0\n",
    "df_pop_merged2.reset_index(inplace=True)"
   ]
  },
  {
   "cell_type": "code",
   "execution_count": 51,
   "id": "59c65a43",
   "metadata": {},
   "outputs": [],
   "source": [
    "del df_pop_merged"
   ]
  },
  {
   "cell_type": "code",
   "execution_count": 52,
   "id": "8d367b16",
   "metadata": {},
   "outputs": [
    {
     "name": "stderr",
     "output_type": "stream",
     "text": [
      "C:\\Users\\blaze\\AppData\\Local\\Temp/ipykernel_11172/4108131678.py:3: SettingWithCopyWarning: \n",
      "A value is trying to be set on a copy of a slice from a DataFrame\n",
      "\n",
      "See the caveats in the documentation: https://pandas.pydata.org/pandas-docs/stable/user_guide/indexing.html#returning-a-view-versus-a-copy\n",
      "  df_pop_merged2['year'][i] = df_pop_merged2['year'][i-1]+1\n"
     ]
    }
   ],
   "source": [
    "for i in range (1, df_pop_merged2.shape[0]):\n",
    "    if df_pop_merged2['index'][i] == df_pop_merged2['index'][i-1]:\n",
    "        df_pop_merged2['year'][i] = df_pop_merged2['year'][i-1]+1"
   ]
  },
  {
   "cell_type": "code",
   "execution_count": 53,
   "id": "0df653ee",
   "metadata": {},
   "outputs": [
    {
     "name": "stderr",
     "output_type": "stream",
     "text": [
      "C:\\Users\\blaze\\AppData\\Local\\Temp/ipykernel_11172/4071623889.py:3: SettingWithCopyWarning: \n",
      "A value is trying to be set on a copy of a slice from a DataFrame\n",
      "\n",
      "See the caveats in the documentation: https://pandas.pydata.org/pandas-docs/stable/user_guide/indexing.html#returning-a-view-versus-a-copy\n",
      "  df_pop_merged2['LSOA population'][i] = df_pop_merged2['Population 2011'][i]\n",
      "C:\\Users\\blaze\\AppData\\Local\\Temp/ipykernel_11172/4071623889.py:5: SettingWithCopyWarning: \n",
      "A value is trying to be set on a copy of a slice from a DataFrame\n",
      "\n",
      "See the caveats in the documentation: https://pandas.pydata.org/pandas-docs/stable/user_guide/indexing.html#returning-a-view-versus-a-copy\n",
      "  df_pop_merged2['LSOA population'][i] = df_pop_merged2['Population 2012'][i]\n",
      "C:\\Users\\blaze\\AppData\\Local\\Temp/ipykernel_11172/4071623889.py:7: SettingWithCopyWarning: \n",
      "A value is trying to be set on a copy of a slice from a DataFrame\n",
      "\n",
      "See the caveats in the documentation: https://pandas.pydata.org/pandas-docs/stable/user_guide/indexing.html#returning-a-view-versus-a-copy\n",
      "  df_pop_merged2['LSOA population'][i] = df_pop_merged2['Population 2013'][i]\n",
      "C:\\Users\\blaze\\AppData\\Local\\Temp/ipykernel_11172/4071623889.py:9: SettingWithCopyWarning: \n",
      "A value is trying to be set on a copy of a slice from a DataFrame\n",
      "\n",
      "See the caveats in the documentation: https://pandas.pydata.org/pandas-docs/stable/user_guide/indexing.html#returning-a-view-versus-a-copy\n",
      "  df_pop_merged2['LSOA population'][i] = df_pop_merged2['Population 2014'][i]\n",
      "C:\\Users\\blaze\\AppData\\Local\\Temp/ipykernel_11172/4071623889.py:11: SettingWithCopyWarning: \n",
      "A value is trying to be set on a copy of a slice from a DataFrame\n",
      "\n",
      "See the caveats in the documentation: https://pandas.pydata.org/pandas-docs/stable/user_guide/indexing.html#returning-a-view-versus-a-copy\n",
      "  df_pop_merged2['LSOA population'][i] = df_pop_merged2['Population 2015'][i]\n",
      "C:\\Users\\blaze\\AppData\\Local\\Temp/ipykernel_11172/4071623889.py:13: SettingWithCopyWarning: \n",
      "A value is trying to be set on a copy of a slice from a DataFrame\n",
      "\n",
      "See the caveats in the documentation: https://pandas.pydata.org/pandas-docs/stable/user_guide/indexing.html#returning-a-view-versus-a-copy\n",
      "  df_pop_merged2['LSOA population'][i] = df_pop_merged2['Population 2016'][i]\n",
      "C:\\Users\\blaze\\AppData\\Local\\Temp/ipykernel_11172/4071623889.py:15: SettingWithCopyWarning: \n",
      "A value is trying to be set on a copy of a slice from a DataFrame\n",
      "\n",
      "See the caveats in the documentation: https://pandas.pydata.org/pandas-docs/stable/user_guide/indexing.html#returning-a-view-versus-a-copy\n",
      "  df_pop_merged2['LSOA population'][i] = df_pop_merged2['Population 2017'][i]\n",
      "C:\\Users\\blaze\\AppData\\Local\\Temp/ipykernel_11172/4071623889.py:17: SettingWithCopyWarning: \n",
      "A value is trying to be set on a copy of a slice from a DataFrame\n",
      "\n",
      "See the caveats in the documentation: https://pandas.pydata.org/pandas-docs/stable/user_guide/indexing.html#returning-a-view-versus-a-copy\n",
      "  df_pop_merged2['LSOA population'][i] = df_pop_merged2['Population 2018'][i]\n",
      "C:\\Users\\blaze\\Anaconda3\\lib\\site-packages\\pandas\\core\\indexing.py:1732: SettingWithCopyWarning: \n",
      "A value is trying to be set on a copy of a slice from a DataFrame\n",
      "\n",
      "See the caveats in the documentation: https://pandas.pydata.org/pandas-docs/stable/user_guide/indexing.html#returning-a-view-versus-a-copy\n",
      "  self._setitem_single_block(indexer, value, name)\n"
     ]
    }
   ],
   "source": [
    "for i in range (0, df_pop_merged2.shape[0]):\n",
    "    if df_pop_merged2['year'][i]==2012:\n",
    "        df_pop_merged2['LSOA population'][i] = df_pop_merged2['Population 2011'][i]\n",
    "    if df_pop_merged2['year'][i]==2013:\n",
    "        df_pop_merged2['LSOA population'][i] = df_pop_merged2['Population 2012'][i]\n",
    "    if df_pop_merged2['year'][i]==2014:\n",
    "        df_pop_merged2['LSOA population'][i] = df_pop_merged2['Population 2013'][i]\n",
    "    if df_pop_merged2['year'][i]==2015:\n",
    "        df_pop_merged2['LSOA population'][i] = df_pop_merged2['Population 2014'][i]\n",
    "    if df_pop_merged2['year'][i]==2016:\n",
    "        df_pop_merged2['LSOA population'][i] = df_pop_merged2['Population 2015'][i]\n",
    "    if df_pop_merged2['year'][i]==2017:\n",
    "        df_pop_merged2['LSOA population'][i] = df_pop_merged2['Population 2016'][i]\n",
    "    if df_pop_merged2['year'][i]==2018:\n",
    "        df_pop_merged2['LSOA population'][i] = df_pop_merged2['Population 2017'][i]\n",
    "    if df_pop_merged2['year'][i]==2019:\n",
    "        df_pop_merged2['LSOA population'][i] = df_pop_merged2['Population 2018'][i] "
   ]
  },
  {
   "cell_type": "code",
   "execution_count": 54,
   "id": "42fe3102",
   "metadata": {},
   "outputs": [],
   "source": [
    "df_pop_merged2.drop(['Population 2011','Population 2012', 'Population 2013','Population 2014','Population 2015','Population 2016','Population 2017', 'Population 2018', 'Population 2019'], axis=1, inplace=True)"
   ]
  },
  {
   "cell_type": "code",
   "execution_count": 55,
   "id": "d9fffe4e",
   "metadata": {},
   "outputs": [],
   "source": [
    "df_pop_merged2 = df_pop_merged2.rename(columns={'Area Codes': 'LSOA code'})"
   ]
  },
  {
   "cell_type": "markdown",
   "id": "0fae6e29",
   "metadata": {},
   "source": [
    "# Population District (yearly)"
   ]
  },
  {
   "cell_type": "code",
   "execution_count": 56,
   "id": "73c8e166",
   "metadata": {},
   "outputs": [],
   "source": [
    "df_population = pd.read_csv(\"Population of each district.csv\")\n",
    "df_population=df_population.rename(columns={'ladcode21':'Geo code', 'laname21':'name'})\n",
    "\n",
    "df_districts = pd.read_csv(\"districts.csv\")\n",
    "df_districts = df_districts.rename(columns={'LAD19CD':'Geo code', 'LAD19NM':'name','PFA19CD': 'Geo code police', 'PFA19NM':'Force Name'})\n",
    "df_districts.drop(['CSP19CD', 'CSP19NM', 'FID'], axis=1, inplace=True)\n",
    "\n",
    "df_population2 = df_population.groupby(['name', 'Geo code'])[['population_2011','population_2012', 'population_2013', 'population_2014', 'population_2015', 'population_2016', 'population_2017', 'population_2018', 'population_2019']].sum()\n",
    "df_population2.reset_index(inplace=True)\n",
    "df_population_final = pd.merge(df_population2, df_districts, on='Geo code')\n",
    "df_population_final = df_population_final.rename(columns={'name_x': 'name'})\n",
    "df_population_final.drop(['name_y'], axis=1, inplace=True)"
   ]
  },
  {
   "cell_type": "code",
   "execution_count": 57,
   "id": "54b143b3",
   "metadata": {},
   "outputs": [],
   "source": [
    "del df_population\n",
    "del df_districts\n",
    "del df_population2"
   ]
  },
  {
   "cell_type": "markdown",
   "id": "b1c304ab",
   "metadata": {},
   "source": [
    "# Merge population with the police"
   ]
  },
  {
   "cell_type": "code",
   "execution_count": 58,
   "id": "1823524e",
   "metadata": {},
   "outputs": [],
   "source": [
    "df_police_final2 = df_police_final.unstack(level=0)\n",
    "df_police_final2.reset_index(inplace=True)"
   ]
  },
  {
   "cell_type": "code",
   "execution_count": 59,
   "id": "9aa9f672",
   "metadata": {},
   "outputs": [
    {
     "name": "stderr",
     "output_type": "stream",
     "text": [
      "C:\\Users\\blaze\\AppData\\Local\\Temp/ipykernel_11172/1797237973.py:1: FutureWarning: merging between different levels is deprecated and will be removed in a future version. (2 levels on the left,1 on the right)\n",
      "  df_pop_pol = pd.merge(df_police_final2, df_population_final, on='Force Name')\n"
     ]
    }
   ],
   "source": [
    "df_pop_pol = pd.merge(df_police_final2, df_population_final, on='Force Name')\n",
    "df_pop_pol.drop(('Geo code police', ''), axis=1, inplace=True)"
   ]
  },
  {
   "cell_type": "code",
   "execution_count": 60,
   "id": "e3197564",
   "metadata": {},
   "outputs": [],
   "source": [
    "del df_police_final\n",
    "del df_police_final2"
   ]
  },
  {
   "cell_type": "markdown",
   "id": "11bed414",
   "metadata": {},
   "source": [
    "# Add year population and headcount column to merged dataframe"
   ]
  },
  {
   "cell_type": "code",
   "execution_count": 61,
   "id": "fe521f1a",
   "metadata": {},
   "outputs": [],
   "source": [
    "df_pop_pol1 = df_pop_pol.copy()\n",
    "df_pop_pol1 = df_pop_pol1.loc[df_pop_pol1.index.repeat(8)]\n",
    "df_pop_pol1['year']= 2012\n",
    "df_pop_pol1['population']= 0\n",
    "df_pop_pol1['headcount'] = 0\n",
    "df_pop_pol1.reset_index(inplace=True)"
   ]
  },
  {
   "cell_type": "code",
   "execution_count": 62,
   "id": "74ec67eb",
   "metadata": {},
   "outputs": [],
   "source": [
    "del df_pop_pol"
   ]
  },
  {
   "cell_type": "code",
   "execution_count": 63,
   "id": "bf301588",
   "metadata": {},
   "outputs": [
    {
     "name": "stderr",
     "output_type": "stream",
     "text": [
      "C:\\Users\\blaze\\AppData\\Local\\Temp/ipykernel_11172/2307358565.py:3: SettingWithCopyWarning: \n",
      "A value is trying to be set on a copy of a slice from a DataFrame\n",
      "\n",
      "See the caveats in the documentation: https://pandas.pydata.org/pandas-docs/stable/user_guide/indexing.html#returning-a-view-versus-a-copy\n",
      "  df_pop_pol1['year'][i] = df_pop_pol1['year'][i-1]+1\n"
     ]
    }
   ],
   "source": [
    "for i in range (1, df_pop_pol1.shape[0]):\n",
    "    if df_pop_pol1['index'][i] == df_pop_pol1['index'][i-1]:\n",
    "        df_pop_pol1['year'][i] = df_pop_pol1['year'][i-1]+1"
   ]
  },
  {
   "cell_type": "code",
   "execution_count": 64,
   "id": "cb9a12a7",
   "metadata": {},
   "outputs": [
    {
     "name": "stderr",
     "output_type": "stream",
     "text": [
      "C:\\Users\\blaze\\AppData\\Local\\Temp/ipykernel_11172/43154787.py:3: SettingWithCopyWarning: \n",
      "A value is trying to be set on a copy of a slice from a DataFrame\n",
      "\n",
      "See the caveats in the documentation: https://pandas.pydata.org/pandas-docs/stable/user_guide/indexing.html#returning-a-view-versus-a-copy\n",
      "  df_pop_pol1['population'][i] = df_pop_pol1['population_2011'][i]\n",
      "C:\\Users\\blaze\\AppData\\Local\\Temp/ipykernel_11172/43154787.py:4: SettingWithCopyWarning: \n",
      "A value is trying to be set on a copy of a slice from a DataFrame\n",
      "\n",
      "See the caveats in the documentation: https://pandas.pydata.org/pandas-docs/stable/user_guide/indexing.html#returning-a-view-versus-a-copy\n",
      "  df_pop_pol1['headcount'][i] = df_pop_pol1[('Total (headcount)', 2011)][i]\n",
      "C:\\Users\\blaze\\AppData\\Local\\Temp/ipykernel_11172/43154787.py:6: SettingWithCopyWarning: \n",
      "A value is trying to be set on a copy of a slice from a DataFrame\n",
      "\n",
      "See the caveats in the documentation: https://pandas.pydata.org/pandas-docs/stable/user_guide/indexing.html#returning-a-view-versus-a-copy\n",
      "  df_pop_pol1['population'][i] = df_pop_pol1['population_2012'][i]\n",
      "C:\\Users\\blaze\\AppData\\Local\\Temp/ipykernel_11172/43154787.py:7: SettingWithCopyWarning: \n",
      "A value is trying to be set on a copy of a slice from a DataFrame\n",
      "\n",
      "See the caveats in the documentation: https://pandas.pydata.org/pandas-docs/stable/user_guide/indexing.html#returning-a-view-versus-a-copy\n",
      "  df_pop_pol1['headcount'][i] = df_pop_pol1[('Total (headcount)', 2012)][i]\n",
      "C:\\Users\\blaze\\AppData\\Local\\Temp/ipykernel_11172/43154787.py:9: SettingWithCopyWarning: \n",
      "A value is trying to be set on a copy of a slice from a DataFrame\n",
      "\n",
      "See the caveats in the documentation: https://pandas.pydata.org/pandas-docs/stable/user_guide/indexing.html#returning-a-view-versus-a-copy\n",
      "  df_pop_pol1['population'][i] = df_pop_pol1['population_2013'][i]\n",
      "C:\\Users\\blaze\\AppData\\Local\\Temp/ipykernel_11172/43154787.py:10: SettingWithCopyWarning: \n",
      "A value is trying to be set on a copy of a slice from a DataFrame\n",
      "\n",
      "See the caveats in the documentation: https://pandas.pydata.org/pandas-docs/stable/user_guide/indexing.html#returning-a-view-versus-a-copy\n",
      "  df_pop_pol1['headcount'][i] = df_pop_pol1[('Total (headcount)', 2013)][i]\n",
      "C:\\Users\\blaze\\AppData\\Local\\Temp/ipykernel_11172/43154787.py:12: SettingWithCopyWarning: \n",
      "A value is trying to be set on a copy of a slice from a DataFrame\n",
      "\n",
      "See the caveats in the documentation: https://pandas.pydata.org/pandas-docs/stable/user_guide/indexing.html#returning-a-view-versus-a-copy\n",
      "  df_pop_pol1['population'][i] = df_pop_pol1['population_2014'][i]\n",
      "C:\\Users\\blaze\\AppData\\Local\\Temp/ipykernel_11172/43154787.py:13: SettingWithCopyWarning: \n",
      "A value is trying to be set on a copy of a slice from a DataFrame\n",
      "\n",
      "See the caveats in the documentation: https://pandas.pydata.org/pandas-docs/stable/user_guide/indexing.html#returning-a-view-versus-a-copy\n",
      "  df_pop_pol1['headcount'][i] = df_pop_pol1[('Total (headcount)', 2014)][i]\n",
      "C:\\Users\\blaze\\AppData\\Local\\Temp/ipykernel_11172/43154787.py:15: SettingWithCopyWarning: \n",
      "A value is trying to be set on a copy of a slice from a DataFrame\n",
      "\n",
      "See the caveats in the documentation: https://pandas.pydata.org/pandas-docs/stable/user_guide/indexing.html#returning-a-view-versus-a-copy\n",
      "  df_pop_pol1['population'][i] = df_pop_pol1['population_2015'][i]\n",
      "C:\\Users\\blaze\\AppData\\Local\\Temp/ipykernel_11172/43154787.py:16: SettingWithCopyWarning: \n",
      "A value is trying to be set on a copy of a slice from a DataFrame\n",
      "\n",
      "See the caveats in the documentation: https://pandas.pydata.org/pandas-docs/stable/user_guide/indexing.html#returning-a-view-versus-a-copy\n",
      "  df_pop_pol1['headcount'][i] = df_pop_pol1[('Total (headcount)', 2015)][i]\n",
      "C:\\Users\\blaze\\AppData\\Local\\Temp/ipykernel_11172/43154787.py:18: SettingWithCopyWarning: \n",
      "A value is trying to be set on a copy of a slice from a DataFrame\n",
      "\n",
      "See the caveats in the documentation: https://pandas.pydata.org/pandas-docs/stable/user_guide/indexing.html#returning-a-view-versus-a-copy\n",
      "  df_pop_pol1['population'][i] = df_pop_pol1['population_2016'][i]\n",
      "C:\\Users\\blaze\\AppData\\Local\\Temp/ipykernel_11172/43154787.py:19: SettingWithCopyWarning: \n",
      "A value is trying to be set on a copy of a slice from a DataFrame\n",
      "\n",
      "See the caveats in the documentation: https://pandas.pydata.org/pandas-docs/stable/user_guide/indexing.html#returning-a-view-versus-a-copy\n",
      "  df_pop_pol1['headcount'][i] = df_pop_pol1[('Total (headcount)', 2016)][i]\n",
      "C:\\Users\\blaze\\AppData\\Local\\Temp/ipykernel_11172/43154787.py:21: SettingWithCopyWarning: \n",
      "A value is trying to be set on a copy of a slice from a DataFrame\n",
      "\n",
      "See the caveats in the documentation: https://pandas.pydata.org/pandas-docs/stable/user_guide/indexing.html#returning-a-view-versus-a-copy\n",
      "  df_pop_pol1['population'][i] = df_pop_pol1['population_2017'][i]\n",
      "C:\\Users\\blaze\\AppData\\Local\\Temp/ipykernel_11172/43154787.py:22: SettingWithCopyWarning: \n",
      "A value is trying to be set on a copy of a slice from a DataFrame\n",
      "\n",
      "See the caveats in the documentation: https://pandas.pydata.org/pandas-docs/stable/user_guide/indexing.html#returning-a-view-versus-a-copy\n",
      "  df_pop_pol1['headcount'][i] = df_pop_pol1[('Total (headcount)', 2017)][i]\n",
      "C:\\Users\\blaze\\AppData\\Local\\Temp/ipykernel_11172/43154787.py:24: SettingWithCopyWarning: \n",
      "A value is trying to be set on a copy of a slice from a DataFrame\n",
      "\n",
      "See the caveats in the documentation: https://pandas.pydata.org/pandas-docs/stable/user_guide/indexing.html#returning-a-view-versus-a-copy\n",
      "  df_pop_pol1['population'][i] = df_pop_pol1['population_2018'][i]\n",
      "C:\\Users\\blaze\\AppData\\Local\\Temp/ipykernel_11172/43154787.py:25: SettingWithCopyWarning: \n",
      "A value is trying to be set on a copy of a slice from a DataFrame\n",
      "\n",
      "See the caveats in the documentation: https://pandas.pydata.org/pandas-docs/stable/user_guide/indexing.html#returning-a-view-versus-a-copy\n",
      "  df_pop_pol1['headcount'][i] = df_pop_pol1[('Total (headcount)', 2018)][i]\n"
     ]
    }
   ],
   "source": [
    "for i in range (0, df_pop_pol1.shape[0]):\n",
    "    if df_pop_pol1['year'][i]==2012:\n",
    "        df_pop_pol1['population'][i] = df_pop_pol1['population_2011'][i]\n",
    "        df_pop_pol1['headcount'][i] = df_pop_pol1[('Total (headcount)', 2011)][i]\n",
    "    if df_pop_pol1['year'][i]==2013:\n",
    "        df_pop_pol1['population'][i] = df_pop_pol1['population_2012'][i]\n",
    "        df_pop_pol1['headcount'][i] = df_pop_pol1[('Total (headcount)', 2012)][i]\n",
    "    if df_pop_pol1['year'][i]==2014:\n",
    "        df_pop_pol1['population'][i] = df_pop_pol1['population_2013'][i]\n",
    "        df_pop_pol1['headcount'][i] = df_pop_pol1[('Total (headcount)', 2013)][i]\n",
    "    if df_pop_pol1['year'][i]==2015:\n",
    "        df_pop_pol1['population'][i] = df_pop_pol1['population_2014'][i]\n",
    "        df_pop_pol1['headcount'][i] = df_pop_pol1[('Total (headcount)', 2014)][i]\n",
    "    if df_pop_pol1['year'][i]==2016:\n",
    "        df_pop_pol1['population'][i] = df_pop_pol1['population_2015'][i]\n",
    "        df_pop_pol1['headcount'][i] = df_pop_pol1[('Total (headcount)', 2015)][i]\n",
    "    if df_pop_pol1['year'][i]==2017:\n",
    "        df_pop_pol1['population'][i] = df_pop_pol1['population_2016'][i]\n",
    "        df_pop_pol1['headcount'][i] = df_pop_pol1[('Total (headcount)', 2016)][i]\n",
    "    if df_pop_pol1['year'][i]==2018:\n",
    "        df_pop_pol1['population'][i] = df_pop_pol1['population_2017'][i]\n",
    "        df_pop_pol1['headcount'][i] = df_pop_pol1[('Total (headcount)', 2017)][i]\n",
    "    if df_pop_pol1['year'][i]==2019:\n",
    "        df_pop_pol1['population'][i] = df_pop_pol1['population_2018'][i]\n",
    "        df_pop_pol1['headcount'][i] = df_pop_pol1[('Total (headcount)', 2018)][i]"
   ]
  },
  {
   "cell_type": "code",
   "execution_count": 65,
   "id": "b265a0bc",
   "metadata": {},
   "outputs": [],
   "source": [
    "df_pop_pol1.drop(['population_2011','population_2012', 'population_2013','population_2014','population_2015','population_2016','population_2017', 'population_2018', 'population_2019'], axis=1, inplace=True)\n",
    "df_pop_pol1.drop(['index',('Force Name', ''),('Total (headcount)', 2011),('Total (headcount)', 2012), ('Total (headcount)', 2013), ('Total (headcount)', 2014), ('Total (headcount)', 2015), ('Total (headcount)', 2016),('Total (headcount)', 2017), ('Total (headcount)', 2018),('Total (headcount)', 2019)], axis=1, inplace=True)\n"
   ]
  },
  {
   "cell_type": "markdown",
   "id": "639152cf",
   "metadata": {},
   "source": [
    "# Merge population per lsoa with crime dataset"
   ]
  },
  {
   "cell_type": "code",
   "execution_count": 66,
   "id": "fcac7d6d",
   "metadata": {},
   "outputs": [],
   "source": [
    "df_pop_merged2 = df_pop_merged2.rename(columns={'LSOA code':'Geo code'})"
   ]
  },
  {
   "cell_type": "code",
   "execution_count": 67,
   "id": "c5322e7e",
   "metadata": {},
   "outputs": [],
   "source": [
    "data = pd.merge(df_pop_merged2, crime_per_district, on=['year', 'Geo code'])"
   ]
  },
  {
   "cell_type": "code",
   "execution_count": 68,
   "id": "a06a7768",
   "metadata": {},
   "outputs": [],
   "source": [
    "del df_pop_merged2\n",
    "del crime_per_district"
   ]
  },
  {
   "cell_type": "code",
   "execution_count": 69,
   "id": "0f8b0b62",
   "metadata": {},
   "outputs": [],
   "source": [
    "data.rename(columns={'name': 'LSOA name', 'Geo code':'LSOA code',}, inplace=True)"
   ]
  },
  {
   "cell_type": "code",
   "execution_count": 70,
   "id": "1d25f7d3",
   "metadata": {},
   "outputs": [],
   "source": [
    "data.reset_index(inplace=True)"
   ]
  },
  {
   "cell_type": "markdown",
   "id": "a6f8ab30",
   "metadata": {},
   "source": [
    "# Link LSOA and districts"
   ]
  },
  {
   "cell_type": "code",
   "execution_count": 71,
   "id": "4d17f222",
   "metadata": {},
   "outputs": [
    {
     "name": "stderr",
     "output_type": "stream",
     "text": [
      "C:\\Users\\blaze\\Anaconda3\\lib\\site-packages\\IPython\\core\\interactiveshell.py:3444: DtypeWarning: Columns (18,29,47) have mixed types.Specify dtype option on import or set low_memory=False.\n",
      "  exec(code_obj, self.user_global_ns, self.user_ns)\n",
      "C:\\Users\\blaze\\Anaconda3\\lib\\site-packages\\IPython\\core\\interactiveshell.py:3444: DtypeWarning: Columns (18,47) have mixed types.Specify dtype option on import or set low_memory=False.\n",
      "  exec(code_obj, self.user_global_ns, self.user_ns)\n",
      "C:\\Users\\blaze\\Anaconda3\\lib\\site-packages\\IPython\\core\\interactiveshell.py:3444: DtypeWarning: Columns (18) have mixed types.Specify dtype option on import or set low_memory=False.\n",
      "  exec(code_obj, self.user_global_ns, self.user_ns)\n"
     ]
    }
   ],
   "source": [
    "eng1 = pd.read_csv('England1 postcodes.csv')\n",
    "eng2 = pd.read_csv('England2 postcodes.csv')\n",
    "eng3 = pd.read_csv('England3 postcodes.csv')\n",
    "wale = pd.read_csv('Wales postcodes.csv')\n",
    "scot = pd.read_csv('Scotland postcodes.csv')\n",
    "ire = pd.read_csv('BT postcodes.csv')\n",
    "dist_lsoa = pd.concat([eng1, eng2, eng3, wale, scot, ire])"
   ]
  },
  {
   "cell_type": "code",
   "execution_count": 72,
   "id": "e2234af5",
   "metadata": {},
   "outputs": [],
   "source": [
    "final_dist_lsoa = dist_lsoa[['District Code', 'LSOA Code']]"
   ]
  },
  {
   "cell_type": "code",
   "execution_count": 73,
   "id": "0469a04f",
   "metadata": {},
   "outputs": [],
   "source": [
    "del eng1\n",
    "del eng2\n",
    "del eng3\n",
    "del wale\n",
    "del scot\n",
    "del ire\n",
    "del dist_lsoa"
   ]
  },
  {
   "cell_type": "code",
   "execution_count": 74,
   "id": "f52ef645",
   "metadata": {},
   "outputs": [],
   "source": [
    "final_dist_lsoa.rename(columns={'LSOA Code':'LSOA code', 'District Code':'Geo code'}, inplace=True)"
   ]
  },
  {
   "cell_type": "code",
   "execution_count": 75,
   "id": "cd7cf7fb",
   "metadata": {},
   "outputs": [
    {
     "data": {
      "text/plain": [
       "118"
      ]
     },
     "execution_count": 75,
     "metadata": {},
     "output_type": "execute_result"
    }
   ],
   "source": [
    "import gc\n",
    "gc.collect()"
   ]
  },
  {
   "cell_type": "markdown",
   "id": "650208dd",
   "metadata": {},
   "source": [
    "# Merge linked districts + LSOA's and district population + police"
   ]
  },
  {
   "cell_type": "code",
   "execution_count": 76,
   "id": "30d42f7d",
   "metadata": {},
   "outputs": [],
   "source": [
    "data3 = pd.merge(df_pop_pol1, final_dist_lsoa, on=['Geo code'])"
   ]
  },
  {
   "cell_type": "code",
   "execution_count": 77,
   "id": "1e734d8d",
   "metadata": {},
   "outputs": [],
   "source": [
    "del final_dist_lsoa\n",
    "del df_pop_pol1"
   ]
  },
  {
   "cell_type": "code",
   "execution_count": 78,
   "id": "22a1b8c3",
   "metadata": {},
   "outputs": [],
   "source": [
    "data3.drop_duplicates(inplace=True)"
   ]
  },
  {
   "cell_type": "code",
   "execution_count": 79,
   "id": "d5d1c000",
   "metadata": {},
   "outputs": [],
   "source": [
    "data2 = pd.merge(data3, data, on=['year', 'LSOA code'])"
   ]
  },
  {
   "cell_type": "code",
   "execution_count": 80,
   "id": "98d30e8e",
   "metadata": {},
   "outputs": [],
   "source": [
    "del data3\n",
    "del data"
   ]
  },
  {
   "cell_type": "code",
   "execution_count": 81,
   "id": "dae7b52b",
   "metadata": {},
   "outputs": [],
   "source": [
    "data2.drop(['Force Name_y', 'level_0','index'], axis=1, inplace=True)"
   ]
  },
  {
   "cell_type": "code",
   "execution_count": 82,
   "id": "3f8a7526",
   "metadata": {},
   "outputs": [],
   "source": [
    "data2.rename(columns={'Force Name_x':'Force Name'}, inplace=True)"
   ]
  },
  {
   "cell_type": "markdown",
   "id": "1b8a8c1a",
   "metadata": {},
   "source": [
    "# Read gdp data (yearly per district)"
   ]
  },
  {
   "cell_type": "code",
   "execution_count": 83,
   "id": "2a233b7e",
   "metadata": {},
   "outputs": [],
   "source": [
    "df_gdp = pd.read_excel(\"GDP_UK_per_head.xlsx\")\n"
   ]
  },
  {
   "cell_type": "code",
   "execution_count": 84,
   "id": "5560c76d",
   "metadata": {},
   "outputs": [],
   "source": [
    "df_gdp.rename(columns={'2019\\n[note 3]':2019}, inplace=True)"
   ]
  },
  {
   "cell_type": "code",
   "execution_count": 85,
   "id": "90cf746b",
   "metadata": {},
   "outputs": [],
   "source": [
    "ukdpg = df_gdp.copy()\n",
    "ukdpg = ukdpg.loc[ukdpg.index.repeat(8)]\n",
    "ukdpg['year']= 2012\n",
    "ukdpg['GDP']= 0\n",
    "ukdpg.reset_index(inplace=True)"
   ]
  },
  {
   "cell_type": "code",
   "execution_count": 86,
   "id": "5ef28d28",
   "metadata": {},
   "outputs": [],
   "source": [
    "del df_gdp"
   ]
  },
  {
   "cell_type": "code",
   "execution_count": 87,
   "id": "f760c759",
   "metadata": {},
   "outputs": [
    {
     "name": "stderr",
     "output_type": "stream",
     "text": [
      "C:\\Users\\blaze\\AppData\\Local\\Temp/ipykernel_11172/1383387713.py:3: SettingWithCopyWarning: \n",
      "A value is trying to be set on a copy of a slice from a DataFrame\n",
      "\n",
      "See the caveats in the documentation: https://pandas.pydata.org/pandas-docs/stable/user_guide/indexing.html#returning-a-view-versus-a-copy\n",
      "  ukdpg['year'][i] = ukdpg['year'][i-1]+1\n"
     ]
    }
   ],
   "source": [
    "for i in range (1, ukdpg.shape[0]):\n",
    "    if ukdpg['index'][i] == ukdpg['index'][i-1]:\n",
    "        ukdpg['year'][i] = ukdpg['year'][i-1]+1"
   ]
  },
  {
   "cell_type": "code",
   "execution_count": 88,
   "id": "d3abdfa9",
   "metadata": {},
   "outputs": [
    {
     "name": "stderr",
     "output_type": "stream",
     "text": [
      "C:\\Users\\blaze\\AppData\\Local\\Temp/ipykernel_11172/1553439139.py:3: SettingWithCopyWarning: \n",
      "A value is trying to be set on a copy of a slice from a DataFrame\n",
      "\n",
      "See the caveats in the documentation: https://pandas.pydata.org/pandas-docs/stable/user_guide/indexing.html#returning-a-view-versus-a-copy\n",
      "  ukdpg['GDP'][i] = ukdpg[2011][i]\n",
      "C:\\Users\\blaze\\AppData\\Local\\Temp/ipykernel_11172/1553439139.py:5: SettingWithCopyWarning: \n",
      "A value is trying to be set on a copy of a slice from a DataFrame\n",
      "\n",
      "See the caveats in the documentation: https://pandas.pydata.org/pandas-docs/stable/user_guide/indexing.html#returning-a-view-versus-a-copy\n",
      "  ukdpg['GDP'][i] = ukdpg[2012][i]\n",
      "C:\\Users\\blaze\\AppData\\Local\\Temp/ipykernel_11172/1553439139.py:7: SettingWithCopyWarning: \n",
      "A value is trying to be set on a copy of a slice from a DataFrame\n",
      "\n",
      "See the caveats in the documentation: https://pandas.pydata.org/pandas-docs/stable/user_guide/indexing.html#returning-a-view-versus-a-copy\n",
      "  ukdpg['GDP'][i] = ukdpg[2013][i]\n",
      "C:\\Users\\blaze\\AppData\\Local\\Temp/ipykernel_11172/1553439139.py:9: SettingWithCopyWarning: \n",
      "A value is trying to be set on a copy of a slice from a DataFrame\n",
      "\n",
      "See the caveats in the documentation: https://pandas.pydata.org/pandas-docs/stable/user_guide/indexing.html#returning-a-view-versus-a-copy\n",
      "  ukdpg['GDP'][i] = ukdpg[2014][i]\n",
      "C:\\Users\\blaze\\AppData\\Local\\Temp/ipykernel_11172/1553439139.py:11: SettingWithCopyWarning: \n",
      "A value is trying to be set on a copy of a slice from a DataFrame\n",
      "\n",
      "See the caveats in the documentation: https://pandas.pydata.org/pandas-docs/stable/user_guide/indexing.html#returning-a-view-versus-a-copy\n",
      "  ukdpg['GDP'][i] = ukdpg[2015][i]\n",
      "C:\\Users\\blaze\\AppData\\Local\\Temp/ipykernel_11172/1553439139.py:13: SettingWithCopyWarning: \n",
      "A value is trying to be set on a copy of a slice from a DataFrame\n",
      "\n",
      "See the caveats in the documentation: https://pandas.pydata.org/pandas-docs/stable/user_guide/indexing.html#returning-a-view-versus-a-copy\n",
      "  ukdpg['GDP'][i] = ukdpg[2016][i]\n",
      "C:\\Users\\blaze\\AppData\\Local\\Temp/ipykernel_11172/1553439139.py:15: SettingWithCopyWarning: \n",
      "A value is trying to be set on a copy of a slice from a DataFrame\n",
      "\n",
      "See the caveats in the documentation: https://pandas.pydata.org/pandas-docs/stable/user_guide/indexing.html#returning-a-view-versus-a-copy\n",
      "  ukdpg['GDP'][i] = ukdpg[2017][i]\n",
      "C:\\Users\\blaze\\AppData\\Local\\Temp/ipykernel_11172/1553439139.py:17: SettingWithCopyWarning: \n",
      "A value is trying to be set on a copy of a slice from a DataFrame\n",
      "\n",
      "See the caveats in the documentation: https://pandas.pydata.org/pandas-docs/stable/user_guide/indexing.html#returning-a-view-versus-a-copy\n",
      "  ukdpg['GDP'][i] = ukdpg[2018][i]\n"
     ]
    }
   ],
   "source": [
    "for i in range (0, ukdpg.shape[0]):\n",
    "    if ukdpg['year'][i]==2012:\n",
    "        ukdpg['GDP'][i] = ukdpg[2011][i]\n",
    "    if ukdpg['year'][i]==2013:\n",
    "        ukdpg['GDP'][i] = ukdpg[2012][i]\n",
    "    if ukdpg['year'][i]==2014:\n",
    "        ukdpg['GDP'][i] = ukdpg[2013][i]\n",
    "    if ukdpg['year'][i]==2015:\n",
    "        ukdpg['GDP'][i] = ukdpg[2014][i]\n",
    "    if ukdpg['year'][i]==2016:\n",
    "        ukdpg['GDP'][i] = ukdpg[2015][i]\n",
    "    if ukdpg['year'][i]==2017:\n",
    "        ukdpg['GDP'][i] = ukdpg[2016][i]\n",
    "    if ukdpg['year'][i]==2018:\n",
    "        ukdpg['GDP'][i] = ukdpg[2017][i]\n",
    "    if ukdpg['year'][i]==2019:\n",
    "        ukdpg['GDP'][i] = ukdpg[2018][i]"
   ]
  },
  {
   "cell_type": "code",
   "execution_count": 89,
   "id": "1a4b8a5c",
   "metadata": {},
   "outputs": [],
   "source": [
    "ukdpg.drop(['index', 'ITL1 Region', 'LA name', 1998, 1999, 2000, 2001, 2002, 2003, 2004, 2005, 2006, 2007, 2008, 2009, 2010, 2011, 2012, 2013, 2014, 2015, 2016, 2017, 2018, 2019], axis=1, inplace=True)\n",
    "ukdpg = ukdpg.rename(columns={'LA code': 'Geo code'})"
   ]
  },
  {
   "cell_type": "markdown",
   "id": "1b8a8c1a",
   "metadata": {},
   "source": [
    "# Merge gdp with main dataframe"
   ]
  },
  {
   "cell_type": "code",
   "execution_count": 90,
   "id": "6a1bd5a9",
   "metadata": {},
   "outputs": [],
   "source": [
    "data_final2 = pd.merge(data2, ukdpg,  on=['Geo code', 'year'])"
   ]
  },
  {
   "cell_type": "code",
   "execution_count": 91,
   "id": "4ef90ef1",
   "metadata": {},
   "outputs": [],
   "source": [
    "del data2\n",
    "del ukdpg"
   ]
  },
  {
   "cell_type": "markdown",
   "id": "1b8a8c1a",
   "metadata": {},
   "source": [
    "# READ IMD data (same every year (measured every 7 years, we have data from 2015), per LSOA) and merge it with previously merged data"
   ]
  },
  {
   "cell_type": "code",
   "execution_count": 92,
   "id": "ca863b47",
   "metadata": {},
   "outputs": [],
   "source": [
    "df_IMD = pd.read_csv(\"IMD_2015_LSOA_score.csv\", skiprows = 7)\n",
    "\n",
    "df_IMD = df_IMD[[\"Reference area\", \"2015\"]]\n",
    "df_IMD = df_IMD.rename(columns={\"Reference area\":\"LSOA name\", \"2015\" : \"IMD score\"})"
   ]
  },
  {
   "cell_type": "code",
   "execution_count": 93,
   "id": "bd1210b9",
   "metadata": {},
   "outputs": [],
   "source": [
    "data_final = pd.merge(data_final2, df_IMD,  on=['LSOA name']).dropna()\n",
    "data_final.reset_index(inplace=True)"
   ]
  },
  {
   "cell_type": "code",
   "execution_count": 94,
   "id": "79b0abac",
   "metadata": {},
   "outputs": [],
   "source": [
    "del data_final2\n",
    "del df_IMD"
   ]
  },
  {
   "cell_type": "code",
   "execution_count": 95,
   "id": "21e928ae",
   "metadata": {},
   "outputs": [],
   "source": [
    "data_final.drop(['index'], axis=1, inplace=True)"
   ]
  },
  {
   "cell_type": "markdown",
   "id": "1b8a8c1a",
   "metadata": {},
   "source": [
    "# Rename and save everything as pickle (python 3.8 or higher to read it)"
   ]
  },
  {
   "cell_type": "code",
   "execution_count": 96,
   "id": "c1d30fb1",
   "metadata": {},
   "outputs": [],
   "source": [
    "d = {'population' : 'population_last_year', 'headcount': 'headcount_last_year', \n",
    "     'LSOA population': 'LSOA population_last_year', 'GDP': 'GDP_last_year'}\n",
    "\n",
    "data_final.rename(columns=d, inplace=True)"
   ]
  },
  {
   "cell_type": "code",
   "execution_count": 97,
   "id": "63c16f31",
   "metadata": {},
   "outputs": [
    {
     "data": {
      "text/html": [
       "<div>\n",
       "<style scoped>\n",
       "    .dataframe tbody tr th:only-of-type {\n",
       "        vertical-align: middle;\n",
       "    }\n",
       "\n",
       "    .dataframe tbody tr th {\n",
       "        vertical-align: top;\n",
       "    }\n",
       "\n",
       "    .dataframe thead th {\n",
       "        text-align: right;\n",
       "    }\n",
       "</style>\n",
       "<table border=\"1\" class=\"dataframe\">\n",
       "  <thead>\n",
       "    <tr style=\"text-align: right;\">\n",
       "      <th></th>\n",
       "      <th>Force Name</th>\n",
       "      <th>name</th>\n",
       "      <th>Geo code</th>\n",
       "      <th>Geo code police</th>\n",
       "      <th>year</th>\n",
       "      <th>population_last_year</th>\n",
       "      <th>headcount_last_year</th>\n",
       "      <th>LSOA code</th>\n",
       "      <th>LSOA population_last_year</th>\n",
       "      <th>Month</th>\n",
       "      <th>LSOA name</th>\n",
       "      <th>amount_of_crimes</th>\n",
       "      <th>month</th>\n",
       "      <th>prev_month_crimes</th>\n",
       "      <th>prev_year_crimes</th>\n",
       "      <th>GDP_last_year</th>\n",
       "      <th>IMD score</th>\n",
       "    </tr>\n",
       "  </thead>\n",
       "  <tbody>\n",
       "    <tr>\n",
       "      <th>0</th>\n",
       "      <td>Bedfordshire</td>\n",
       "      <td>Bedford</td>\n",
       "      <td>E06000055</td>\n",
       "      <td>E23000026</td>\n",
       "      <td>2012</td>\n",
       "      <td>157840</td>\n",
       "      <td>1238</td>\n",
       "      <td>E01017466</td>\n",
       "      <td>1937.0</td>\n",
       "      <td>2012-01</td>\n",
       "      <td>Bedford 012A</td>\n",
       "      <td>132</td>\n",
       "      <td>1</td>\n",
       "      <td>133.0</td>\n",
       "      <td>110.0</td>\n",
       "      <td>22533</td>\n",
       "      <td>49.525</td>\n",
       "    </tr>\n",
       "    <tr>\n",
       "      <th>1</th>\n",
       "      <td>Bedfordshire</td>\n",
       "      <td>Bedford</td>\n",
       "      <td>E06000055</td>\n",
       "      <td>E23000026</td>\n",
       "      <td>2012</td>\n",
       "      <td>157840</td>\n",
       "      <td>1238</td>\n",
       "      <td>E01017466</td>\n",
       "      <td>1937.0</td>\n",
       "      <td>2012-02</td>\n",
       "      <td>Bedford 012A</td>\n",
       "      <td>111</td>\n",
       "      <td>2</td>\n",
       "      <td>132.0</td>\n",
       "      <td>129.0</td>\n",
       "      <td>22533</td>\n",
       "      <td>49.525</td>\n",
       "    </tr>\n",
       "    <tr>\n",
       "      <th>2</th>\n",
       "      <td>Bedfordshire</td>\n",
       "      <td>Bedford</td>\n",
       "      <td>E06000055</td>\n",
       "      <td>E23000026</td>\n",
       "      <td>2012</td>\n",
       "      <td>157840</td>\n",
       "      <td>1238</td>\n",
       "      <td>E01017466</td>\n",
       "      <td>1937.0</td>\n",
       "      <td>2012-03</td>\n",
       "      <td>Bedford 012A</td>\n",
       "      <td>147</td>\n",
       "      <td>3</td>\n",
       "      <td>111.0</td>\n",
       "      <td>159.0</td>\n",
       "      <td>22533</td>\n",
       "      <td>49.525</td>\n",
       "    </tr>\n",
       "    <tr>\n",
       "      <th>3</th>\n",
       "      <td>Bedfordshire</td>\n",
       "      <td>Bedford</td>\n",
       "      <td>E06000055</td>\n",
       "      <td>E23000026</td>\n",
       "      <td>2012</td>\n",
       "      <td>157840</td>\n",
       "      <td>1238</td>\n",
       "      <td>E01017466</td>\n",
       "      <td>1937.0</td>\n",
       "      <td>2012-04</td>\n",
       "      <td>Bedford 012A</td>\n",
       "      <td>117</td>\n",
       "      <td>4</td>\n",
       "      <td>147.0</td>\n",
       "      <td>181.0</td>\n",
       "      <td>22533</td>\n",
       "      <td>49.525</td>\n",
       "    </tr>\n",
       "    <tr>\n",
       "      <th>4</th>\n",
       "      <td>Bedfordshire</td>\n",
       "      <td>Bedford</td>\n",
       "      <td>E06000055</td>\n",
       "      <td>E23000026</td>\n",
       "      <td>2012</td>\n",
       "      <td>157840</td>\n",
       "      <td>1238</td>\n",
       "      <td>E01017466</td>\n",
       "      <td>1937.0</td>\n",
       "      <td>2012-05</td>\n",
       "      <td>Bedford 012A</td>\n",
       "      <td>134</td>\n",
       "      <td>5</td>\n",
       "      <td>117.0</td>\n",
       "      <td>147.0</td>\n",
       "      <td>22533</td>\n",
       "      <td>49.525</td>\n",
       "    </tr>\n",
       "    <tr>\n",
       "      <th>...</th>\n",
       "      <td>...</td>\n",
       "      <td>...</td>\n",
       "      <td>...</td>\n",
       "      <td>...</td>\n",
       "      <td>...</td>\n",
       "      <td>...</td>\n",
       "      <td>...</td>\n",
       "      <td>...</td>\n",
       "      <td>...</td>\n",
       "      <td>...</td>\n",
       "      <td>...</td>\n",
       "      <td>...</td>\n",
       "      <td>...</td>\n",
       "      <td>...</td>\n",
       "      <td>...</td>\n",
       "      <td>...</td>\n",
       "      <td>...</td>\n",
       "    </tr>\n",
       "    <tr>\n",
       "      <th>2764045</th>\n",
       "      <td>Wiltshire</td>\n",
       "      <td>Wiltshire</td>\n",
       "      <td>E06000054</td>\n",
       "      <td>E23000038</td>\n",
       "      <td>2019</td>\n",
       "      <td>498064</td>\n",
       "      <td>1021</td>\n",
       "      <td>E01032697</td>\n",
       "      <td>1624.0</td>\n",
       "      <td>2019-08</td>\n",
       "      <td>Wiltshire 041G</td>\n",
       "      <td>13</td>\n",
       "      <td>8</td>\n",
       "      <td>14.0</td>\n",
       "      <td>19.0</td>\n",
       "      <td>26113</td>\n",
       "      <td>16.378</td>\n",
       "    </tr>\n",
       "    <tr>\n",
       "      <th>2764046</th>\n",
       "      <td>Wiltshire</td>\n",
       "      <td>Wiltshire</td>\n",
       "      <td>E06000054</td>\n",
       "      <td>E23000038</td>\n",
       "      <td>2019</td>\n",
       "      <td>498064</td>\n",
       "      <td>1021</td>\n",
       "      <td>E01032697</td>\n",
       "      <td>1624.0</td>\n",
       "      <td>2019-09</td>\n",
       "      <td>Wiltshire 041G</td>\n",
       "      <td>11</td>\n",
       "      <td>9</td>\n",
       "      <td>13.0</td>\n",
       "      <td>17.0</td>\n",
       "      <td>26113</td>\n",
       "      <td>16.378</td>\n",
       "    </tr>\n",
       "    <tr>\n",
       "      <th>2764047</th>\n",
       "      <td>Wiltshire</td>\n",
       "      <td>Wiltshire</td>\n",
       "      <td>E06000054</td>\n",
       "      <td>E23000038</td>\n",
       "      <td>2019</td>\n",
       "      <td>498064</td>\n",
       "      <td>1021</td>\n",
       "      <td>E01032697</td>\n",
       "      <td>1624.0</td>\n",
       "      <td>2019-10</td>\n",
       "      <td>Wiltshire 041G</td>\n",
       "      <td>18</td>\n",
       "      <td>10</td>\n",
       "      <td>11.0</td>\n",
       "      <td>29.0</td>\n",
       "      <td>26113</td>\n",
       "      <td>16.378</td>\n",
       "    </tr>\n",
       "    <tr>\n",
       "      <th>2764048</th>\n",
       "      <td>Wiltshire</td>\n",
       "      <td>Wiltshire</td>\n",
       "      <td>E06000054</td>\n",
       "      <td>E23000038</td>\n",
       "      <td>2019</td>\n",
       "      <td>498064</td>\n",
       "      <td>1021</td>\n",
       "      <td>E01032697</td>\n",
       "      <td>1624.0</td>\n",
       "      <td>2019-11</td>\n",
       "      <td>Wiltshire 041G</td>\n",
       "      <td>14</td>\n",
       "      <td>11</td>\n",
       "      <td>18.0</td>\n",
       "      <td>22.0</td>\n",
       "      <td>26113</td>\n",
       "      <td>16.378</td>\n",
       "    </tr>\n",
       "    <tr>\n",
       "      <th>2764049</th>\n",
       "      <td>Wiltshire</td>\n",
       "      <td>Wiltshire</td>\n",
       "      <td>E06000054</td>\n",
       "      <td>E23000038</td>\n",
       "      <td>2019</td>\n",
       "      <td>498064</td>\n",
       "      <td>1021</td>\n",
       "      <td>E01032697</td>\n",
       "      <td>1624.0</td>\n",
       "      <td>2019-12</td>\n",
       "      <td>Wiltshire 041G</td>\n",
       "      <td>14</td>\n",
       "      <td>12</td>\n",
       "      <td>14.0</td>\n",
       "      <td>12.0</td>\n",
       "      <td>26113</td>\n",
       "      <td>16.378</td>\n",
       "    </tr>\n",
       "  </tbody>\n",
       "</table>\n",
       "<p>2764050 rows × 17 columns</p>\n",
       "</div>"
      ],
      "text/plain": [
       "           Force Name       name   Geo code Geo code police  year  \\\n",
       "0        Bedfordshire    Bedford  E06000055       E23000026  2012   \n",
       "1        Bedfordshire    Bedford  E06000055       E23000026  2012   \n",
       "2        Bedfordshire    Bedford  E06000055       E23000026  2012   \n",
       "3        Bedfordshire    Bedford  E06000055       E23000026  2012   \n",
       "4        Bedfordshire    Bedford  E06000055       E23000026  2012   \n",
       "...               ...        ...        ...             ...   ...   \n",
       "2764045     Wiltshire  Wiltshire  E06000054       E23000038  2019   \n",
       "2764046     Wiltshire  Wiltshire  E06000054       E23000038  2019   \n",
       "2764047     Wiltshire  Wiltshire  E06000054       E23000038  2019   \n",
       "2764048     Wiltshire  Wiltshire  E06000054       E23000038  2019   \n",
       "2764049     Wiltshire  Wiltshire  E06000054       E23000038  2019   \n",
       "\n",
       "         population_last_year  headcount_last_year  LSOA code  \\\n",
       "0                      157840                 1238  E01017466   \n",
       "1                      157840                 1238  E01017466   \n",
       "2                      157840                 1238  E01017466   \n",
       "3                      157840                 1238  E01017466   \n",
       "4                      157840                 1238  E01017466   \n",
       "...                       ...                  ...        ...   \n",
       "2764045                498064                 1021  E01032697   \n",
       "2764046                498064                 1021  E01032697   \n",
       "2764047                498064                 1021  E01032697   \n",
       "2764048                498064                 1021  E01032697   \n",
       "2764049                498064                 1021  E01032697   \n",
       "\n",
       "         LSOA population_last_year    Month       LSOA name  amount_of_crimes  \\\n",
       "0                           1937.0  2012-01    Bedford 012A               132   \n",
       "1                           1937.0  2012-02    Bedford 012A               111   \n",
       "2                           1937.0  2012-03    Bedford 012A               147   \n",
       "3                           1937.0  2012-04    Bedford 012A               117   \n",
       "4                           1937.0  2012-05    Bedford 012A               134   \n",
       "...                            ...      ...             ...               ...   \n",
       "2764045                     1624.0  2019-08  Wiltshire 041G                13   \n",
       "2764046                     1624.0  2019-09  Wiltshire 041G                11   \n",
       "2764047                     1624.0  2019-10  Wiltshire 041G                18   \n",
       "2764048                     1624.0  2019-11  Wiltshire 041G                14   \n",
       "2764049                     1624.0  2019-12  Wiltshire 041G                14   \n",
       "\n",
       "         month  prev_month_crimes  prev_year_crimes  GDP_last_year  IMD score  \n",
       "0            1              133.0             110.0          22533     49.525  \n",
       "1            2              132.0             129.0          22533     49.525  \n",
       "2            3              111.0             159.0          22533     49.525  \n",
       "3            4              147.0             181.0          22533     49.525  \n",
       "4            5              117.0             147.0          22533     49.525  \n",
       "...        ...                ...               ...            ...        ...  \n",
       "2764045      8               14.0              19.0          26113     16.378  \n",
       "2764046      9               13.0              17.0          26113     16.378  \n",
       "2764047     10               11.0              29.0          26113     16.378  \n",
       "2764048     11               18.0              22.0          26113     16.378  \n",
       "2764049     12               14.0              12.0          26113     16.378  \n",
       "\n",
       "[2764050 rows x 17 columns]"
      ]
     },
     "execution_count": 97,
     "metadata": {},
     "output_type": "execute_result"
    }
   ],
   "source": [
    "data_final"
   ]
  },
  {
   "cell_type": "code",
   "execution_count": 99,
   "id": "d76fe8f9",
   "metadata": {},
   "outputs": [],
   "source": [
    "data_final.to_pickle(\"crime_data_final.pkl\") "
   ]
  },
  {
   "cell_type": "markdown",
   "id": "1b8a8c1a",
   "metadata": {},
   "source": [
    "# Check how much data did we lost: 15.86% of data, I have no idea where and how"
   ]
  },
  {
   "cell_type": "code",
   "execution_count": 15,
   "id": "e43c020c",
   "metadata": {},
   "outputs": [
    {
     "data": {
      "text/plain": [
       "15.864645587752745"
      ]
     },
     "execution_count": 15,
     "metadata": {},
     "output_type": "execute_result"
    }
   ],
   "source": [
    "\n",
    "(1 - (data_final.shape[0]/crime_per_district.shape[0]))*100"
   ]
  },
  {
   "cell_type": "code",
   "execution_count": 6,
   "id": "fed735f2",
   "metadata": {},
   "outputs": [],
   "source": [
    "conn.close()"
   ]
  }
 ],
 "metadata": {
  "kernelspec": {
   "display_name": "Python 3 (ipykernel)",
   "language": "python",
   "name": "python3"
  },
  "language_info": {
   "codemirror_mode": {
    "name": "ipython",
    "version": 3
   },
   "file_extension": ".py",
   "mimetype": "text/x-python",
   "name": "python",
   "nbconvert_exporter": "python",
   "pygments_lexer": "ipython3",
   "version": "3.9.7"
  }
 },
 "nbformat": 4,
 "nbformat_minor": 5
}
