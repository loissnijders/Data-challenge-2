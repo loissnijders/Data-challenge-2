{
 "cells": [
  {
   "cell_type": "code",
   "execution_count": 1,
   "id": "8dc6a66e",
   "metadata": {},
   "outputs": [],
   "source": [
    "import pandas as pd \n",
    "import numpy as np\n",
    "import matplotlib.pyplot as plt \n",
    "import sqlite3\n",
    "import pickle\n",
    "pd.set_option('display.max_columns', None)\n",
    "import pickle\n",
    "from sklearn.ensemble import RandomForestRegressor\n",
    "from sklearn.metrics import mean_squared_error \n",
    "from sklearn.metrics import mean_absolute_error\n",
    "from sklearn.metrics import r2_score\n",
    "from sklearn.preprocessing import MinMaxScaler\n",
    "from sklearn.preprocessing import LabelEncoder\n",
    "from sklearn.model_selection import RandomizedSearchCV\n",
    "from sklearn.metrics import precision_score, recall_score, f1_score, accuracy_score"
   ]
  },
  {
   "cell_type": "code",
   "execution_count": 2,
   "id": "b5f9a0e7",
   "metadata": {},
   "outputs": [],
   "source": [
    "df_data2 = pd.read_pickle(\"df_data2.pickle\") "
   ]
  },
  {
   "cell_type": "code",
   "execution_count": 3,
   "id": "088c1864",
   "metadata": {},
   "outputs": [
    {
     "data": {
      "text/html": [
       "<div>\n",
       "<style scoped>\n",
       "    .dataframe tbody tr th:only-of-type {\n",
       "        vertical-align: middle;\n",
       "    }\n",
       "\n",
       "    .dataframe tbody tr th {\n",
       "        vertical-align: top;\n",
       "    }\n",
       "\n",
       "    .dataframe thead th {\n",
       "        text-align: right;\n",
       "    }\n",
       "</style>\n",
       "<table border=\"1\" class=\"dataframe\">\n",
       "  <thead>\n",
       "    <tr style=\"text-align: right;\">\n",
       "      <th></th>\n",
       "      <th>District name</th>\n",
       "      <th>district code</th>\n",
       "      <th>Geo code police</th>\n",
       "      <th>Force Name</th>\n",
       "      <th>year</th>\n",
       "      <th>population</th>\n",
       "      <th>headcount</th>\n",
       "      <th>Month</th>\n",
       "      <th>LSOA name</th>\n",
       "      <th>LSOA code</th>\n",
       "      <th>amount_of_crimes</th>\n",
       "      <th>month</th>\n",
       "    </tr>\n",
       "  </thead>\n",
       "  <tbody>\n",
       "    <tr>\n",
       "      <th>0</th>\n",
       "      <td>Adur</td>\n",
       "      <td>E07000223</td>\n",
       "      <td>E23000033</td>\n",
       "      <td>Sussex</td>\n",
       "      <td>2011</td>\n",
       "      <td>61334</td>\n",
       "      <td>3181</td>\n",
       "      <td>2011-01</td>\n",
       "      <td>Brighton and Hove 026A</td>\n",
       "      <td>E01016849</td>\n",
       "      <td>19</td>\n",
       "      <td>1</td>\n",
       "    </tr>\n",
       "    <tr>\n",
       "      <th>1</th>\n",
       "      <td>Adur</td>\n",
       "      <td>E07000223</td>\n",
       "      <td>E23000033</td>\n",
       "      <td>Sussex</td>\n",
       "      <td>2011</td>\n",
       "      <td>61334</td>\n",
       "      <td>3181</td>\n",
       "      <td>2011-01</td>\n",
       "      <td>Brighton and Hove 029A</td>\n",
       "      <td>E01016850</td>\n",
       "      <td>20</td>\n",
       "      <td>1</td>\n",
       "    </tr>\n",
       "    <tr>\n",
       "      <th>2</th>\n",
       "      <td>Adur</td>\n",
       "      <td>E07000223</td>\n",
       "      <td>E23000033</td>\n",
       "      <td>Sussex</td>\n",
       "      <td>2011</td>\n",
       "      <td>61334</td>\n",
       "      <td>3181</td>\n",
       "      <td>2011-01</td>\n",
       "      <td>Brighton and Hove 029B</td>\n",
       "      <td>E01016851</td>\n",
       "      <td>4</td>\n",
       "      <td>1</td>\n",
       "    </tr>\n",
       "    <tr>\n",
       "      <th>3</th>\n",
       "      <td>Adur</td>\n",
       "      <td>E07000223</td>\n",
       "      <td>E23000033</td>\n",
       "      <td>Sussex</td>\n",
       "      <td>2011</td>\n",
       "      <td>61334</td>\n",
       "      <td>3181</td>\n",
       "      <td>2011-01</td>\n",
       "      <td>Brighton and Hove 026B</td>\n",
       "      <td>E01016852</td>\n",
       "      <td>19</td>\n",
       "      <td>1</td>\n",
       "    </tr>\n",
       "    <tr>\n",
       "      <th>4</th>\n",
       "      <td>Adur</td>\n",
       "      <td>E07000223</td>\n",
       "      <td>E23000033</td>\n",
       "      <td>Sussex</td>\n",
       "      <td>2011</td>\n",
       "      <td>61334</td>\n",
       "      <td>3181</td>\n",
       "      <td>2011-01</td>\n",
       "      <td>Brighton and Hove 026C</td>\n",
       "      <td>E01016853</td>\n",
       "      <td>8</td>\n",
       "      <td>1</td>\n",
       "    </tr>\n",
       "    <tr>\n",
       "      <th>...</th>\n",
       "      <td>...</td>\n",
       "      <td>...</td>\n",
       "      <td>...</td>\n",
       "      <td>...</td>\n",
       "      <td>...</td>\n",
       "      <td>...</td>\n",
       "      <td>...</td>\n",
       "      <td>...</td>\n",
       "      <td>...</td>\n",
       "      <td>...</td>\n",
       "      <td>...</td>\n",
       "      <td>...</td>\n",
       "    </tr>\n",
       "    <tr>\n",
       "      <th>4358683</th>\n",
       "      <td>Wiltshire</td>\n",
       "      <td>E06000054</td>\n",
       "      <td>E23000038</td>\n",
       "      <td>Wiltshire</td>\n",
       "      <td>2019</td>\n",
       "      <td>61334</td>\n",
       "      <td>3181</td>\n",
       "      <td>2019-12</td>\n",
       "      <td>Swindon 028E</td>\n",
       "      <td>E01032710</td>\n",
       "      <td>28</td>\n",
       "      <td>12</td>\n",
       "    </tr>\n",
       "    <tr>\n",
       "      <th>4358684</th>\n",
       "      <td>Wiltshire</td>\n",
       "      <td>E06000054</td>\n",
       "      <td>E23000038</td>\n",
       "      <td>Wiltshire</td>\n",
       "      <td>2019</td>\n",
       "      <td>61334</td>\n",
       "      <td>3181</td>\n",
       "      <td>2019-12</td>\n",
       "      <td>Swindon 027D</td>\n",
       "      <td>E01032711</td>\n",
       "      <td>3</td>\n",
       "      <td>12</td>\n",
       "    </tr>\n",
       "    <tr>\n",
       "      <th>4358685</th>\n",
       "      <td>Wiltshire</td>\n",
       "      <td>E06000054</td>\n",
       "      <td>E23000038</td>\n",
       "      <td>Wiltshire</td>\n",
       "      <td>2019</td>\n",
       "      <td>61334</td>\n",
       "      <td>3181</td>\n",
       "      <td>2019-12</td>\n",
       "      <td>Swindon 027E</td>\n",
       "      <td>E01032712</td>\n",
       "      <td>5</td>\n",
       "      <td>12</td>\n",
       "    </tr>\n",
       "    <tr>\n",
       "      <th>4358686</th>\n",
       "      <td>Wiltshire</td>\n",
       "      <td>E06000054</td>\n",
       "      <td>E23000038</td>\n",
       "      <td>Wiltshire</td>\n",
       "      <td>2019</td>\n",
       "      <td>61334</td>\n",
       "      <td>3181</td>\n",
       "      <td>2019-12</td>\n",
       "      <td>Swindon 019F</td>\n",
       "      <td>E01032715</td>\n",
       "      <td>27</td>\n",
       "      <td>12</td>\n",
       "    </tr>\n",
       "    <tr>\n",
       "      <th>4358687</th>\n",
       "      <td>Wiltshire</td>\n",
       "      <td>E06000054</td>\n",
       "      <td>E23000038</td>\n",
       "      <td>Wiltshire</td>\n",
       "      <td>2019</td>\n",
       "      <td>61334</td>\n",
       "      <td>3181</td>\n",
       "      <td>2019-12</td>\n",
       "      <td>Swindon 012G</td>\n",
       "      <td>E01032716</td>\n",
       "      <td>25</td>\n",
       "      <td>12</td>\n",
       "    </tr>\n",
       "  </tbody>\n",
       "</table>\n",
       "<p>40332511 rows × 12 columns</p>\n",
       "</div>"
      ],
      "text/plain": [
       "        District name district code Geo code police Force Name  year  \\\n",
       "0                Adur     E07000223       E23000033     Sussex  2011   \n",
       "1                Adur     E07000223       E23000033     Sussex  2011   \n",
       "2                Adur     E07000223       E23000033     Sussex  2011   \n",
       "3                Adur     E07000223       E23000033     Sussex  2011   \n",
       "4                Adur     E07000223       E23000033     Sussex  2011   \n",
       "...               ...           ...             ...        ...   ...   \n",
       "4358683     Wiltshire     E06000054       E23000038  Wiltshire  2019   \n",
       "4358684     Wiltshire     E06000054       E23000038  Wiltshire  2019   \n",
       "4358685     Wiltshire     E06000054       E23000038  Wiltshire  2019   \n",
       "4358686     Wiltshire     E06000054       E23000038  Wiltshire  2019   \n",
       "4358687     Wiltshire     E06000054       E23000038  Wiltshire  2019   \n",
       "\n",
       "         population  headcount    Month               LSOA name  LSOA code  \\\n",
       "0             61334       3181  2011-01  Brighton and Hove 026A  E01016849   \n",
       "1             61334       3181  2011-01  Brighton and Hove 029A  E01016850   \n",
       "2             61334       3181  2011-01  Brighton and Hove 029B  E01016851   \n",
       "3             61334       3181  2011-01  Brighton and Hove 026B  E01016852   \n",
       "4             61334       3181  2011-01  Brighton and Hove 026C  E01016853   \n",
       "...             ...        ...      ...                     ...        ...   \n",
       "4358683       61334       3181  2019-12            Swindon 028E  E01032710   \n",
       "4358684       61334       3181  2019-12            Swindon 027D  E01032711   \n",
       "4358685       61334       3181  2019-12            Swindon 027E  E01032712   \n",
       "4358686       61334       3181  2019-12            Swindon 019F  E01032715   \n",
       "4358687       61334       3181  2019-12            Swindon 012G  E01032716   \n",
       "\n",
       "         amount_of_crimes  month  \n",
       "0                      19      1  \n",
       "1                      20      1  \n",
       "2                       4      1  \n",
       "3                      19      1  \n",
       "4                       8      1  \n",
       "...                   ...    ...  \n",
       "4358683                28     12  \n",
       "4358684                 3     12  \n",
       "4358685                 5     12  \n",
       "4358686                27     12  \n",
       "4358687                25     12  \n",
       "\n",
       "[40332511 rows x 12 columns]"
      ]
     },
     "execution_count": 3,
     "metadata": {},
     "output_type": "execute_result"
    }
   ],
   "source": [
    "df_data2"
   ]
  },
  {
   "cell_type": "code",
   "execution_count": 4,
   "id": "590c2165",
   "metadata": {},
   "outputs": [],
   "source": [
    "def evaluate(model, test_features, test_labels, X_test, y_test):\n",
    "    pred = model.predict(X_test)\n",
    "    rmse = np.sqrt(mean_squared_error(y_test, pred))\n",
    "    abso = mean_absolute_error(y_test, pred)\n",
    "    r2 = r2_score(y_test, pred)\n",
    "    print(f'The rmse of the model is {rmse}.')\n",
    "    print(f'The mean abs error of the model is {abso}.')\n",
    "    print(f'The r2 of the model is {r2}, using weighted average.')\n",
    "    \n",
    "    return r2"
   ]
  },
  {
   "cell_type": "markdown",
   "id": "4ae39706",
   "metadata": {},
   "source": [
    "### https://towardsdatascience.com/how-data-normalization-affects-your-random-forest-algorithm-fbc6753b4ddf"
   ]
  },
  {
   "cell_type": "markdown",
   "id": "45997d06",
   "metadata": {},
   "source": [
    "# Headcount and population scaled (only month)"
   ]
  },
  {
   "cell_type": "code",
   "execution_count": 8,
   "id": "ffa6a733",
   "metadata": {},
   "outputs": [],
   "source": [
    "df_data = df_data2.copy()"
   ]
  },
  {
   "cell_type": "code",
   "execution_count": 9,
   "id": "8658d7b4",
   "metadata": {},
   "outputs": [],
   "source": [
    "lab = LabelEncoder()\n",
    "labels_force = df_data['Force Name'].unique()\n",
    "lab.fit(labels_force)\n",
    "df_data[['Force Name']] = df_data[['Force Name']].apply(lab.fit_transform)"
   ]
  },
  {
   "cell_type": "code",
   "execution_count": 10,
   "id": "d2183a8e",
   "metadata": {},
   "outputs": [],
   "source": [
    "labels_lsoa = df_data['LSOA code'].unique()\n",
    "lab.fit(labels_lsoa)\n",
    "df_data[['LSOA code']] = df_data[['LSOA code']].apply(lab.fit_transform)"
   ]
  },
  {
   "cell_type": "code",
   "execution_count": 11,
   "id": "15bc5fc6",
   "metadata": {},
   "outputs": [],
   "source": [
    "scaler = MinMaxScaler()\n",
    "scaler.fit(df_data[['population']])\n",
    "df_data['population'] = scaler.transform(df_data[['population']])"
   ]
  },
  {
   "cell_type": "code",
   "execution_count": 12,
   "id": "0c32f7c7",
   "metadata": {},
   "outputs": [],
   "source": [
    "scaler.fit(df_data[['headcount']])\n",
    "df_data['headcount'] = scaler.transform(df_data[['headcount']])"
   ]
  },
  {
   "cell_type": "code",
   "execution_count": 13,
   "id": "a5be6fc4",
   "metadata": {},
   "outputs": [],
   "source": [
    "df_train = df_data[df_data['year']<2019]\n",
    "df_test = df_data[df_data['year']==2019]"
   ]
  },
  {
   "cell_type": "code",
   "execution_count": 14,
   "id": "171b3b8f",
   "metadata": {},
   "outputs": [],
   "source": [
    "X_train1 = df_train[['Force Name', 'population', 'headcount', 'LSOA code', 'month']]\n",
    "y_train1 = df_train['amount_of_crimes']\n",
    "\n",
    "X_test1 = df_test[['Force Name', 'population', 'headcount', 'LSOA code', 'month']]\n",
    "y_test1 = df_test['amount_of_crimes']"
   ]
  },
  {
   "cell_type": "code",
   "execution_count": 15,
   "id": "50a053ca",
   "metadata": {},
   "outputs": [],
   "source": [
    "rf1 = RandomForestRegressor(max_depth = 10, n_jobs = -1)"
   ]
  },
  {
   "cell_type": "code",
   "execution_count": 18,
   "id": "71682244",
   "metadata": {},
   "outputs": [
    {
     "data": {
      "text/plain": [
       "RandomForestRegressor(max_depth=10, n_jobs=-1)"
      ]
     },
     "execution_count": 18,
     "metadata": {},
     "output_type": "execute_result"
    }
   ],
   "source": [
    "rf1.fit(X_train1, y_train1)"
   ]
  },
  {
   "cell_type": "code",
   "execution_count": 26,
   "id": "699593d7",
   "metadata": {},
   "outputs": [
    {
     "name": "stdout",
     "output_type": "stream",
     "text": [
      "The rmse of the model is 15.39677563074548.\n",
      "The mean abs error of the model is 9.103496985718103.\n",
      "The r2 of the model is 0.1999564416243068, using weighted average.\n"
     ]
    }
   ],
   "source": [
    "base_r2_1 = evaluate(rf1, X_train1, y_train1, X_test1, y_test1)"
   ]
  },
  {
   "cell_type": "code",
   "execution_count": 27,
   "id": "322d0fb2",
   "metadata": {},
   "outputs": [
    {
     "data": {
      "text/html": [
       "<div>\n",
       "<style scoped>\n",
       "    .dataframe tbody tr th:only-of-type {\n",
       "        vertical-align: middle;\n",
       "    }\n",
       "\n",
       "    .dataframe tbody tr th {\n",
       "        vertical-align: top;\n",
       "    }\n",
       "\n",
       "    .dataframe thead th {\n",
       "        text-align: right;\n",
       "    }\n",
       "</style>\n",
       "<table border=\"1\" class=\"dataframe\">\n",
       "  <thead>\n",
       "    <tr style=\"text-align: right;\">\n",
       "      <th></th>\n",
       "      <th>Force Name</th>\n",
       "      <th>population</th>\n",
       "      <th>headcount</th>\n",
       "      <th>LSOA code</th>\n",
       "      <th>month</th>\n",
       "    </tr>\n",
       "  </thead>\n",
       "  <tbody>\n",
       "    <tr>\n",
       "      <th>0</th>\n",
       "      <td>33</td>\n",
       "      <td>0.051875</td>\n",
       "      <td>0.073722</td>\n",
       "      <td>15724</td>\n",
       "      <td>1</td>\n",
       "    </tr>\n",
       "    <tr>\n",
       "      <th>1</th>\n",
       "      <td>33</td>\n",
       "      <td>0.051875</td>\n",
       "      <td>0.073722</td>\n",
       "      <td>15725</td>\n",
       "      <td>1</td>\n",
       "    </tr>\n",
       "    <tr>\n",
       "      <th>2</th>\n",
       "      <td>33</td>\n",
       "      <td>0.051875</td>\n",
       "      <td>0.073722</td>\n",
       "      <td>15726</td>\n",
       "      <td>1</td>\n",
       "    </tr>\n",
       "    <tr>\n",
       "      <th>3</th>\n",
       "      <td>33</td>\n",
       "      <td>0.051875</td>\n",
       "      <td>0.073722</td>\n",
       "      <td>15727</td>\n",
       "      <td>1</td>\n",
       "    </tr>\n",
       "    <tr>\n",
       "      <th>4</th>\n",
       "      <td>33</td>\n",
       "      <td>0.051875</td>\n",
       "      <td>0.073722</td>\n",
       "      <td>15728</td>\n",
       "      <td>1</td>\n",
       "    </tr>\n",
       "    <tr>\n",
       "      <th>...</th>\n",
       "      <td>...</td>\n",
       "      <td>...</td>\n",
       "      <td>...</td>\n",
       "      <td>...</td>\n",
       "      <td>...</td>\n",
       "    </tr>\n",
       "    <tr>\n",
       "      <th>35973818</th>\n",
       "      <td>39</td>\n",
       "      <td>0.435263</td>\n",
       "      <td>0.006248</td>\n",
       "      <td>30698</td>\n",
       "      <td>12</td>\n",
       "    </tr>\n",
       "    <tr>\n",
       "      <th>35973819</th>\n",
       "      <td>39</td>\n",
       "      <td>0.435263</td>\n",
       "      <td>0.006248</td>\n",
       "      <td>30699</td>\n",
       "      <td>12</td>\n",
       "    </tr>\n",
       "    <tr>\n",
       "      <th>35973820</th>\n",
       "      <td>39</td>\n",
       "      <td>0.435263</td>\n",
       "      <td>0.006248</td>\n",
       "      <td>30700</td>\n",
       "      <td>12</td>\n",
       "    </tr>\n",
       "    <tr>\n",
       "      <th>35973821</th>\n",
       "      <td>39</td>\n",
       "      <td>0.435263</td>\n",
       "      <td>0.006248</td>\n",
       "      <td>30701</td>\n",
       "      <td>12</td>\n",
       "    </tr>\n",
       "    <tr>\n",
       "      <th>35973822</th>\n",
       "      <td>39</td>\n",
       "      <td>0.435263</td>\n",
       "      <td>0.006248</td>\n",
       "      <td>30702</td>\n",
       "      <td>12</td>\n",
       "    </tr>\n",
       "  </tbody>\n",
       "</table>\n",
       "<p>35973823 rows × 5 columns</p>\n",
       "</div>"
      ],
      "text/plain": [
       "          Force Name  population  headcount  LSOA code  month\n",
       "0                 33    0.051875   0.073722      15724      1\n",
       "1                 33    0.051875   0.073722      15725      1\n",
       "2                 33    0.051875   0.073722      15726      1\n",
       "3                 33    0.051875   0.073722      15727      1\n",
       "4                 33    0.051875   0.073722      15728      1\n",
       "...              ...         ...        ...        ...    ...\n",
       "35973818          39    0.435263   0.006248      30698     12\n",
       "35973819          39    0.435263   0.006248      30699     12\n",
       "35973820          39    0.435263   0.006248      30700     12\n",
       "35973821          39    0.435263   0.006248      30701     12\n",
       "35973822          39    0.435263   0.006248      30702     12\n",
       "\n",
       "[35973823 rows x 5 columns]"
      ]
     },
     "execution_count": 27,
     "metadata": {},
     "output_type": "execute_result"
    }
   ],
   "source": [
    "X_train1"
   ]
  },
  {
   "cell_type": "code",
   "execution_count": 28,
   "id": "e7349eb7",
   "metadata": {},
   "outputs": [
    {
     "data": {
      "text/plain": [
       "array([0.02498654, 0.00823519, 0.01519756, 0.94810593, 0.00347479])"
      ]
     },
     "execution_count": 28,
     "metadata": {},
     "output_type": "execute_result"
    }
   ],
   "source": [
    "rf1.feature_importances_"
   ]
  },
  {
   "cell_type": "markdown",
   "id": "e85493c6",
   "metadata": {},
   "source": [
    "# Headcount, population, year, month scaled"
   ]
  },
  {
   "cell_type": "code",
   "execution_count": null,
   "id": "04a12a63",
   "metadata": {},
   "outputs": [],
   "source": [
    "df_data=df_data2.copy()"
   ]
  },
  {
   "cell_type": "code",
   "execution_count": null,
   "id": "8172b423",
   "metadata": {},
   "outputs": [],
   "source": [
    "lab = LabelEncoder()\n",
    "labels_force = df_data['Force Name'].unique()\n",
    "lab.fit(labels_force)\n",
    "df_data[['Force Name']] = df_data[['Force Name']].apply(lab.fit_transform)"
   ]
  },
  {
   "cell_type": "code",
   "execution_count": null,
   "id": "349e6124",
   "metadata": {},
   "outputs": [],
   "source": [
    "labels_lsoa = df_data['LSOA code'].unique()\n",
    "lab.fit(labels_lsoa)\n",
    "df_data[['LSOA code']] = df_data[['LSOA code']].apply(lab.fit_transform)"
   ]
  },
  {
   "cell_type": "code",
   "execution_count": null,
   "id": "0ca734db",
   "metadata": {},
   "outputs": [],
   "source": [
    "scaler = MinMaxScaler()\n",
    "scaler.fit(df_data[['population']])\n",
    "df_data['population'] = scaler.transform(df_data[['population']])"
   ]
  },
  {
   "cell_type": "code",
   "execution_count": null,
   "id": "d0b7bd6b",
   "metadata": {},
   "outputs": [],
   "source": [
    "scaler.fit(df_data[['headcount']])\n",
    "df_data['headcount'] = scaler.transform(df_data[['headcount']])"
   ]
  },
  {
   "cell_type": "code",
   "execution_count": null,
   "id": "9b24a524",
   "metadata": {},
   "outputs": [],
   "source": [
    "scaler.fit(df_data[['year']])\n",
    "df_data['year'] = scaler.transform(df_data[['year']])"
   ]
  },
  {
   "cell_type": "code",
   "execution_count": null,
   "id": "352408c1",
   "metadata": {},
   "outputs": [],
   "source": [
    "scaler.fit(df_data[['month']])\n",
    "df_data['month'] = scaler.transform(df_data[['month']])"
   ]
  },
  {
   "cell_type": "code",
   "execution_count": null,
   "id": "8d3f7547",
   "metadata": {},
   "outputs": [],
   "source": [
    "df_train = df_data[df_data['year']<2019]\n",
    "df_test = df_data[df_data['year']==2019]"
   ]
  },
  {
   "cell_type": "code",
   "execution_count": null,
   "id": "a198bb19",
   "metadata": {},
   "outputs": [],
   "source": [
    "X_train2 = df_train[['Force Name', 'LSOA code', 'population', 'headcount', 'year', 'month']]\n",
    "y_train2 = df_train['amount_of_crimes']\n",
    "\n",
    "X_test2 = df_test[['Force Name', 'LSOA code', 'population', 'headcount', 'year', 'month']]\n",
    "y_test2 = df_test['amount_of_crimes']"
   ]
  },
  {
   "cell_type": "code",
   "execution_count": null,
   "id": "ca493f59",
   "metadata": {},
   "outputs": [],
   "source": [
    "rf2 =  RandomForestRegressor(max_depth = 10, n_jobs = -1)"
   ]
  },
  {
   "cell_type": "code",
   "execution_count": null,
   "id": "7823e6f4",
   "metadata": {},
   "outputs": [],
   "source": [
    "rf2.fit(X_train2, y_train2)"
   ]
  },
  {
   "cell_type": "code",
   "execution_count": null,
   "id": "6e1f6f26",
   "metadata": {},
   "outputs": [],
   "source": [
    "base_r2_2 = evaluate(rf2, X_train2, y_train2, X_test2, y_test2)"
   ]
  },
  {
   "cell_type": "code",
   "execution_count": null,
   "id": "17a1b270",
   "metadata": {},
   "outputs": [],
   "source": [
    "X_train2"
   ]
  },
  {
   "cell_type": "code",
   "execution_count": null,
   "id": "a4c81f91",
   "metadata": {},
   "outputs": [],
   "source": [
    "rf2.feature_importances_"
   ]
  },
  {
   "cell_type": "markdown",
   "id": "808c75d1",
   "metadata": {},
   "source": [
    "# RF3 Headcount, population scaled\n",
    "# Month (scaled) instead of month and year"
   ]
  },
  {
   "cell_type": "code",
   "execution_count": 41,
   "id": "15d7ed31",
   "metadata": {},
   "outputs": [],
   "source": [
    "df_data=df_data2.copy()"
   ]
  },
  {
   "cell_type": "code",
   "execution_count": 42,
   "id": "14c9aab9",
   "metadata": {},
   "outputs": [],
   "source": [
    "lab = LabelEncoder()\n",
    "labels_force = df_data['Force Name'].unique()\n",
    "lab.fit(labels_force)\n",
    "df_data[['Force Name']] = df_data[['Force Name']].apply(lab.fit_transform)"
   ]
  },
  {
   "cell_type": "code",
   "execution_count": 43,
   "id": "7d3cc386",
   "metadata": {},
   "outputs": [],
   "source": [
    "labels_lsoa = df_data['LSOA code'].unique()\n",
    "lab.fit(labels_lsoa)\n",
    "df_data[['LSOA code']] = df_data[['LSOA code']].apply(lab.fit_transform)"
   ]
  },
  {
   "cell_type": "code",
   "execution_count": 44,
   "id": "6666636f",
   "metadata": {},
   "outputs": [],
   "source": [
    "labels_lsoa = df_data['Month'].unique()\n",
    "lab.fit(labels_lsoa)\n",
    "df_data[['Month']] = df_data[['Month']].apply(lab.fit_transform)"
   ]
  },
  {
   "cell_type": "code",
   "execution_count": 45,
   "id": "27c03a20",
   "metadata": {},
   "outputs": [],
   "source": [
    "scaler.fit(df_data[['headcount']])\n",
    "df_data['headcount'] = scaler.transform(df_data[['headcount']])"
   ]
  },
  {
   "cell_type": "code",
   "execution_count": 46,
   "id": "39fbf724",
   "metadata": {},
   "outputs": [],
   "source": [
    "scaler = MinMaxScaler()\n",
    "scaler.fit(df_data[['population']])\n",
    "df_data['population'] = scaler.transform(df_data[['population']])"
   ]
  },
  {
   "cell_type": "code",
   "execution_count": 47,
   "id": "f4b325bc",
   "metadata": {},
   "outputs": [],
   "source": [
    "df_train = df_data[df_data['year']<2019]\n",
    "df_test = df_data[df_data['year']==2019]"
   ]
  },
  {
   "cell_type": "code",
   "execution_count": 48,
   "id": "bbbac389",
   "metadata": {},
   "outputs": [],
   "source": [
    "X_train3 = df_train[['population','headcount', 'LSOA code', 'Month']]\n",
    "y_train3 = df_train['amount_of_crimes']\n",
    "\n",
    "X_test3 = df_test[['population','headcount', 'LSOA code', 'Month']]\n",
    "y_test3 = df_test['amount_of_crimes']"
   ]
  },
  {
   "cell_type": "code",
   "execution_count": 49,
   "id": "36e65d2f",
   "metadata": {},
   "outputs": [],
   "source": [
    "rf3 =  RandomForestRegressor(max_depth = 10, n_jobs = -1)"
   ]
  },
  {
   "cell_type": "code",
   "execution_count": 50,
   "id": "ac559cd5",
   "metadata": {},
   "outputs": [
    {
     "data": {
      "text/plain": [
       "RandomForestRegressor(max_depth=10, n_jobs=-1)"
      ]
     },
     "execution_count": 50,
     "metadata": {},
     "output_type": "execute_result"
    }
   ],
   "source": [
    "rf3.fit(X_train3, y_train3)"
   ]
  },
  {
   "cell_type": "code",
   "execution_count": 51,
   "id": "891ee092",
   "metadata": {},
   "outputs": [
    {
     "name": "stdout",
     "output_type": "stream",
     "text": [
      "The rmse of the model is 15.17098938568052.\n",
      "The mean abs error of the model is 8.660490490314299.\n",
      "The r2 of the model is 0.22324889516445456, using weighted average.\n"
     ]
    }
   ],
   "source": [
    "base_r2_3 = evaluate(rf3, X_train3, y_train3, X_test3, y_test3)"
   ]
  },
  {
   "cell_type": "code",
   "execution_count": 52,
   "id": "54cce3ce",
   "metadata": {},
   "outputs": [
    {
     "data": {
      "text/html": [
       "<div>\n",
       "<style scoped>\n",
       "    .dataframe tbody tr th:only-of-type {\n",
       "        vertical-align: middle;\n",
       "    }\n",
       "\n",
       "    .dataframe tbody tr th {\n",
       "        vertical-align: top;\n",
       "    }\n",
       "\n",
       "    .dataframe thead th {\n",
       "        text-align: right;\n",
       "    }\n",
       "</style>\n",
       "<table border=\"1\" class=\"dataframe\">\n",
       "  <thead>\n",
       "    <tr style=\"text-align: right;\">\n",
       "      <th></th>\n",
       "      <th>population</th>\n",
       "      <th>headcount</th>\n",
       "      <th>LSOA code</th>\n",
       "      <th>Month</th>\n",
       "    </tr>\n",
       "  </thead>\n",
       "  <tbody>\n",
       "    <tr>\n",
       "      <th>0</th>\n",
       "      <td>0.051875</td>\n",
       "      <td>0.073722</td>\n",
       "      <td>15724</td>\n",
       "      <td>0</td>\n",
       "    </tr>\n",
       "    <tr>\n",
       "      <th>1</th>\n",
       "      <td>0.051875</td>\n",
       "      <td>0.073722</td>\n",
       "      <td>15725</td>\n",
       "      <td>0</td>\n",
       "    </tr>\n",
       "    <tr>\n",
       "      <th>2</th>\n",
       "      <td>0.051875</td>\n",
       "      <td>0.073722</td>\n",
       "      <td>15726</td>\n",
       "      <td>0</td>\n",
       "    </tr>\n",
       "    <tr>\n",
       "      <th>3</th>\n",
       "      <td>0.051875</td>\n",
       "      <td>0.073722</td>\n",
       "      <td>15727</td>\n",
       "      <td>0</td>\n",
       "    </tr>\n",
       "    <tr>\n",
       "      <th>4</th>\n",
       "      <td>0.051875</td>\n",
       "      <td>0.073722</td>\n",
       "      <td>15728</td>\n",
       "      <td>0</td>\n",
       "    </tr>\n",
       "    <tr>\n",
       "      <th>...</th>\n",
       "      <td>...</td>\n",
       "      <td>...</td>\n",
       "      <td>...</td>\n",
       "      <td>...</td>\n",
       "    </tr>\n",
       "    <tr>\n",
       "      <th>35973818</th>\n",
       "      <td>0.435263</td>\n",
       "      <td>0.006248</td>\n",
       "      <td>30698</td>\n",
       "      <td>95</td>\n",
       "    </tr>\n",
       "    <tr>\n",
       "      <th>35973819</th>\n",
       "      <td>0.435263</td>\n",
       "      <td>0.006248</td>\n",
       "      <td>30699</td>\n",
       "      <td>95</td>\n",
       "    </tr>\n",
       "    <tr>\n",
       "      <th>35973820</th>\n",
       "      <td>0.435263</td>\n",
       "      <td>0.006248</td>\n",
       "      <td>30700</td>\n",
       "      <td>95</td>\n",
       "    </tr>\n",
       "    <tr>\n",
       "      <th>35973821</th>\n",
       "      <td>0.435263</td>\n",
       "      <td>0.006248</td>\n",
       "      <td>30701</td>\n",
       "      <td>95</td>\n",
       "    </tr>\n",
       "    <tr>\n",
       "      <th>35973822</th>\n",
       "      <td>0.435263</td>\n",
       "      <td>0.006248</td>\n",
       "      <td>30702</td>\n",
       "      <td>95</td>\n",
       "    </tr>\n",
       "  </tbody>\n",
       "</table>\n",
       "<p>35973823 rows × 4 columns</p>\n",
       "</div>"
      ],
      "text/plain": [
       "          population  headcount  LSOA code  Month\n",
       "0           0.051875   0.073722      15724      0\n",
       "1           0.051875   0.073722      15725      0\n",
       "2           0.051875   0.073722      15726      0\n",
       "3           0.051875   0.073722      15727      0\n",
       "4           0.051875   0.073722      15728      0\n",
       "...              ...        ...        ...    ...\n",
       "35973818    0.435263   0.006248      30698     95\n",
       "35973819    0.435263   0.006248      30699     95\n",
       "35973820    0.435263   0.006248      30700     95\n",
       "35973821    0.435263   0.006248      30701     95\n",
       "35973822    0.435263   0.006248      30702     95\n",
       "\n",
       "[35973823 rows x 4 columns]"
      ]
     },
     "execution_count": 52,
     "metadata": {},
     "output_type": "execute_result"
    }
   ],
   "source": [
    "X_train3"
   ]
  },
  {
   "cell_type": "code",
   "execution_count": 53,
   "id": "68ab2301",
   "metadata": {},
   "outputs": [
    {
     "data": {
      "text/plain": [
       "array([4.03906220e-04, 1.98421362e-02, 9.57695387e-01, 2.20585703e-02])"
      ]
     },
     "execution_count": 53,
     "metadata": {},
     "output_type": "execute_result"
    }
   ],
   "source": [
    "rf3.feature_importances_"
   ]
  },
  {
   "cell_type": "markdown",
   "id": "1c7164bc",
   "metadata": {},
   "source": [
    "# RF3 Not scaled"
   ]
  },
  {
   "cell_type": "code",
   "execution_count": 29,
   "id": "326545f4",
   "metadata": {},
   "outputs": [],
   "source": [
    "df_data = df_data2.copy()"
   ]
  },
  {
   "cell_type": "code",
   "execution_count": 30,
   "id": "c50a2315",
   "metadata": {},
   "outputs": [],
   "source": [
    "lab = LabelEncoder()\n",
    "labels_lsoa = df_data['LSOA code'].unique()\n",
    "lab.fit(labels_lsoa)\n",
    "df_data[['LSOA code']] = df_data[['LSOA code']].apply(lab.fit_transform)"
   ]
  },
  {
   "cell_type": "code",
   "execution_count": 31,
   "id": "2691921b",
   "metadata": {},
   "outputs": [],
   "source": [
    "labels_month = df_data['Month'].unique()\n",
    "lab.fit(labels_lsoa)\n",
    "df_data[['Month']] = df_data[['Month']].apply(lab.fit_transform)"
   ]
  },
  {
   "cell_type": "code",
   "execution_count": 32,
   "id": "faf6a621",
   "metadata": {},
   "outputs": [],
   "source": [
    "df_train = df_data[df_data['year']<2019]\n",
    "df_test = df_data[df_data['year']==2019]"
   ]
  },
  {
   "cell_type": "code",
   "execution_count": 35,
   "id": "9e78ed09",
   "metadata": {},
   "outputs": [],
   "source": [
    "X_train4 = df_train[['population','headcount', 'LSOA code', 'Month']]\n",
    "y_train4 = df_train['amount_of_crimes']\n",
    "\n",
    "X_test4 = df_test[['population','headcount', 'LSOA code', 'Month']]\n",
    "y_test4 = df_test['amount_of_crimes']"
   ]
  },
  {
   "cell_type": "code",
   "execution_count": 36,
   "id": "72f8471f",
   "metadata": {},
   "outputs": [],
   "source": [
    "rf4 =  RandomForestRegressor(max_depth = 10, n_jobs = -1)"
   ]
  },
  {
   "cell_type": "code",
   "execution_count": 37,
   "id": "6b7ac811",
   "metadata": {},
   "outputs": [
    {
     "data": {
      "text/plain": [
       "RandomForestRegressor(max_depth=10, n_jobs=-1)"
      ]
     },
     "execution_count": 37,
     "metadata": {},
     "output_type": "execute_result"
    }
   ],
   "source": [
    "rf4.fit(X_train4, y_train4)"
   ]
  },
  {
   "cell_type": "code",
   "execution_count": 38,
   "id": "ea9185b0",
   "metadata": {},
   "outputs": [
    {
     "name": "stdout",
     "output_type": "stream",
     "text": [
      "The rmse of the model is 15.181544353329823.\n",
      "The mean abs error of the model is 8.669484513021828.\n",
      "The r2 of the model is 0.22216769543653725, using weighted average.\n"
     ]
    }
   ],
   "source": [
    "base_r2_4 = evaluate(rf4, X_train4, y_train4, X_test4, y_test4)"
   ]
  },
  {
   "cell_type": "code",
   "execution_count": 39,
   "id": "047e6a75",
   "metadata": {},
   "outputs": [
    {
     "data": {
      "text/html": [
       "<div>\n",
       "<style scoped>\n",
       "    .dataframe tbody tr th:only-of-type {\n",
       "        vertical-align: middle;\n",
       "    }\n",
       "\n",
       "    .dataframe tbody tr th {\n",
       "        vertical-align: top;\n",
       "    }\n",
       "\n",
       "    .dataframe thead th {\n",
       "        text-align: right;\n",
       "    }\n",
       "</style>\n",
       "<table border=\"1\" class=\"dataframe\">\n",
       "  <thead>\n",
       "    <tr style=\"text-align: right;\">\n",
       "      <th></th>\n",
       "      <th>population</th>\n",
       "      <th>headcount</th>\n",
       "      <th>LSOA code</th>\n",
       "      <th>Month</th>\n",
       "    </tr>\n",
       "  </thead>\n",
       "  <tbody>\n",
       "    <tr>\n",
       "      <th>0</th>\n",
       "      <td>61334</td>\n",
       "      <td>3181</td>\n",
       "      <td>15724</td>\n",
       "      <td>0</td>\n",
       "    </tr>\n",
       "    <tr>\n",
       "      <th>1</th>\n",
       "      <td>61334</td>\n",
       "      <td>3181</td>\n",
       "      <td>15725</td>\n",
       "      <td>0</td>\n",
       "    </tr>\n",
       "    <tr>\n",
       "      <th>2</th>\n",
       "      <td>61334</td>\n",
       "      <td>3181</td>\n",
       "      <td>15726</td>\n",
       "      <td>0</td>\n",
       "    </tr>\n",
       "    <tr>\n",
       "      <th>3</th>\n",
       "      <td>61334</td>\n",
       "      <td>3181</td>\n",
       "      <td>15727</td>\n",
       "      <td>0</td>\n",
       "    </tr>\n",
       "    <tr>\n",
       "      <th>4</th>\n",
       "      <td>61334</td>\n",
       "      <td>3181</td>\n",
       "      <td>15728</td>\n",
       "      <td>0</td>\n",
       "    </tr>\n",
       "    <tr>\n",
       "      <th>...</th>\n",
       "      <td>...</td>\n",
       "      <td>...</td>\n",
       "      <td>...</td>\n",
       "      <td>...</td>\n",
       "    </tr>\n",
       "    <tr>\n",
       "      <th>35973818</th>\n",
       "      <td>498064</td>\n",
       "      <td>1021</td>\n",
       "      <td>30698</td>\n",
       "      <td>95</td>\n",
       "    </tr>\n",
       "    <tr>\n",
       "      <th>35973819</th>\n",
       "      <td>498064</td>\n",
       "      <td>1021</td>\n",
       "      <td>30699</td>\n",
       "      <td>95</td>\n",
       "    </tr>\n",
       "    <tr>\n",
       "      <th>35973820</th>\n",
       "      <td>498064</td>\n",
       "      <td>1021</td>\n",
       "      <td>30700</td>\n",
       "      <td>95</td>\n",
       "    </tr>\n",
       "    <tr>\n",
       "      <th>35973821</th>\n",
       "      <td>498064</td>\n",
       "      <td>1021</td>\n",
       "      <td>30701</td>\n",
       "      <td>95</td>\n",
       "    </tr>\n",
       "    <tr>\n",
       "      <th>35973822</th>\n",
       "      <td>498064</td>\n",
       "      <td>1021</td>\n",
       "      <td>30702</td>\n",
       "      <td>95</td>\n",
       "    </tr>\n",
       "  </tbody>\n",
       "</table>\n",
       "<p>35973823 rows × 4 columns</p>\n",
       "</div>"
      ],
      "text/plain": [
       "          population  headcount  LSOA code  Month\n",
       "0              61334       3181      15724      0\n",
       "1              61334       3181      15725      0\n",
       "2              61334       3181      15726      0\n",
       "3              61334       3181      15727      0\n",
       "4              61334       3181      15728      0\n",
       "...              ...        ...        ...    ...\n",
       "35973818      498064       1021      30698     95\n",
       "35973819      498064       1021      30699     95\n",
       "35973820      498064       1021      30700     95\n",
       "35973821      498064       1021      30701     95\n",
       "35973822      498064       1021      30702     95\n",
       "\n",
       "[35973823 rows x 4 columns]"
      ]
     },
     "execution_count": 39,
     "metadata": {},
     "output_type": "execute_result"
    }
   ],
   "source": [
    "X_train4"
   ]
  },
  {
   "cell_type": "code",
   "execution_count": 40,
   "id": "6d544809",
   "metadata": {},
   "outputs": [
    {
     "data": {
      "text/plain": [
       "array([3.52037047e-04, 1.94331829e-02, 9.58074816e-01, 2.21399637e-02])"
      ]
     },
     "execution_count": 40,
     "metadata": {},
     "output_type": "execute_result"
    }
   ],
   "source": [
    "rf4.feature_importances_"
   ]
  },
  {
   "cell_type": "markdown",
   "id": "2359e46f",
   "metadata": {},
   "source": [
    "#  RF5 Officers per 100k ppl instead of headcount and pop"
   ]
  },
  {
   "cell_type": "code",
   "execution_count": 19,
   "id": "3c7de674",
   "metadata": {},
   "outputs": [],
   "source": [
    "df_data = df_data2.copy()"
   ]
  },
  {
   "cell_type": "code",
   "execution_count": 20,
   "id": "8bced54f",
   "metadata": {},
   "outputs": [],
   "source": [
    "df_data['Officers per 100000 people'] = df_data['headcount']/(df_data['population']/100000)"
   ]
  },
  {
   "cell_type": "code",
   "execution_count": 21,
   "id": "a12f11ea",
   "metadata": {},
   "outputs": [],
   "source": [
    "lab = LabelEncoder()\n",
    "labels_lsoa = df_data['LSOA code'].unique()\n",
    "lab.fit(labels_lsoa)\n",
    "df_data[['LSOA code']] = df_data[['LSOA code']].apply(lab.fit_transform)"
   ]
  },
  {
   "cell_type": "code",
   "execution_count": 22,
   "id": "5823d41a",
   "metadata": {},
   "outputs": [],
   "source": [
    "labels_month = df_data['Month'].unique()\n",
    "lab.fit(labels_lsoa)\n",
    "df_data[['Month']] = df_data[['Month']].apply(lab.fit_transform)"
   ]
  },
  {
   "cell_type": "code",
   "execution_count": null,
   "id": "32601f17",
   "metadata": {},
   "outputs": [],
   "source": [
    "df_train = df_data[df_data['year']<2019]\n",
    "df_test = df_data[df_data['year']==2019]"
   ]
  },
  {
   "cell_type": "code",
   "execution_count": null,
   "id": "4af13db3",
   "metadata": {},
   "outputs": [],
   "source": [
    "X_train5 = df_train[['Officers per 100000 people', 'LSOA code', 'Month']]\n",
    "y_train5 = df_train['amount_of_crimes']\n",
    "\n",
    "X_test5 = df_test[['Officers per 100000 people', 'LSOA code', 'Month']]\n",
    "y_test5 = df_test['amount_of_crimes']"
   ]
  },
  {
   "cell_type": "code",
   "execution_count": null,
   "id": "a4cbe13b",
   "metadata": {},
   "outputs": [],
   "source": [
    "rf5 =  RandomForestRegressor(max_depth = 10, n_jobs = -1)"
   ]
  },
  {
   "cell_type": "code",
   "execution_count": null,
   "id": "94811929",
   "metadata": {},
   "outputs": [],
   "source": [
    "rf5.fit(X_train5, y_train5)"
   ]
  },
  {
   "cell_type": "code",
   "execution_count": null,
   "id": "c1d8b71d",
   "metadata": {},
   "outputs": [],
   "source": [
    "base_r2_5 = evaluate(rf5, X_train5, y_train5, X_test5, y_test5)"
   ]
  },
  {
   "cell_type": "code",
   "execution_count": null,
   "id": "59006061",
   "metadata": {},
   "outputs": [],
   "source": [
    "X_train5"
   ]
  },
  {
   "cell_type": "code",
   "execution_count": null,
   "id": "29be5f23",
   "metadata": {},
   "outputs": [],
   "source": [
    "rf5.feature_importances_"
   ]
  },
  {
   "cell_type": "code",
   "execution_count": null,
   "id": "e75ae3fe",
   "metadata": {},
   "outputs": [],
   "source": []
  }
 ],
 "metadata": {
  "kernelspec": {
   "display_name": "Python 3 (ipykernel)",
   "language": "python",
   "name": "python3"
  },
  "language_info": {
   "codemirror_mode": {
    "name": "ipython",
    "version": 3
   },
   "file_extension": ".py",
   "mimetype": "text/x-python",
   "name": "python",
   "nbconvert_exporter": "python",
   "pygments_lexer": "ipython3",
   "version": "3.7.11"
  }
 },
 "nbformat": 4,
 "nbformat_minor": 5
}
