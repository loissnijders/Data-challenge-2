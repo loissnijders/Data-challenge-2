{
 "cells": [
  {
   "cell_type": "code",
   "execution_count": 49,
   "metadata": {
    "id": "1eOoqU9i2szn"
   },
   "outputs": [],
   "source": [
    "import pandas as pd \n",
    "import numpy as np\n",
    "import pickle\n",
    "pd.set_option('display.max_columns', None)\n",
    "from sklearn.ensemble import RandomForestRegressor\n",
    "from sklearn.metrics import mean_absolute_error\n",
    "from sklearn.metrics import mean_squared_error \n",
    "from sklearn.metrics import r2_score\n",
    "from sklearn.preprocessing import LabelEncoder\n",
    "import matplotlib.pyplot as plt"
   ]
  },
  {
   "cell_type": "code",
   "execution_count": 82,
   "metadata": {
    "id": "_NLlK8hy2szv"
   },
   "outputs": [],
   "source": [
    "data = pd.read_pickle('crime_data_final.pkl')"
   ]
  },
  {
   "cell_type": "code",
   "execution_count": 83,
   "metadata": {},
   "outputs": [],
   "source": [
    "def evaluate(model, X_test, y_test):\n",
    "    y_pred = model.predict(X_test)\n",
    "    mae = mean_absolute_error(y_test, y_pred)\n",
    "    mse = mean_squared_error(y_test, y_pred)\n",
    "    rmse = np.sqrt(mean_squared_error(y_test, y_pred))\n",
    "    r2 = r2_score(y_test, y_pred)\n",
    "\n",
    "    print(f'The mae of the model is {mae}.')\n",
    "    print(f'The mse of the model is {mse}.')\n",
    "    print(f'The rmse of the model is {rmse}.')\n",
    "    print(f'The r2 of the model is {r2}.')\n",
    "    \n",
    "    return rmse"
   ]
  },
  {
   "cell_type": "markdown",
   "metadata": {},
   "source": [
    "# Train-test split"
   ]
  },
  {
   "cell_type": "code",
   "execution_count": 84,
   "metadata": {},
   "outputs": [],
   "source": [
    "# 86/14 split"
   ]
  },
  {
   "cell_type": "code",
   "execution_count": 85,
   "metadata": {},
   "outputs": [],
   "source": [
    "test = data[data['year'] == 2019]\n",
    "train = data[data['year']<2019]"
   ]
  },
  {
   "cell_type": "code",
   "execution_count": 86,
   "metadata": {},
   "outputs": [
    {
     "data": {
      "text/plain": [
       "0.13945309714156623"
      ]
     },
     "execution_count": 86,
     "metadata": {},
     "output_type": "execute_result"
    }
   ],
   "source": [
    "test.shape[0]/train.shape[0]"
   ]
  },
  {
   "cell_type": "markdown",
   "metadata": {},
   "source": [
    "# Encoding variables"
   ]
  },
  {
   "cell_type": "code",
   "execution_count": 88,
   "metadata": {},
   "outputs": [
    {
     "name": "stderr",
     "output_type": "stream",
     "text": [
      "/opt/anaconda3/envs/py39/lib/python3.9/site-packages/pandas/core/frame.py:3641: SettingWithCopyWarning: \n",
      "A value is trying to be set on a copy of a slice from a DataFrame.\n",
      "Try using .loc[row_indexer,col_indexer] = value instead\n",
      "\n",
      "See the caveats in the documentation: https://pandas.pydata.org/pandas-docs/stable/user_guide/indexing.html#returning-a-view-versus-a-copy\n",
      "  self[k1] = value[k2]\n"
     ]
    }
   ],
   "source": [
    "lab = LabelEncoder()\n",
    "\n",
    "labels_lsoa = data['LSOA code'].unique()\n",
    "lab.fit(labels_lsoa)\n",
    "train[['LSOA code']] = train[['LSOA code']].apply(lab.fit_transform)\n",
    "test[['LSOA code']] = test[['LSOA code']].apply(lab.fit_transform)"
   ]
  },
  {
   "cell_type": "code",
   "execution_count": 89,
   "metadata": {},
   "outputs": [],
   "source": [
    "labels_dist = data['name'].unique()\n",
    "lab.fit(labels_dist)\n",
    "train[['name']] = train[['name']].apply(lab.transform)\n",
    "test[['name']] = test[['name']].apply(lab.fit_transform)"
   ]
  },
  {
   "cell_type": "code",
   "execution_count": 90,
   "metadata": {},
   "outputs": [],
   "source": [
    "labels_force = data['Force Name'].unique()\n",
    "lab.fit(labels_force)\n",
    "train[['Force Name']] = train[['Force Name']].apply(lab.transform)\n",
    "test[['Force Name']] = test[['Force Name']].apply(lab.transform)"
   ]
  },
  {
   "cell_type": "markdown",
   "metadata": {},
   "source": [
    "# Random forest models"
   ]
  },
  {
   "cell_type": "markdown",
   "metadata": {},
   "source": [
    "## Model 1: 'LSOA population_last_year', 'population_last_year',  'LSOA name', 'IMD score', 'GDP_last_year'"
   ]
  },
  {
   "cell_type": "code",
   "execution_count": 91,
   "metadata": {},
   "outputs": [],
   "source": [
    "X_train1 = train[['LSOA population_last_year', 'population_last_year', 'LSOA code', 'IMD score', 'GDP_last_year']]\n",
    "y_train1 = train['amount_of_crimes']\n",
    "\n",
    "X_test1 = test[['LSOA population_last_year', 'population_last_year',  'LSOA code', 'IMD score', 'GDP_last_year']]\n",
    "y_test1 = test['amount_of_crimes']"
   ]
  },
  {
   "cell_type": "code",
   "execution_count": 92,
   "metadata": {},
   "outputs": [
    {
     "data": {
      "text/plain": [
       "RandomForestRegressor(n_estimators=10, random_state=42)"
      ]
     },
     "execution_count": 92,
     "metadata": {},
     "output_type": "execute_result"
    }
   ],
   "source": [
    "cl1 = RandomForestRegressor(n_estimators = 10, random_state = 42)\n",
    "cl1.fit(X_train1, y_train1)"
   ]
  },
  {
   "cell_type": "code",
   "execution_count": 93,
   "metadata": {},
   "outputs": [
    {
     "name": "stdout",
     "output_type": "stream",
     "text": [
      "The mae of the model is 5.489491282530061.\n",
      "The mse of the model is 136.72864707866194.\n",
      "The rmse of the model is 11.69310254289519.\n",
      "The r2 of the model is 0.7624784633686142.\n"
     ]
    },
    {
     "data": {
      "text/plain": [
       "11.69310254289519"
      ]
     },
     "execution_count": 93,
     "metadata": {},
     "output_type": "execute_result"
    }
   ],
   "source": [
    "evaluate(cl1, X_test1, y_test1)"
   ]
  },
  {
   "cell_type": "code",
   "execution_count": 94,
   "metadata": {},
   "outputs": [
    {
     "data": {
      "text/plain": [
       "array([0.13023279, 0.09041362, 0.32818927, 0.37149823, 0.07966609])"
      ]
     },
     "execution_count": 94,
     "metadata": {},
     "output_type": "execute_result"
    }
   ],
   "source": [
    "cl1.feature_importances_"
   ]
  },
  {
   "cell_type": "code",
   "execution_count": 95,
   "metadata": {},
   "outputs": [
    {
     "data": {
      "text/plain": [
       "Index(['LSOA population_last_year', 'population_last_year', 'LSOA code',\n",
       "       'IMD score', 'GDP_last_year'],\n",
       "      dtype='object')"
      ]
     },
     "execution_count": 95,
     "metadata": {},
     "output_type": "execute_result"
    }
   ],
   "source": [
    "X_train1.columns"
   ]
  },
  {
   "cell_type": "code",
   "execution_count": 112,
   "metadata": {},
   "outputs": [
    {
     "data": {
      "image/png": "[encoded data removed]",
      "text/plain": [
       "<Figure size 720x720 with 1 Axes>"
      ]
     },
     "metadata": {
      "needs_background": "light"
     },
     "output_type": "display_data"
    }
   ],
   "source": [
    "y_pred1 = cl1.predict(X_test1)\n",
    "\n",
    "\n",
    "plt.figure(figsize=(10,10))\n",
    "plt.scatter(y_test1, y_pred1, c='crimson', alpha = 0.1)\n",
    "\n",
    "p1 = max(max(y_pred1), max(y_test1))\n",
    "p2 = min(min(y_pred1), min(y_test1))\n",
    "plt.plot([p1, p2], [p1, p2], 'b-')\n",
    "plt.title('Real values compared to the Predicted values for Random Forest Regressor (Model 1)')\n",
    "plt.xlabel('Real amount of crimes', fontsize=15)\n",
    "plt.ylabel('Predicted amount of crimes', fontsize=15)\n",
    "plt.axis('equal');"
   ]
  },
  {
   "cell_type": "code",
   "execution_count": 97,
   "metadata": {},
   "outputs": [
    {
     "name": "stderr",
     "output_type": "stream",
     "text": [
      "/var/folders/44/c61kn_t5793fw4b0n9q5kfn40000gn/T/ipykernel_6759/2052282886.py:4: SettingWithCopyWarning: \n",
      "A value is trying to be set on a copy of a slice from a DataFrame.\n",
      "Try using .loc[row_indexer,col_indexer] = value instead\n",
      "\n",
      "See the caveats in the documentation: https://pandas.pydata.org/pandas-docs/stable/user_guide/indexing.html#returning-a-view-versus-a-copy\n",
      "  top_5_df['predicted_amount_of_crimes_per_head'] = top_5_df['predicted_amount_of_crimes'] / top_5_df['LSOA population_last_year']\n",
      "/var/folders/44/c61kn_t5793fw4b0n9q5kfn40000gn/T/ipykernel_6759/2052282886.py:11: SettingWithCopyWarning: \n",
      "A value is trying to be set on a copy of a slice from a DataFrame.\n",
      "Try using .loc[row_indexer,col_indexer] = value instead\n",
      "\n",
      "See the caveats in the documentation: https://pandas.pydata.org/pandas-docs/stable/user_guide/indexing.html#returning-a-view-versus-a-copy\n",
      "  top_5_df['amount_of_crimes_per_head'] = top_5_df['amount_of_crimes'] / top_5_df['LSOA population_last_year']\n"
     ]
    },
    {
     "data": {
      "text/html": [
       "<div>\n",
       "<style scoped>\n",
       "    .dataframe tbody tr th:only-of-type {\n",
       "        vertical-align: middle;\n",
       "    }\n",
       "\n",
       "    .dataframe tbody tr th {\n",
       "        vertical-align: top;\n",
       "    }\n",
       "\n",
       "    .dataframe thead th {\n",
       "        text-align: right;\n",
       "    }\n",
       "</style>\n",
       "<table border=\"1\" class=\"dataframe\">\n",
       "  <thead>\n",
       "    <tr style=\"text-align: right;\">\n",
       "      <th></th>\n",
       "      <th>LSOA name</th>\n",
       "      <th>amount_of_crimes</th>\n",
       "      <th>amount_of_crimes_per_head</th>\n",
       "    </tr>\n",
       "  </thead>\n",
       "  <tbody>\n",
       "    <tr>\n",
       "      <th>0</th>\n",
       "      <td>City of London 001F</td>\n",
       "      <td>720.750000</td>\n",
       "      <td>0.640667</td>\n",
       "    </tr>\n",
       "    <tr>\n",
       "      <th>1</th>\n",
       "      <td>Westminster 013E</td>\n",
       "      <td>897.166667</td>\n",
       "      <td>0.639008</td>\n",
       "    </tr>\n",
       "    <tr>\n",
       "      <th>2</th>\n",
       "      <td>Westminster 018A</td>\n",
       "      <td>874.750000</td>\n",
       "      <td>0.466533</td>\n",
       "    </tr>\n",
       "    <tr>\n",
       "      <th>3</th>\n",
       "      <td>Manchester 054C</td>\n",
       "      <td>575.333333</td>\n",
       "      <td>0.363905</td>\n",
       "    </tr>\n",
       "    <tr>\n",
       "      <th>4</th>\n",
       "      <td>Birmingham 138A</td>\n",
       "      <td>465.166667</td>\n",
       "      <td>0.332025</td>\n",
       "    </tr>\n",
       "    <tr>\n",
       "      <th>5</th>\n",
       "      <td>Westminster 018C</td>\n",
       "      <td>633.166667</td>\n",
       "      <td>0.321731</td>\n",
       "    </tr>\n",
       "    <tr>\n",
       "      <th>6</th>\n",
       "      <td>Westminster 013B</td>\n",
       "      <td>742.166667</td>\n",
       "      <td>0.267640</td>\n",
       "    </tr>\n",
       "    <tr>\n",
       "      <th>7</th>\n",
       "      <td>Westminster 018B</td>\n",
       "      <td>309.833333</td>\n",
       "      <td>0.232085</td>\n",
       "    </tr>\n",
       "    <tr>\n",
       "      <th>8</th>\n",
       "      <td>Gloucester 004F</td>\n",
       "      <td>234.916667</td>\n",
       "      <td>0.194307</td>\n",
       "    </tr>\n",
       "    <tr>\n",
       "      <th>9</th>\n",
       "      <td>Kingston upon Hull 029E</td>\n",
       "      <td>313.500000</td>\n",
       "      <td>0.193042</td>\n",
       "    </tr>\n",
       "  </tbody>\n",
       "</table>\n",
       "</div>"
      ],
      "text/plain": [
       "                 LSOA name  amount_of_crimes  amount_of_crimes_per_head\n",
       "0      City of London 001F        720.750000                   0.640667\n",
       "1         Westminster 013E        897.166667                   0.639008\n",
       "2         Westminster 018A        874.750000                   0.466533\n",
       "3          Manchester 054C        575.333333                   0.363905\n",
       "4          Birmingham 138A        465.166667                   0.332025\n",
       "5         Westminster 018C        633.166667                   0.321731\n",
       "6         Westminster 013B        742.166667                   0.267640\n",
       "7         Westminster 018B        309.833333                   0.232085\n",
       "8          Gloucester 004F        234.916667                   0.194307\n",
       "9  Kingston upon Hull 029E        313.500000                   0.193042"
      ]
     },
     "metadata": {},
     "output_type": "display_data"
    },
    {
     "data": {
      "text/html": [
       "<div>\n",
       "<style scoped>\n",
       "    .dataframe tbody tr th:only-of-type {\n",
       "        vertical-align: middle;\n",
       "    }\n",
       "\n",
       "    .dataframe tbody tr th {\n",
       "        vertical-align: top;\n",
       "    }\n",
       "\n",
       "    .dataframe thead th {\n",
       "        text-align: right;\n",
       "    }\n",
       "</style>\n",
       "<table border=\"1\" class=\"dataframe\">\n",
       "  <thead>\n",
       "    <tr style=\"text-align: right;\">\n",
       "      <th></th>\n",
       "      <th>LSOA name</th>\n",
       "      <th>predicted_amount_of_crimes</th>\n",
       "      <th>predicted_amount_of_crimes_per_head</th>\n",
       "    </tr>\n",
       "  </thead>\n",
       "  <tbody>\n",
       "    <tr>\n",
       "      <th>0</th>\n",
       "      <td>Westminster 013E</td>\n",
       "      <td>781.050907</td>\n",
       "      <td>0.556304</td>\n",
       "    </tr>\n",
       "    <tr>\n",
       "      <th>1</th>\n",
       "      <td>Manchester 054C</td>\n",
       "      <td>587.730244</td>\n",
       "      <td>0.371746</td>\n",
       "    </tr>\n",
       "    <tr>\n",
       "      <th>2</th>\n",
       "      <td>Birmingham 138A</td>\n",
       "      <td>468.197518</td>\n",
       "      <td>0.334188</td>\n",
       "    </tr>\n",
       "    <tr>\n",
       "      <th>3</th>\n",
       "      <td>City of London 001F</td>\n",
       "      <td>305.604118</td>\n",
       "      <td>0.271648</td>\n",
       "    </tr>\n",
       "    <tr>\n",
       "      <th>4</th>\n",
       "      <td>Westminster 018C</td>\n",
       "      <td>438.994541</td>\n",
       "      <td>0.223066</td>\n",
       "    </tr>\n",
       "    <tr>\n",
       "      <th>5</th>\n",
       "      <td>Newcastle upon Tyne 024G</td>\n",
       "      <td>496.786562</td>\n",
       "      <td>0.216370</td>\n",
       "    </tr>\n",
       "    <tr>\n",
       "      <th>6</th>\n",
       "      <td>Westminster 018A</td>\n",
       "      <td>388.499150</td>\n",
       "      <td>0.207200</td>\n",
       "    </tr>\n",
       "    <tr>\n",
       "      <th>7</th>\n",
       "      <td>Manchester 055B</td>\n",
       "      <td>696.523561</td>\n",
       "      <td>0.204080</td>\n",
       "    </tr>\n",
       "    <tr>\n",
       "      <th>8</th>\n",
       "      <td>Westminster 013B</td>\n",
       "      <td>552.825233</td>\n",
       "      <td>0.199360</td>\n",
       "    </tr>\n",
       "    <tr>\n",
       "      <th>9</th>\n",
       "      <td>Westminster 018B</td>\n",
       "      <td>259.552716</td>\n",
       "      <td>0.194422</td>\n",
       "    </tr>\n",
       "  </tbody>\n",
       "</table>\n",
       "</div>"
      ],
      "text/plain": [
       "                  LSOA name  predicted_amount_of_crimes  \\\n",
       "0          Westminster 013E                  781.050907   \n",
       "1           Manchester 054C                  587.730244   \n",
       "2           Birmingham 138A                  468.197518   \n",
       "3       City of London 001F                  305.604118   \n",
       "4          Westminster 018C                  438.994541   \n",
       "5  Newcastle upon Tyne 024G                  496.786562   \n",
       "6          Westminster 018A                  388.499150   \n",
       "7           Manchester 055B                  696.523561   \n",
       "8          Westminster 013B                  552.825233   \n",
       "9          Westminster 018B                  259.552716   \n",
       "\n",
       "   predicted_amount_of_crimes_per_head  \n",
       "0                             0.556304  \n",
       "1                             0.371746  \n",
       "2                             0.334188  \n",
       "3                             0.271648  \n",
       "4                             0.223066  \n",
       "5                             0.216370  \n",
       "6                             0.207200  \n",
       "7                             0.204080  \n",
       "8                             0.199360  \n",
       "9                             0.194422  "
      ]
     },
     "metadata": {},
     "output_type": "display_data"
    }
   ],
   "source": [
    "test_data_forecasted = test.copy()\n",
    "test_data_forecasted['predicted_amount_of_crimes'] = y_pred1\n",
    "top_5_df = test_data_forecasted[['LSOA name', 'predicted_amount_of_crimes', 'LSOA population_last_year']]\n",
    "top_5_df['predicted_amount_of_crimes_per_head'] = top_5_df['predicted_amount_of_crimes'] / top_5_df['LSOA population_last_year']\n",
    "top_5_df = top_5_df.groupby('LSOA name').mean()\n",
    "top_5_df_predicted = top_5_df.sort_values('predicted_amount_of_crimes_per_head', ascending=False).head(10).reset_index()\n",
    "\n",
    "\n",
    "test_data_forecasted = test.copy()\n",
    "top_5_df = test_data_forecasted[['LSOA name', 'amount_of_crimes', 'LSOA population_last_year']]\n",
    "top_5_df['amount_of_crimes_per_head'] = top_5_df['amount_of_crimes'] / top_5_df['LSOA population_last_year']\n",
    "top_5_df = top_5_df.groupby('LSOA name').mean()\n",
    "top_5_df_real = top_5_df.sort_values('amount_of_crimes_per_head', ascending=False).head(10).reset_index()\n",
    "\n",
    "display(top_5_df_real[['LSOA name', 'amount_of_crimes','amount_of_crimes_per_head']], top_5_df_predicted[['LSOA name', 'predicted_amount_of_crimes','predicted_amount_of_crimes_per_head']])"
   ]
  },
  {
   "cell_type": "markdown",
   "metadata": {},
   "source": [
    "## Model 2: 'LSOA population_last_year', 'population_last_year', 'LSOA name', 'IMD score', 'GDP_last_year', 'prev_year_crimes'"
   ]
  },
  {
   "cell_type": "code",
   "execution_count": 98,
   "metadata": {},
   "outputs": [],
   "source": [
    "X_train2 = train[['LSOA population_last_year', 'population_last_year', 'LSOA code', 'IMD score', 'GDP_last_year', 'prev_year_crimes']]\n",
    "y_train2 = train['amount_of_crimes']\n",
    "\n",
    "X_test2 = test[['LSOA population_last_year', 'population_last_year',  'LSOA code', 'IMD score', 'GDP_last_year','prev_year_crimes']]\n",
    "y_test2 = test['amount_of_crimes']"
   ]
  },
  {
   "cell_type": "code",
   "execution_count": 99,
   "metadata": {},
   "outputs": [
    {
     "data": {
      "text/plain": [
       "RandomForestRegressor(n_estimators=10, random_state=42)"
      ]
     },
     "execution_count": 99,
     "metadata": {},
     "output_type": "execute_result"
    }
   ],
   "source": [
    "cl2 = RandomForestRegressor(n_estimators = 10, random_state = 42)\n",
    "cl2.fit(X_train2, y_train2)"
   ]
  },
  {
   "cell_type": "code",
   "execution_count": 100,
   "metadata": {},
   "outputs": [
    {
     "name": "stdout",
     "output_type": "stream",
     "text": [
      "The mae of the model is 5.152670369825609.\n",
      "The mse of the model is 82.27003348476461.\n",
      "The rmse of the model is 9.070282988130227.\n",
      "The r2 of the model is 0.8570825851822063.\n"
     ]
    },
    {
     "data": {
      "text/plain": [
       "9.070282988130227"
      ]
     },
     "execution_count": 100,
     "metadata": {},
     "output_type": "execute_result"
    }
   ],
   "source": [
    "evaluate(cl2, X_test2, y_test2)"
   ]
  },
  {
   "cell_type": "markdown",
   "metadata": {},
   "source": [
    "### Model 2 biased towards 'prev_year_crimes\" variable"
   ]
  },
  {
   "cell_type": "code",
   "execution_count": 101,
   "metadata": {},
   "outputs": [
    {
     "data": {
      "text/plain": [
       "array([0.02905276, 0.02378022, 0.02191583, 0.02812058, 0.02387859,\n",
       "       0.87325202])"
      ]
     },
     "execution_count": 101,
     "metadata": {},
     "output_type": "execute_result"
    }
   ],
   "source": [
    "cl2.feature_importances_"
   ]
  },
  {
   "cell_type": "code",
   "execution_count": 102,
   "metadata": {},
   "outputs": [
    {
     "data": {
      "text/plain": [
       "Index(['LSOA population_last_year', 'population_last_year', 'LSOA code',\n",
       "       'IMD score', 'GDP_last_year', 'prev_year_crimes'],\n",
       "      dtype='object')"
      ]
     },
     "execution_count": 102,
     "metadata": {},
     "output_type": "execute_result"
    }
   ],
   "source": [
    "X_train2.columns"
   ]
  },
  {
   "cell_type": "code",
   "execution_count": 113,
   "metadata": {},
   "outputs": [
    {
     "data": {
      "image/png": "[encoded data removed]",
      "text/plain": [
       "<Figure size 720x720 with 1 Axes>"
      ]
     },
     "metadata": {
      "needs_background": "light"
     },
     "output_type": "display_data"
    }
   ],
   "source": [
    "y_pred2 = cl2.predict(X_test2)\n",
    "\n",
    "\n",
    "plt.figure(figsize=(10,10))\n",
    "plt.scatter(y_test2, y_pred2, c='crimson', alpha = 0.1)\n",
    "\n",
    "p1 = max(max(y_pred2), max(y_test2))\n",
    "p2 = min(min(y_pred2), min(y_test2))\n",
    "plt.plot([p1, p2], [p1, p2], 'b-')\n",
    "plt.title('Real values compared to the Predicted values for Random Forest Regressor (Model 2)')\n",
    "plt.xlabel('Real amount of crimes', fontsize=15)\n",
    "plt.ylabel('Predicted amount of crimes', fontsize=15)\n",
    "plt.axis('equal');"
   ]
  },
  {
   "cell_type": "code",
   "execution_count": 104,
   "metadata": {},
   "outputs": [
    {
     "name": "stderr",
     "output_type": "stream",
     "text": [
      "/var/folders/44/c61kn_t5793fw4b0n9q5kfn40000gn/T/ipykernel_6759/293186885.py:4: SettingWithCopyWarning: \n",
      "A value is trying to be set on a copy of a slice from a DataFrame.\n",
      "Try using .loc[row_indexer,col_indexer] = value instead\n",
      "\n",
      "See the caveats in the documentation: https://pandas.pydata.org/pandas-docs/stable/user_guide/indexing.html#returning-a-view-versus-a-copy\n",
      "  top_5_df['predicted_amount_of_crimes_per_head'] = top_5_df['predicted_amount_of_crimes'] / top_5_df['LSOA population_last_year']\n",
      "/var/folders/44/c61kn_t5793fw4b0n9q5kfn40000gn/T/ipykernel_6759/293186885.py:11: SettingWithCopyWarning: \n",
      "A value is trying to be set on a copy of a slice from a DataFrame.\n",
      "Try using .loc[row_indexer,col_indexer] = value instead\n",
      "\n",
      "See the caveats in the documentation: https://pandas.pydata.org/pandas-docs/stable/user_guide/indexing.html#returning-a-view-versus-a-copy\n",
      "  top_5_df['amount_of_crimes_per_head'] = top_5_df['amount_of_crimes'] / top_5_df['LSOA population_last_year']\n"
     ]
    },
    {
     "data": {
      "text/html": [
       "<div>\n",
       "<style scoped>\n",
       "    .dataframe tbody tr th:only-of-type {\n",
       "        vertical-align: middle;\n",
       "    }\n",
       "\n",
       "    .dataframe tbody tr th {\n",
       "        vertical-align: top;\n",
       "    }\n",
       "\n",
       "    .dataframe thead th {\n",
       "        text-align: right;\n",
       "    }\n",
       "</style>\n",
       "<table border=\"1\" class=\"dataframe\">\n",
       "  <thead>\n",
       "    <tr style=\"text-align: right;\">\n",
       "      <th></th>\n",
       "      <th>LSOA name</th>\n",
       "      <th>amount_of_crimes</th>\n",
       "      <th>amount_of_crimes_per_head</th>\n",
       "    </tr>\n",
       "  </thead>\n",
       "  <tbody>\n",
       "    <tr>\n",
       "      <th>0</th>\n",
       "      <td>City of London 001F</td>\n",
       "      <td>720.750000</td>\n",
       "      <td>0.640667</td>\n",
       "    </tr>\n",
       "    <tr>\n",
       "      <th>1</th>\n",
       "      <td>Westminster 013E</td>\n",
       "      <td>897.166667</td>\n",
       "      <td>0.639008</td>\n",
       "    </tr>\n",
       "    <tr>\n",
       "      <th>2</th>\n",
       "      <td>Westminster 018A</td>\n",
       "      <td>874.750000</td>\n",
       "      <td>0.466533</td>\n",
       "    </tr>\n",
       "    <tr>\n",
       "      <th>3</th>\n",
       "      <td>Manchester 054C</td>\n",
       "      <td>575.333333</td>\n",
       "      <td>0.363905</td>\n",
       "    </tr>\n",
       "    <tr>\n",
       "      <th>4</th>\n",
       "      <td>Birmingham 138A</td>\n",
       "      <td>465.166667</td>\n",
       "      <td>0.332025</td>\n",
       "    </tr>\n",
       "    <tr>\n",
       "      <th>5</th>\n",
       "      <td>Westminster 018C</td>\n",
       "      <td>633.166667</td>\n",
       "      <td>0.321731</td>\n",
       "    </tr>\n",
       "    <tr>\n",
       "      <th>6</th>\n",
       "      <td>Westminster 013B</td>\n",
       "      <td>742.166667</td>\n",
       "      <td>0.267640</td>\n",
       "    </tr>\n",
       "    <tr>\n",
       "      <th>7</th>\n",
       "      <td>Westminster 018B</td>\n",
       "      <td>309.833333</td>\n",
       "      <td>0.232085</td>\n",
       "    </tr>\n",
       "    <tr>\n",
       "      <th>8</th>\n",
       "      <td>Gloucester 004F</td>\n",
       "      <td>234.916667</td>\n",
       "      <td>0.194307</td>\n",
       "    </tr>\n",
       "    <tr>\n",
       "      <th>9</th>\n",
       "      <td>Kingston upon Hull 029E</td>\n",
       "      <td>313.500000</td>\n",
       "      <td>0.193042</td>\n",
       "    </tr>\n",
       "  </tbody>\n",
       "</table>\n",
       "</div>"
      ],
      "text/plain": [
       "                 LSOA name  amount_of_crimes  amount_of_crimes_per_head\n",
       "0      City of London 001F        720.750000                   0.640667\n",
       "1         Westminster 013E        897.166667                   0.639008\n",
       "2         Westminster 018A        874.750000                   0.466533\n",
       "3          Manchester 054C        575.333333                   0.363905\n",
       "4          Birmingham 138A        465.166667                   0.332025\n",
       "5         Westminster 018C        633.166667                   0.321731\n",
       "6         Westminster 013B        742.166667                   0.267640\n",
       "7         Westminster 018B        309.833333                   0.232085\n",
       "8          Gloucester 004F        234.916667                   0.194307\n",
       "9  Kingston upon Hull 029E        313.500000                   0.193042"
      ]
     },
     "metadata": {},
     "output_type": "display_data"
    },
    {
     "data": {
      "text/html": [
       "<div>\n",
       "<style scoped>\n",
       "    .dataframe tbody tr th:only-of-type {\n",
       "        vertical-align: middle;\n",
       "    }\n",
       "\n",
       "    .dataframe tbody tr th {\n",
       "        vertical-align: top;\n",
       "    }\n",
       "\n",
       "    .dataframe thead th {\n",
       "        text-align: right;\n",
       "    }\n",
       "</style>\n",
       "<table border=\"1\" class=\"dataframe\">\n",
       "  <thead>\n",
       "    <tr style=\"text-align: right;\">\n",
       "      <th></th>\n",
       "      <th>LSOA name</th>\n",
       "      <th>predicted_amount_of_crimes</th>\n",
       "      <th>predicted_amount_of_crimes_per_head</th>\n",
       "    </tr>\n",
       "  </thead>\n",
       "  <tbody>\n",
       "    <tr>\n",
       "      <th>0</th>\n",
       "      <td>Westminster 013E</td>\n",
       "      <td>855.925000</td>\n",
       "      <td>0.609633</td>\n",
       "    </tr>\n",
       "    <tr>\n",
       "      <th>1</th>\n",
       "      <td>City of London 001F</td>\n",
       "      <td>613.316667</td>\n",
       "      <td>0.545170</td>\n",
       "    </tr>\n",
       "    <tr>\n",
       "      <th>2</th>\n",
       "      <td>Manchester 054C</td>\n",
       "      <td>676.483333</td>\n",
       "      <td>0.427883</td>\n",
       "    </tr>\n",
       "    <tr>\n",
       "      <th>3</th>\n",
       "      <td>Westminster 018A</td>\n",
       "      <td>690.425000</td>\n",
       "      <td>0.368227</td>\n",
       "    </tr>\n",
       "    <tr>\n",
       "      <th>4</th>\n",
       "      <td>Birmingham 138A</td>\n",
       "      <td>460.225000</td>\n",
       "      <td>0.328498</td>\n",
       "    </tr>\n",
       "    <tr>\n",
       "      <th>5</th>\n",
       "      <td>Westminster 018C</td>\n",
       "      <td>499.238194</td>\n",
       "      <td>0.253678</td>\n",
       "    </tr>\n",
       "    <tr>\n",
       "      <th>6</th>\n",
       "      <td>Westminster 013B</td>\n",
       "      <td>631.991667</td>\n",
       "      <td>0.227909</td>\n",
       "    </tr>\n",
       "    <tr>\n",
       "      <th>7</th>\n",
       "      <td>Manchester 055B</td>\n",
       "      <td>714.951515</td>\n",
       "      <td>0.209479</td>\n",
       "    </tr>\n",
       "    <tr>\n",
       "      <th>8</th>\n",
       "      <td>Westminster 018B</td>\n",
       "      <td>270.722639</td>\n",
       "      <td>0.202788</td>\n",
       "    </tr>\n",
       "    <tr>\n",
       "      <th>9</th>\n",
       "      <td>Liverpool 061C</td>\n",
       "      <td>344.513889</td>\n",
       "      <td>0.198338</td>\n",
       "    </tr>\n",
       "  </tbody>\n",
       "</table>\n",
       "</div>"
      ],
      "text/plain": [
       "             LSOA name  predicted_amount_of_crimes  \\\n",
       "0     Westminster 013E                  855.925000   \n",
       "1  City of London 001F                  613.316667   \n",
       "2      Manchester 054C                  676.483333   \n",
       "3     Westminster 018A                  690.425000   \n",
       "4      Birmingham 138A                  460.225000   \n",
       "5     Westminster 018C                  499.238194   \n",
       "6     Westminster 013B                  631.991667   \n",
       "7      Manchester 055B                  714.951515   \n",
       "8     Westminster 018B                  270.722639   \n",
       "9       Liverpool 061C                  344.513889   \n",
       "\n",
       "   predicted_amount_of_crimes_per_head  \n",
       "0                             0.609633  \n",
       "1                             0.545170  \n",
       "2                             0.427883  \n",
       "3                             0.368227  \n",
       "4                             0.328498  \n",
       "5                             0.253678  \n",
       "6                             0.227909  \n",
       "7                             0.209479  \n",
       "8                             0.202788  \n",
       "9                             0.198338  "
      ]
     },
     "metadata": {},
     "output_type": "display_data"
    }
   ],
   "source": [
    "test_data_forecasted = test.copy()\n",
    "test_data_forecasted['predicted_amount_of_crimes'] = y_pred2\n",
    "top_5_df = test_data_forecasted[['LSOA name', 'predicted_amount_of_crimes', 'LSOA population_last_year']]\n",
    "top_5_df['predicted_amount_of_crimes_per_head'] = top_5_df['predicted_amount_of_crimes'] / top_5_df['LSOA population_last_year']\n",
    "top_5_df = top_5_df.groupby('LSOA name').mean()\n",
    "top_5_df_predicted = top_5_df.sort_values('predicted_amount_of_crimes_per_head', ascending=False).head(10).reset_index()\n",
    "\n",
    "\n",
    "test_data_forecasted = test.copy()\n",
    "top_5_df = test_data_forecasted[['LSOA name', 'amount_of_crimes', 'LSOA population_last_year']]\n",
    "top_5_df['amount_of_crimes_per_head'] = top_5_df['amount_of_crimes'] / top_5_df['LSOA population_last_year']\n",
    "top_5_df = top_5_df.groupby('LSOA name').mean()\n",
    "top_5_df_real = top_5_df.sort_values('amount_of_crimes_per_head', ascending=False).head(10).reset_index()\n",
    "\n",
    "display(top_5_df_real[['LSOA name', 'amount_of_crimes','amount_of_crimes_per_head']], top_5_df_predicted[['LSOA name', 'predicted_amount_of_crimes','predicted_amount_of_crimes_per_head']])"
   ]
  },
  {
   "cell_type": "markdown",
   "metadata": {},
   "source": [
    "## Model 3: 'LSOA population_last_year', 'population_last_year', 'LSOA name', 'IMD score', 'GDP_last_year', 'prev_month_crimes'"
   ]
  },
  {
   "cell_type": "code",
   "execution_count": 105,
   "metadata": {},
   "outputs": [],
   "source": [
    "X_train3 = train[['LSOA population_last_year', 'population_last_year', 'LSOA code', 'IMD score', 'GDP_last_year', 'prev_month_crimes']]\n",
    "y_train3 = train['amount_of_crimes']\n",
    "\n",
    "X_test3 = test[['LSOA population_last_year', 'population_last_year',  'LSOA code', 'IMD score', 'GDP_last_year', 'prev_month_crimes']]\n",
    "y_test3 = test['amount_of_crimes']"
   ]
  },
  {
   "cell_type": "code",
   "execution_count": 106,
   "metadata": {},
   "outputs": [
    {
     "data": {
      "text/plain": [
       "RandomForestRegressor(n_estimators=10, random_state=42)"
      ]
     },
     "execution_count": 106,
     "metadata": {},
     "output_type": "execute_result"
    }
   ],
   "source": [
    "cl3 = RandomForestRegressor(n_estimators = 10, random_state = 42)\n",
    "cl3.fit(X_train3, y_train3)"
   ]
  },
  {
   "cell_type": "code",
   "execution_count": 107,
   "metadata": {},
   "outputs": [
    {
     "name": "stdout",
     "output_type": "stream",
     "text": [
      "The mae of the model is 4.8343383651613925.\n",
      "The mse of the model is 57.07673179590387.\n",
      "The rmse of the model is 7.5549144135393.\n",
      "The r2 of the model is 0.9008477496726707.\n"
     ]
    },
    {
     "data": {
      "text/plain": [
       "7.5549144135393"
      ]
     },
     "execution_count": 107,
     "metadata": {},
     "output_type": "execute_result"
    }
   ],
   "source": [
    "evaluate(cl3, X_test3, y_test3)"
   ]
  },
  {
   "cell_type": "markdown",
   "metadata": {},
   "source": [
    "### Model 3 biased towards 'prev_month_crimes\" variable"
   ]
  },
  {
   "cell_type": "code",
   "execution_count": 108,
   "metadata": {},
   "outputs": [
    {
     "data": {
      "text/plain": [
       "array([0.0227135 , 0.01818689, 0.01580489, 0.02123137, 0.01807853,\n",
       "       0.90398483])"
      ]
     },
     "execution_count": 108,
     "metadata": {},
     "output_type": "execute_result"
    }
   ],
   "source": [
    "cl3.feature_importances_"
   ]
  },
  {
   "cell_type": "code",
   "execution_count": 109,
   "metadata": {},
   "outputs": [
    {
     "data": {
      "text/plain": [
       "Index(['LSOA population_last_year', 'population_last_year', 'LSOA code',\n",
       "       'IMD score', 'GDP_last_year', 'prev_month_crimes'],\n",
       "      dtype='object')"
      ]
     },
     "execution_count": 109,
     "metadata": {},
     "output_type": "execute_result"
    }
   ],
   "source": [
    "X_train3.columns"
   ]
  },
  {
   "cell_type": "code",
   "execution_count": 114,
   "metadata": {},
   "outputs": [
    {
     "data": {
      "image/png": "[encoded data removed]",
      "text/plain": [
       "<Figure size 720x720 with 1 Axes>"
      ]
     },
     "metadata": {
      "needs_background": "light"
     },
     "output_type": "display_data"
    }
   ],
   "source": [
    "y_pred3 = cl3.predict(X_test3)\n",
    "\n",
    "\n",
    "plt.figure(figsize=(10,10))\n",
    "plt.scatter(y_test3, y_pred3, c='crimson', alpha = 0.1)\n",
    "\n",
    "p1 = max(max(y_pred3), max(y_test3))\n",
    "p2 = min(min(y_pred3), min(y_test3))\n",
    "plt.plot([p1, p2], [p1, p2], 'b-')\n",
    "plt.title('Real values compared to the Predicted values for Random Forest Regressor (Model 3)')\n",
    "plt.xlabel('Real amount of crimes', fontsize=15)\n",
    "plt.ylabel('Predicted amount of crimes', fontsize=15)\n",
    "plt.axis('equal');"
   ]
  },
  {
   "cell_type": "code",
   "execution_count": 111,
   "metadata": {},
   "outputs": [
    {
     "name": "stderr",
     "output_type": "stream",
     "text": [
      "/var/folders/44/c61kn_t5793fw4b0n9q5kfn40000gn/T/ipykernel_6759/1836695422.py:4: SettingWithCopyWarning: \n",
      "A value is trying to be set on a copy of a slice from a DataFrame.\n",
      "Try using .loc[row_indexer,col_indexer] = value instead\n",
      "\n",
      "See the caveats in the documentation: https://pandas.pydata.org/pandas-docs/stable/user_guide/indexing.html#returning-a-view-versus-a-copy\n",
      "  top_5_df['predicted_amount_of_crimes_per_head'] = top_5_df['predicted_amount_of_crimes'] / top_5_df['LSOA population_last_year']\n",
      "/var/folders/44/c61kn_t5793fw4b0n9q5kfn40000gn/T/ipykernel_6759/1836695422.py:11: SettingWithCopyWarning: \n",
      "A value is trying to be set on a copy of a slice from a DataFrame.\n",
      "Try using .loc[row_indexer,col_indexer] = value instead\n",
      "\n",
      "See the caveats in the documentation: https://pandas.pydata.org/pandas-docs/stable/user_guide/indexing.html#returning-a-view-versus-a-copy\n",
      "  top_5_df['amount_of_crimes_per_head'] = top_5_df['amount_of_crimes'] / top_5_df['LSOA population_last_year']\n"
     ]
    },
    {
     "data": {
      "text/html": [
       "<div>\n",
       "<style scoped>\n",
       "    .dataframe tbody tr th:only-of-type {\n",
       "        vertical-align: middle;\n",
       "    }\n",
       "\n",
       "    .dataframe tbody tr th {\n",
       "        vertical-align: top;\n",
       "    }\n",
       "\n",
       "    .dataframe thead th {\n",
       "        text-align: right;\n",
       "    }\n",
       "</style>\n",
       "<table border=\"1\" class=\"dataframe\">\n",
       "  <thead>\n",
       "    <tr style=\"text-align: right;\">\n",
       "      <th></th>\n",
       "      <th>LSOA name</th>\n",
       "      <th>amount_of_crimes</th>\n",
       "      <th>amount_of_crimes_per_head</th>\n",
       "    </tr>\n",
       "  </thead>\n",
       "  <tbody>\n",
       "    <tr>\n",
       "      <th>0</th>\n",
       "      <td>City of London 001F</td>\n",
       "      <td>720.750000</td>\n",
       "      <td>0.640667</td>\n",
       "    </tr>\n",
       "    <tr>\n",
       "      <th>1</th>\n",
       "      <td>Westminster 013E</td>\n",
       "      <td>897.166667</td>\n",
       "      <td>0.639008</td>\n",
       "    </tr>\n",
       "    <tr>\n",
       "      <th>2</th>\n",
       "      <td>Westminster 018A</td>\n",
       "      <td>874.750000</td>\n",
       "      <td>0.466533</td>\n",
       "    </tr>\n",
       "    <tr>\n",
       "      <th>3</th>\n",
       "      <td>Manchester 054C</td>\n",
       "      <td>575.333333</td>\n",
       "      <td>0.363905</td>\n",
       "    </tr>\n",
       "    <tr>\n",
       "      <th>4</th>\n",
       "      <td>Birmingham 138A</td>\n",
       "      <td>465.166667</td>\n",
       "      <td>0.332025</td>\n",
       "    </tr>\n",
       "    <tr>\n",
       "      <th>5</th>\n",
       "      <td>Westminster 018C</td>\n",
       "      <td>633.166667</td>\n",
       "      <td>0.321731</td>\n",
       "    </tr>\n",
       "    <tr>\n",
       "      <th>6</th>\n",
       "      <td>Westminster 013B</td>\n",
       "      <td>742.166667</td>\n",
       "      <td>0.267640</td>\n",
       "    </tr>\n",
       "    <tr>\n",
       "      <th>7</th>\n",
       "      <td>Westminster 018B</td>\n",
       "      <td>309.833333</td>\n",
       "      <td>0.232085</td>\n",
       "    </tr>\n",
       "    <tr>\n",
       "      <th>8</th>\n",
       "      <td>Gloucester 004F</td>\n",
       "      <td>234.916667</td>\n",
       "      <td>0.194307</td>\n",
       "    </tr>\n",
       "    <tr>\n",
       "      <th>9</th>\n",
       "      <td>Kingston upon Hull 029E</td>\n",
       "      <td>313.500000</td>\n",
       "      <td>0.193042</td>\n",
       "    </tr>\n",
       "  </tbody>\n",
       "</table>\n",
       "</div>"
      ],
      "text/plain": [
       "                 LSOA name  amount_of_crimes  amount_of_crimes_per_head\n",
       "0      City of London 001F        720.750000                   0.640667\n",
       "1         Westminster 013E        897.166667                   0.639008\n",
       "2         Westminster 018A        874.750000                   0.466533\n",
       "3          Manchester 054C        575.333333                   0.363905\n",
       "4          Birmingham 138A        465.166667                   0.332025\n",
       "5         Westminster 018C        633.166667                   0.321731\n",
       "6         Westminster 013B        742.166667                   0.267640\n",
       "7         Westminster 018B        309.833333                   0.232085\n",
       "8          Gloucester 004F        234.916667                   0.194307\n",
       "9  Kingston upon Hull 029E        313.500000                   0.193042"
      ]
     },
     "metadata": {},
     "output_type": "display_data"
    },
    {
     "data": {
      "text/html": [
       "<div>\n",
       "<style scoped>\n",
       "    .dataframe tbody tr th:only-of-type {\n",
       "        vertical-align: middle;\n",
       "    }\n",
       "\n",
       "    .dataframe tbody tr th {\n",
       "        vertical-align: top;\n",
       "    }\n",
       "\n",
       "    .dataframe thead th {\n",
       "        text-align: right;\n",
       "    }\n",
       "</style>\n",
       "<table border=\"1\" class=\"dataframe\">\n",
       "  <thead>\n",
       "    <tr style=\"text-align: right;\">\n",
       "      <th></th>\n",
       "      <th>LSOA name</th>\n",
       "      <th>predicted_amount_of_crimes</th>\n",
       "      <th>predicted_amount_of_crimes_per_head</th>\n",
       "    </tr>\n",
       "  </thead>\n",
       "  <tbody>\n",
       "    <tr>\n",
       "      <th>0</th>\n",
       "      <td>Westminster 013E</td>\n",
       "      <td>932.480556</td>\n",
       "      <td>0.664160</td>\n",
       "    </tr>\n",
       "    <tr>\n",
       "      <th>1</th>\n",
       "      <td>City of London 001F</td>\n",
       "      <td>697.498333</td>\n",
       "      <td>0.619999</td>\n",
       "    </tr>\n",
       "    <tr>\n",
       "      <th>2</th>\n",
       "      <td>Westminster 018A</td>\n",
       "      <td>866.216667</td>\n",
       "      <td>0.461982</td>\n",
       "    </tr>\n",
       "    <tr>\n",
       "      <th>3</th>\n",
       "      <td>Manchester 054C</td>\n",
       "      <td>614.366667</td>\n",
       "      <td>0.388594</td>\n",
       "    </tr>\n",
       "    <tr>\n",
       "      <th>4</th>\n",
       "      <td>Westminster 018C</td>\n",
       "      <td>658.983333</td>\n",
       "      <td>0.334849</td>\n",
       "    </tr>\n",
       "    <tr>\n",
       "      <th>5</th>\n",
       "      <td>Birmingham 138A</td>\n",
       "      <td>450.412500</td>\n",
       "      <td>0.321494</td>\n",
       "    </tr>\n",
       "    <tr>\n",
       "      <th>6</th>\n",
       "      <td>Westminster 013B</td>\n",
       "      <td>768.720833</td>\n",
       "      <td>0.277216</td>\n",
       "    </tr>\n",
       "    <tr>\n",
       "      <th>7</th>\n",
       "      <td>Westminster 018B</td>\n",
       "      <td>300.534167</td>\n",
       "      <td>0.225119</td>\n",
       "    </tr>\n",
       "    <tr>\n",
       "      <th>8</th>\n",
       "      <td>Newcastle upon Tyne 024G</td>\n",
       "      <td>454.709722</td>\n",
       "      <td>0.198044</td>\n",
       "    </tr>\n",
       "    <tr>\n",
       "      <th>9</th>\n",
       "      <td>Gloucester 004F</td>\n",
       "      <td>230.075000</td>\n",
       "      <td>0.190302</td>\n",
       "    </tr>\n",
       "  </tbody>\n",
       "</table>\n",
       "</div>"
      ],
      "text/plain": [
       "                  LSOA name  predicted_amount_of_crimes  \\\n",
       "0          Westminster 013E                  932.480556   \n",
       "1       City of London 001F                  697.498333   \n",
       "2          Westminster 018A                  866.216667   \n",
       "3           Manchester 054C                  614.366667   \n",
       "4          Westminster 018C                  658.983333   \n",
       "5           Birmingham 138A                  450.412500   \n",
       "6          Westminster 013B                  768.720833   \n",
       "7          Westminster 018B                  300.534167   \n",
       "8  Newcastle upon Tyne 024G                  454.709722   \n",
       "9           Gloucester 004F                  230.075000   \n",
       "\n",
       "   predicted_amount_of_crimes_per_head  \n",
       "0                             0.664160  \n",
       "1                             0.619999  \n",
       "2                             0.461982  \n",
       "3                             0.388594  \n",
       "4                             0.334849  \n",
       "5                             0.321494  \n",
       "6                             0.277216  \n",
       "7                             0.225119  \n",
       "8                             0.198044  \n",
       "9                             0.190302  "
      ]
     },
     "metadata": {},
     "output_type": "display_data"
    }
   ],
   "source": [
    "test_data_forecasted = test.copy()\n",
    "test_data_forecasted['predicted_amount_of_crimes'] = y_pred3\n",
    "top_5_df = test_data_forecasted[['LSOA name', 'predicted_amount_of_crimes', 'LSOA population_last_year']]\n",
    "top_5_df['predicted_amount_of_crimes_per_head'] = top_5_df['predicted_amount_of_crimes'] / top_5_df['LSOA population_last_year']\n",
    "top_5_df = top_5_df.groupby('LSOA name').mean()\n",
    "top_5_df_predicted = top_5_df.sort_values('predicted_amount_of_crimes_per_head', ascending=False).head(10).reset_index()\n",
    "\n",
    "\n",
    "test_data_forecasted = test.copy()\n",
    "top_5_df = test_data_forecasted[['LSOA name', 'amount_of_crimes', 'LSOA population_last_year']]\n",
    "top_5_df['amount_of_crimes_per_head'] = top_5_df['amount_of_crimes'] / top_5_df['LSOA population_last_year']\n",
    "top_5_df = top_5_df.groupby('LSOA name').mean()\n",
    "top_5_df_real = top_5_df.sort_values('amount_of_crimes_per_head', ascending=False).head(10).reset_index()\n",
    "\n",
    "display(top_5_df_real[['LSOA name', 'amount_of_crimes','amount_of_crimes_per_head']], top_5_df_predicted[['LSOA name', 'predicted_amount_of_crimes','predicted_amount_of_crimes_per_head']])"
   ]
  }
 ],
 "metadata": {
  "colab": {
   "name": "OLS.ipynb",
   "provenance": []
  },
  "kernelspec": {
   "display_name": "Python 3 (ipykernel)",
   "language": "python",
   "name": "python3"
  },
  "language_info": {
   "codemirror_mode": {
    "name": "ipython",
    "version": 3
   },
   "file_extension": ".py",
   "mimetype": "text/x-python",
   "name": "python",
   "nbconvert_exporter": "python",
   "pygments_lexer": "ipython3",
   "version": "3.9.7"
  }
 },
 "nbformat": 4,
 "nbformat_minor": 1
}
