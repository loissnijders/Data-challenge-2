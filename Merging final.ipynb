{
 "cells": [
  {
   "cell_type": "code",
   "execution_count": 29,
   "id": "e790a6e9",
   "metadata": {},
   "outputs": [],
   "source": [
    "import pandas as pd \n",
    "import numpy as np\n",
    "import sqlite3\n",
    "import pickle\n",
    "pd.set_option('display.max_columns', None)\n",
    "from functools import reduce \n"
   ]
  },
  {
   "cell_type": "code",
   "execution_count": 30,
   "id": "be726f31",
   "metadata": {},
   "outputs": [],
   "source": [
    "conn = sqlite3.connect('database.db')"
   ]
  },
  {
   "cell_type": "code",
   "execution_count": 110,
   "id": "7b7ebe2e",
   "metadata": {},
   "outputs": [],
   "source": [
    "\n",
    "query = '''\n",
    "    SELECT DISTINCT \"Month\", \"LSOA name\", \"LSOA code\", \"Falls within\", COUNT() AS amount_of_crimes\n",
    "    FROM street2012\n",
    "    GROUP BY \"Month\", \"LSOA code\"\n",
    "    UNION ALL\n",
    "    SELECT DISTINCT \"Month\", \"LSOA name\", \"LSOA code\",\"Falls within\", COUNT() AS amount_of_crimes\n",
    "    FROM street2013\n",
    "    GROUP BY \"Month\", \"LSOA code\"\n",
    "    UNION ALL\n",
    "    SELECT DISTINCT \"Month\", \"LSOA name\", \"LSOA code\",\"Falls within\", COUNT() AS amount_of_crimes\n",
    "    FROM street2014\n",
    "    GROUP BY \"Month\", \"LSOA code\"\n",
    "    UNION ALL\n",
    "    SELECT DISTINCT \"Month\", \"LSOA name\", \"LSOA code\",\"Falls within\", COUNT() AS amount_of_crimes\n",
    "    FROM street2015\n",
    "    GROUP BY \"Month\", \"LSOA code\"\n",
    "    UNION ALL\n",
    "    SELECT DISTINCT \"Month\", \"LSOA name\", \"LSOA code\",\"Falls within\", COUNT() AS amount_of_crimes\n",
    "    FROM street2016\n",
    "    GROUP BY \"Month\", \"LSOA code\"\n",
    "    UNION ALL\n",
    "    SELECT DISTINCT \"Month\", \"LSOA name\", \"LSOA code\",\"Falls within\", COUNT() AS amount_of_crimes\n",
    "    FROM street2017\n",
    "    GROUP BY \"Month\", \"LSOA code\"\n",
    "    UNION ALL\n",
    "    SELECT DISTINCT \"Month\", \"LSOA name\", \"LSOA code\", \"Falls within\", COUNT() AS amount_of_crimes\n",
    "    FROM street2018\n",
    "    GROUP BY \"Month\", \"LSOA code\"\n",
    "    UNION ALL\n",
    "    SELECT DISTINCT \"Month\", \"LSOA name\", \"LSOA code\", \"Falls within\", COUNT() AS amount_of_crimes\n",
    "    FROM street2019\n",
    "    GROUP BY \"Month\", \"LSOA code\"\n",
    "    '''\n",
    "dataframe2 = pd.read_sql_query(query, conn)"
   ]
  },
  {
   "cell_type": "code",
   "execution_count": 111,
   "id": "c2f4d4dc",
   "metadata": {},
   "outputs": [],
   "source": [
    "#Train\n",
    "crime_per_district = dataframe2.copy()\n",
    "crime_per_district[\"Falls within\"] = crime_per_district[\"Falls within\"].str.rsplit(' ',1).str[0]\n",
    "crime_per_district = crime_per_district.rename(columns={'LSOA name': 'name', 'LSOA code': 'Geo code', 'Falls within':'Force Name'})"
   ]
  },
  {
   "cell_type": "code",
   "execution_count": 113,
   "id": "3643f53f",
   "metadata": {},
   "outputs": [],
   "source": [
    "del dataframe2"
   ]
  },
  {
   "cell_type": "markdown",
   "id": "bb7e7e5e",
   "metadata": {},
   "source": [
    "# Police per district (yearly)"
   ]
  },
  {
   "cell_type": "code",
   "execution_count": 38,
   "id": "e65a4418",
   "metadata": {},
   "outputs": [],
   "source": [
    "df_police = pd.read_excel('Number of police officers per district per year.ods', engine='odf')\n",
    "df_police = df_police.rename(columns={'As at 31 March...': 'year', 'Geo code': 'Geo code police'})"
   ]
  },
  {
   "cell_type": "code",
   "execution_count": 39,
   "id": "5ca6aaaa",
   "metadata": {},
   "outputs": [],
   "source": [
    "df_police2 = df_police[df_police['year']>2011]\n",
    "df_police3 = df_police2[df_police2['year']<2020]\n",
    "df_police4 = df_police3[df_police3['Worker type']=='Police Officer']\n",
    "df_police_final = df_police4.groupby(['year','Force Name', 'Geo code police'])[['Total (headcount)']].sum()"
   ]
  },
  {
   "cell_type": "code",
   "execution_count": 40,
   "id": "feb3a13a",
   "metadata": {},
   "outputs": [],
   "source": [
    "del df_police\n",
    "del df_police2\n",
    "del df_police3\n",
    "del df_police4"
   ]
  },
  {
   "cell_type": "markdown",
   "id": "1b8a8c1a",
   "metadata": {},
   "source": [
    "# Population LSOA (yearly)"
   ]
  },
  {
   "cell_type": "code",
   "execution_count": 41,
   "id": "7b6da714",
   "metadata": {},
   "outputs": [
    {
     "name": "stderr",
     "output_type": "stream",
     "text": [
      "C:\\Users\\blaze\\Anaconda3\\lib\\site-packages\\openpyxl\\worksheet\\header_footer.py:48: UserWarning: Cannot parse header or footer so it will be ignored\n",
      "  warn(\"\"\"Cannot parse header or footer so it will be ignored\"\"\")\n"
     ]
    }
   ],
   "source": [
    "df_2012 = pd.read_excel('people2012.xlsx')\n",
    "df_2013 = pd.read_excel('people2013.xlsx')\n",
    "df_2014 = pd.read_excel('people2014.xlsx')\n",
    "df_2015 = pd.read_excel('people2015.xlsx')\n",
    "df_2016 = pd.read_excel('people2016.xlsx')\n",
    "df_2017 = pd.read_excel('people2017.xlsx')\n",
    "df_2018 = pd.read_excel('people2018.xlsx')\n",
    "df_2019 = pd.read_excel('people2019.xlsx')"
   ]
  },
  {
   "cell_type": "code",
   "execution_count": 42,
   "id": "e87068d2",
   "metadata": {},
   "outputs": [],
   "source": [
    "df_2012 = df_2012[['Area Codes', 'All Ages']]\n",
    "df_2013 = df_2013[['Area Codes', 'All Ages']]\n",
    "df_2014 = df_2014[['Area Codes', 'All Ages']]\n",
    "df_2015 = df_2015[['Area Codes', 'All Ages']]\n",
    "df_2016 = df_2016[['Area Codes', 'All Ages']]\n",
    "df_2017 = df_2017[['Area Codes', 'All Ages']]\n",
    "df_2018 = df_2018[['Area Codes', 'All Ages']]\n",
    "df_2019 = df_2019[['LSOA Code', 'All Ages']]\n",
    "df_2012 = df_2012.rename(columns={'All Ages':'Population 2012'})\n",
    "df_2013 = df_2013.rename(columns={'All Ages':'Population 2013'})\n",
    "df_2014 = df_2014.rename(columns={'All Ages':'Population 2014'})\n",
    "df_2015 = df_2015.rename(columns={'All Ages':'Population 2015'})\n",
    "df_2016 = df_2016.rename(columns={'All Ages':'Population 2016'})\n",
    "df_2017 = df_2017.rename(columns={'All Ages':'Population 2017'})\n",
    "df_2018 = df_2018.rename(columns={'All Ages':'Population 2018'})\n",
    "df_2019 = df_2019.rename(columns={'LSOA Code': 'Area Codes', 'All Ages':'Population 2019'})"
   ]
  },
  {
   "cell_type": "code",
   "execution_count": 43,
   "id": "77b7e30b",
   "metadata": {},
   "outputs": [],
   "source": [
    "data_frames = [df_2012, df_2013,df_2014,df_2015,df_2016,df_2017,df_2018,df_2019]"
   ]
  },
  {
   "cell_type": "code",
   "execution_count": 44,
   "id": "bbbc1829",
   "metadata": {},
   "outputs": [],
   "source": [
    "df_pop_merged =  reduce(lambda  left,right: pd.merge(left,right,on=['Area Codes'], how='outer'), data_frames)"
   ]
  },
  {
   "cell_type": "code",
   "execution_count": 45,
   "id": "b4badd6e",
   "metadata": {},
   "outputs": [],
   "source": [
    "del df_2012\n",
    "del df_2013\n",
    "del df_2014\n",
    "del df_2015\n",
    "del df_2016\n",
    "del df_2017\n",
    "del df_2018\n",
    "del df_2019\n"
   ]
  },
  {
   "cell_type": "code",
   "execution_count": 46,
   "id": "f2b0ee8c",
   "metadata": {},
   "outputs": [],
   "source": [
    "df_pop_merged2 = df_pop_merged.copy()\n",
    "df_pop_merged2 = df_pop_merged2.loc[df_pop_merged.index.repeat(8)]\n",
    "df_pop_merged2['year']= 2012\n",
    "df_pop_merged2['LSOA population']= 514261.0\n",
    "df_pop_merged2.reset_index(inplace=True)"
   ]
  },
  {
   "cell_type": "code",
   "execution_count": 47,
   "id": "59c65a43",
   "metadata": {},
   "outputs": [],
   "source": [
    "del df_pop_merged"
   ]
  },
  {
   "cell_type": "code",
   "execution_count": 48,
   "id": "8d367b16",
   "metadata": {},
   "outputs": [
    {
     "name": "stderr",
     "output_type": "stream",
     "text": [
      "C:\\Users\\blaze\\AppData\\Local\\Temp/ipykernel_13568/4108131678.py:3: SettingWithCopyWarning: \n",
      "A value is trying to be set on a copy of a slice from a DataFrame\n",
      "\n",
      "See the caveats in the documentation: https://pandas.pydata.org/pandas-docs/stable/user_guide/indexing.html#returning-a-view-versus-a-copy\n",
      "  df_pop_merged2['year'][i] = df_pop_merged2['year'][i-1]+1\n"
     ]
    }
   ],
   "source": [
    "for i in range (1, df_pop_merged2.shape[0]):\n",
    "    if df_pop_merged2['index'][i] == df_pop_merged2['index'][i-1]:\n",
    "        df_pop_merged2['year'][i] = df_pop_merged2['year'][i-1]+1"
   ]
  },
  {
   "cell_type": "code",
   "execution_count": 49,
   "id": "0df653ee",
   "metadata": {},
   "outputs": [
    {
     "name": "stderr",
     "output_type": "stream",
     "text": [
      "C:\\Users\\blaze\\AppData\\Local\\Temp/ipykernel_13568/1683829782.py:3: SettingWithCopyWarning: \n",
      "A value is trying to be set on a copy of a slice from a DataFrame\n",
      "\n",
      "See the caveats in the documentation: https://pandas.pydata.org/pandas-docs/stable/user_guide/indexing.html#returning-a-view-versus-a-copy\n",
      "  df_pop_merged2['LSOA population'][i] = df_pop_merged2['Population 2012'][i]\n",
      "C:\\Users\\blaze\\AppData\\Local\\Temp/ipykernel_13568/1683829782.py:5: SettingWithCopyWarning: \n",
      "A value is trying to be set on a copy of a slice from a DataFrame\n",
      "\n",
      "See the caveats in the documentation: https://pandas.pydata.org/pandas-docs/stable/user_guide/indexing.html#returning-a-view-versus-a-copy\n",
      "  df_pop_merged2['LSOA population'][i] = df_pop_merged2['Population 2013'][i]\n",
      "C:\\Users\\blaze\\AppData\\Local\\Temp/ipykernel_13568/1683829782.py:7: SettingWithCopyWarning: \n",
      "A value is trying to be set on a copy of a slice from a DataFrame\n",
      "\n",
      "See the caveats in the documentation: https://pandas.pydata.org/pandas-docs/stable/user_guide/indexing.html#returning-a-view-versus-a-copy\n",
      "  df_pop_merged2['LSOA population'][i] = df_pop_merged2['Population 2014'][i]\n",
      "C:\\Users\\blaze\\AppData\\Local\\Temp/ipykernel_13568/1683829782.py:9: SettingWithCopyWarning: \n",
      "A value is trying to be set on a copy of a slice from a DataFrame\n",
      "\n",
      "See the caveats in the documentation: https://pandas.pydata.org/pandas-docs/stable/user_guide/indexing.html#returning-a-view-versus-a-copy\n",
      "  df_pop_merged2['LSOA population'][i] = df_pop_merged2['Population 2015'][i]\n",
      "C:\\Users\\blaze\\AppData\\Local\\Temp/ipykernel_13568/1683829782.py:11: SettingWithCopyWarning: \n",
      "A value is trying to be set on a copy of a slice from a DataFrame\n",
      "\n",
      "See the caveats in the documentation: https://pandas.pydata.org/pandas-docs/stable/user_guide/indexing.html#returning-a-view-versus-a-copy\n",
      "  df_pop_merged2['LSOA population'][i] = df_pop_merged2['Population 2016'][i]\n",
      "C:\\Users\\blaze\\AppData\\Local\\Temp/ipykernel_13568/1683829782.py:13: SettingWithCopyWarning: \n",
      "A value is trying to be set on a copy of a slice from a DataFrame\n",
      "\n",
      "See the caveats in the documentation: https://pandas.pydata.org/pandas-docs/stable/user_guide/indexing.html#returning-a-view-versus-a-copy\n",
      "  df_pop_merged2['LSOA population'][i] = df_pop_merged2['Population 2017'][i]\n",
      "C:\\Users\\blaze\\AppData\\Local\\Temp/ipykernel_13568/1683829782.py:15: SettingWithCopyWarning: \n",
      "A value is trying to be set on a copy of a slice from a DataFrame\n",
      "\n",
      "See the caveats in the documentation: https://pandas.pydata.org/pandas-docs/stable/user_guide/indexing.html#returning-a-view-versus-a-copy\n",
      "  df_pop_merged2['LSOA population'][i] = df_pop_merged2['Population 2018'][i]\n",
      "C:\\Users\\blaze\\AppData\\Local\\Temp/ipykernel_13568/1683829782.py:17: SettingWithCopyWarning: \n",
      "A value is trying to be set on a copy of a slice from a DataFrame\n",
      "\n",
      "See the caveats in the documentation: https://pandas.pydata.org/pandas-docs/stable/user_guide/indexing.html#returning-a-view-versus-a-copy\n",
      "  df_pop_merged2['LSOA population'][i] = df_pop_merged2['Population 2019'][i]\n"
     ]
    }
   ],
   "source": [
    "for i in range (0, df_pop_merged2.shape[0]):\n",
    "    if df_pop_merged2['year'][i]==2012:\n",
    "        df_pop_merged2['LSOA population'][i] = df_pop_merged2['Population 2012'][i]\n",
    "    if df_pop_merged2['year'][i]==2013:\n",
    "        df_pop_merged2['LSOA population'][i] = df_pop_merged2['Population 2013'][i]\n",
    "    if df_pop_merged2['year'][i]==2014:\n",
    "        df_pop_merged2['LSOA population'][i] = df_pop_merged2['Population 2014'][i]\n",
    "    if df_pop_merged2['year'][i]==2015:\n",
    "        df_pop_merged2['LSOA population'][i] = df_pop_merged2['Population 2015'][i]\n",
    "    if df_pop_merged2['year'][i]==2016:\n",
    "        df_pop_merged2['LSOA population'][i] = df_pop_merged2['Population 2016'][i]\n",
    "    if df_pop_merged2['year'][i]==2017:\n",
    "        df_pop_merged2['LSOA population'][i] = df_pop_merged2['Population 2017'][i]\n",
    "    if df_pop_merged2['year'][i]==2018:\n",
    "        df_pop_merged2['LSOA population'][i] = df_pop_merged2['Population 2018'][i]\n",
    "    if df_pop_merged2['year'][i]==2019:\n",
    "        df_pop_merged2['LSOA population'][i] = df_pop_merged2['Population 2019'][i] "
   ]
  },
  {
   "cell_type": "code",
   "execution_count": 50,
   "id": "42fe3102",
   "metadata": {},
   "outputs": [],
   "source": [
    "df_pop_merged2.drop(['Population 2012', 'Population 2013','Population 2014','Population 2015','Population 2016','Population 2017', 'Population 2018', 'Population 2019'], axis=1, inplace=True)"
   ]
  },
  {
   "cell_type": "code",
   "execution_count": 51,
   "id": "d9fffe4e",
   "metadata": {},
   "outputs": [],
   "source": [
    "df_pop_merged2 = df_pop_merged2.rename(columns={'Area Codes': 'LSOA code'})"
   ]
  },
  {
   "cell_type": "markdown",
   "id": "69099137",
   "metadata": {},
   "source": [
    "# Population District (yearly)"
   ]
  },
  {
   "cell_type": "code",
   "execution_count": 52,
   "id": "73c8e166",
   "metadata": {},
   "outputs": [],
   "source": [
    "df_population = pd.read_csv(\"Population of each district.csv\")\n",
    "df_population=df_population.rename(columns={'ladcode21':'Geo code', 'laname21':'name'})\n",
    "\n",
    "df_districts = pd.read_csv(\"districts.csv\")\n",
    "df_districts = df_districts.rename(columns={'LAD19CD':'Geo code', 'LAD19NM':'name','PFA19CD': 'Geo code police', 'PFA19NM':'Force Name'})\n",
    "df_districts.drop(['CSP19CD', 'CSP19NM', 'FID'], axis=1, inplace=True)\n",
    "\n",
    "df_population2 = df_population.groupby(['name', 'Geo code'])[['population_2012', 'population_2013', 'population_2014', 'population_2015', 'population_2016', 'population_2017', 'population_2018', 'population_2019']].sum()\n",
    "df_population2.reset_index(inplace=True)\n",
    "df_population_final = pd.merge(df_population2, df_districts, on='Geo code')\n",
    "df_population_final = df_population_final.rename(columns={'name_x': 'name'})\n",
    "df_population_final.drop(['name_y'], axis=1, inplace=True)"
   ]
  },
  {
   "cell_type": "code",
   "execution_count": 53,
   "id": "54b143b3",
   "metadata": {},
   "outputs": [],
   "source": [
    "del df_population\n",
    "del df_districts\n",
    "del df_population2"
   ]
  },
  {
   "cell_type": "markdown",
   "id": "b1c304ab",
   "metadata": {},
   "source": [
    "# Merge population with the police"
   ]
  },
  {
   "cell_type": "code",
   "execution_count": 54,
   "id": "1823524e",
   "metadata": {},
   "outputs": [],
   "source": [
    "df_police_final2 = df_police_final.unstack(level=0)\n",
    "df_police_final2.reset_index(inplace=True)"
   ]
  },
  {
   "cell_type": "code",
   "execution_count": 55,
   "id": "9aa9f672",
   "metadata": {},
   "outputs": [
    {
     "name": "stderr",
     "output_type": "stream",
     "text": [
      "C:\\Users\\blaze\\AppData\\Local\\Temp/ipykernel_13568/1797237973.py:1: FutureWarning: merging between different levels is deprecated and will be removed in a future version. (2 levels on the left,1 on the right)\n",
      "  df_pop_pol = pd.merge(df_police_final2, df_population_final, on='Force Name')\n"
     ]
    }
   ],
   "source": [
    "df_pop_pol = pd.merge(df_police_final2, df_population_final, on='Force Name')\n",
    "df_pop_pol.drop(('Geo code police', ''), axis=1, inplace=True)"
   ]
  },
  {
   "cell_type": "code",
   "execution_count": 56,
   "id": "e3197564",
   "metadata": {},
   "outputs": [],
   "source": [
    "del df_police_final\n",
    "del df_police_final2"
   ]
  },
  {
   "cell_type": "markdown",
   "id": "11bed414",
   "metadata": {},
   "source": [
    "# Add year population and headcount column to merged dataframe"
   ]
  },
  {
   "cell_type": "code",
   "execution_count": 57,
   "id": "fe521f1a",
   "metadata": {},
   "outputs": [],
   "source": [
    "df_pop_pol1 = df_pop_pol.copy()\n",
    "df_pop_pol1 = df_pop_pol1.loc[df_pop_pol1.index.repeat(8)]\n",
    "df_pop_pol1['year']= 2012\n",
    "df_pop_pol1['population']= 61334\n",
    "df_pop_pol1['headcount'] = 3181\n",
    "df_pop_pol1.reset_index(inplace=True)"
   ]
  },
  {
   "cell_type": "code",
   "execution_count": 58,
   "id": "74ec67eb",
   "metadata": {},
   "outputs": [],
   "source": [
    "del df_pop_pol"
   ]
  },
  {
   "cell_type": "code",
   "execution_count": 59,
   "id": "bf301588",
   "metadata": {},
   "outputs": [
    {
     "name": "stderr",
     "output_type": "stream",
     "text": [
      "C:\\Users\\blaze\\AppData\\Local\\Temp/ipykernel_13568/2307358565.py:3: SettingWithCopyWarning: \n",
      "A value is trying to be set on a copy of a slice from a DataFrame\n",
      "\n",
      "See the caveats in the documentation: https://pandas.pydata.org/pandas-docs/stable/user_guide/indexing.html#returning-a-view-versus-a-copy\n",
      "  df_pop_pol1['year'][i] = df_pop_pol1['year'][i-1]+1\n"
     ]
    }
   ],
   "source": [
    "for i in range (1, df_pop_pol1.shape[0]):\n",
    "    if df_pop_pol1['index'][i] == df_pop_pol1['index'][i-1]:\n",
    "        df_pop_pol1['year'][i] = df_pop_pol1['year'][i-1]+1"
   ]
  },
  {
   "cell_type": "code",
   "execution_count": 60,
   "id": "cb9a12a7",
   "metadata": {},
   "outputs": [
    {
     "name": "stderr",
     "output_type": "stream",
     "text": [
      "C:\\Users\\blaze\\AppData\\Local\\Temp/ipykernel_13568/3806902658.py:6: SettingWithCopyWarning: \n",
      "A value is trying to be set on a copy of a slice from a DataFrame\n",
      "\n",
      "See the caveats in the documentation: https://pandas.pydata.org/pandas-docs/stable/user_guide/indexing.html#returning-a-view-versus-a-copy\n",
      "  df_pop_pol1['population'][i] = df_pop_pol1['population_2012'][i]\n",
      "C:\\Users\\blaze\\AppData\\Local\\Temp/ipykernel_13568/3806902658.py:7: SettingWithCopyWarning: \n",
      "A value is trying to be set on a copy of a slice from a DataFrame\n",
      "\n",
      "See the caveats in the documentation: https://pandas.pydata.org/pandas-docs/stable/user_guide/indexing.html#returning-a-view-versus-a-copy\n",
      "  df_pop_pol1['headcount'][i] = df_pop_pol1[('Total (headcount)', 2012)][i]\n",
      "C:\\Users\\blaze\\AppData\\Local\\Temp/ipykernel_13568/3806902658.py:9: SettingWithCopyWarning: \n",
      "A value is trying to be set on a copy of a slice from a DataFrame\n",
      "\n",
      "See the caveats in the documentation: https://pandas.pydata.org/pandas-docs/stable/user_guide/indexing.html#returning-a-view-versus-a-copy\n",
      "  df_pop_pol1['population'][i] = df_pop_pol1['population_2013'][i]\n",
      "C:\\Users\\blaze\\AppData\\Local\\Temp/ipykernel_13568/3806902658.py:10: SettingWithCopyWarning: \n",
      "A value is trying to be set on a copy of a slice from a DataFrame\n",
      "\n",
      "See the caveats in the documentation: https://pandas.pydata.org/pandas-docs/stable/user_guide/indexing.html#returning-a-view-versus-a-copy\n",
      "  df_pop_pol1['headcount'][i] = df_pop_pol1[('Total (headcount)', 2013)][i]\n",
      "C:\\Users\\blaze\\AppData\\Local\\Temp/ipykernel_13568/3806902658.py:12: SettingWithCopyWarning: \n",
      "A value is trying to be set on a copy of a slice from a DataFrame\n",
      "\n",
      "See the caveats in the documentation: https://pandas.pydata.org/pandas-docs/stable/user_guide/indexing.html#returning-a-view-versus-a-copy\n",
      "  df_pop_pol1['population'][i] = df_pop_pol1['population_2014'][i]\n",
      "C:\\Users\\blaze\\AppData\\Local\\Temp/ipykernel_13568/3806902658.py:13: SettingWithCopyWarning: \n",
      "A value is trying to be set on a copy of a slice from a DataFrame\n",
      "\n",
      "See the caveats in the documentation: https://pandas.pydata.org/pandas-docs/stable/user_guide/indexing.html#returning-a-view-versus-a-copy\n",
      "  df_pop_pol1['headcount'][i] = df_pop_pol1[('Total (headcount)', 2014)][i]\n",
      "C:\\Users\\blaze\\AppData\\Local\\Temp/ipykernel_13568/3806902658.py:15: SettingWithCopyWarning: \n",
      "A value is trying to be set on a copy of a slice from a DataFrame\n",
      "\n",
      "See the caveats in the documentation: https://pandas.pydata.org/pandas-docs/stable/user_guide/indexing.html#returning-a-view-versus-a-copy\n",
      "  df_pop_pol1['population'][i] = df_pop_pol1['population_2015'][i]\n",
      "C:\\Users\\blaze\\AppData\\Local\\Temp/ipykernel_13568/3806902658.py:16: SettingWithCopyWarning: \n",
      "A value is trying to be set on a copy of a slice from a DataFrame\n",
      "\n",
      "See the caveats in the documentation: https://pandas.pydata.org/pandas-docs/stable/user_guide/indexing.html#returning-a-view-versus-a-copy\n",
      "  df_pop_pol1['headcount'][i] = df_pop_pol1[('Total (headcount)', 2015)][i]\n",
      "C:\\Users\\blaze\\AppData\\Local\\Temp/ipykernel_13568/3806902658.py:18: SettingWithCopyWarning: \n",
      "A value is trying to be set on a copy of a slice from a DataFrame\n",
      "\n",
      "See the caveats in the documentation: https://pandas.pydata.org/pandas-docs/stable/user_guide/indexing.html#returning-a-view-versus-a-copy\n",
      "  df_pop_pol1['population'][i] = df_pop_pol1['population_2016'][i]\n",
      "C:\\Users\\blaze\\AppData\\Local\\Temp/ipykernel_13568/3806902658.py:19: SettingWithCopyWarning: \n",
      "A value is trying to be set on a copy of a slice from a DataFrame\n",
      "\n",
      "See the caveats in the documentation: https://pandas.pydata.org/pandas-docs/stable/user_guide/indexing.html#returning-a-view-versus-a-copy\n",
      "  df_pop_pol1['headcount'][i] = df_pop_pol1[('Total (headcount)', 2016)][i]\n",
      "C:\\Users\\blaze\\AppData\\Local\\Temp/ipykernel_13568/3806902658.py:21: SettingWithCopyWarning: \n",
      "A value is trying to be set on a copy of a slice from a DataFrame\n",
      "\n",
      "See the caveats in the documentation: https://pandas.pydata.org/pandas-docs/stable/user_guide/indexing.html#returning-a-view-versus-a-copy\n",
      "  df_pop_pol1['population'][i] = df_pop_pol1['population_2017'][i]\n",
      "C:\\Users\\blaze\\AppData\\Local\\Temp/ipykernel_13568/3806902658.py:22: SettingWithCopyWarning: \n",
      "A value is trying to be set on a copy of a slice from a DataFrame\n",
      "\n",
      "See the caveats in the documentation: https://pandas.pydata.org/pandas-docs/stable/user_guide/indexing.html#returning-a-view-versus-a-copy\n",
      "  df_pop_pol1['headcount'][i] = df_pop_pol1[('Total (headcount)', 2017)][i]\n",
      "C:\\Users\\blaze\\AppData\\Local\\Temp/ipykernel_13568/3806902658.py:24: SettingWithCopyWarning: \n",
      "A value is trying to be set on a copy of a slice from a DataFrame\n",
      "\n",
      "See the caveats in the documentation: https://pandas.pydata.org/pandas-docs/stable/user_guide/indexing.html#returning-a-view-versus-a-copy\n",
      "  df_pop_pol1['population'][i] = df_pop_pol1['population_2018'][i]\n",
      "C:\\Users\\blaze\\AppData\\Local\\Temp/ipykernel_13568/3806902658.py:25: SettingWithCopyWarning: \n",
      "A value is trying to be set on a copy of a slice from a DataFrame\n",
      "\n",
      "See the caveats in the documentation: https://pandas.pydata.org/pandas-docs/stable/user_guide/indexing.html#returning-a-view-versus-a-copy\n",
      "  df_pop_pol1['headcount'][i] = df_pop_pol1[('Total (headcount)', 2018)][i]\n",
      "C:\\Users\\blaze\\AppData\\Local\\Temp/ipykernel_13568/3806902658.py:27: SettingWithCopyWarning: \n",
      "A value is trying to be set on a copy of a slice from a DataFrame\n",
      "\n",
      "See the caveats in the documentation: https://pandas.pydata.org/pandas-docs/stable/user_guide/indexing.html#returning-a-view-versus-a-copy\n",
      "  df_pop_pol1['population'][i] = df_pop_pol1['population_2019'][i]\n",
      "C:\\Users\\blaze\\AppData\\Local\\Temp/ipykernel_13568/3806902658.py:28: SettingWithCopyWarning: \n",
      "A value is trying to be set on a copy of a slice from a DataFrame\n",
      "\n",
      "See the caveats in the documentation: https://pandas.pydata.org/pandas-docs/stable/user_guide/indexing.html#returning-a-view-versus-a-copy\n",
      "  df_pop_pol1['headcount'][i] = df_pop_pol1[('Total (headcount)', 2019)][i]\n"
     ]
    }
   ],
   "source": [
    "for i in range (0, df_pop_pol1.shape[0]):\n",
    "    if df_pop_pol1['year'][i]==2011:\n",
    "        df_pop_pol1['population'][i] = df_pop_pol1['population_2011'][i]\n",
    "        df_pop_pol1['headcount'][i] = df_pop_pol1[('Total (headcount)', 2011)][i]\n",
    "    if df_pop_pol1['year'][i]==2012:\n",
    "        df_pop_pol1['population'][i] = df_pop_pol1['population_2012'][i]\n",
    "        df_pop_pol1['headcount'][i] = df_pop_pol1[('Total (headcount)', 2012)][i]\n",
    "    if df_pop_pol1['year'][i]==2013:\n",
    "        df_pop_pol1['population'][i] = df_pop_pol1['population_2013'][i]\n",
    "        df_pop_pol1['headcount'][i] = df_pop_pol1[('Total (headcount)', 2013)][i]\n",
    "    if df_pop_pol1['year'][i]==2014:\n",
    "        df_pop_pol1['population'][i] = df_pop_pol1['population_2014'][i]\n",
    "        df_pop_pol1['headcount'][i] = df_pop_pol1[('Total (headcount)', 2014)][i]\n",
    "    if df_pop_pol1['year'][i]==2015:\n",
    "        df_pop_pol1['population'][i] = df_pop_pol1['population_2015'][i]\n",
    "        df_pop_pol1['headcount'][i] = df_pop_pol1[('Total (headcount)', 2015)][i]\n",
    "    if df_pop_pol1['year'][i]==2016:\n",
    "        df_pop_pol1['population'][i] = df_pop_pol1['population_2016'][i]\n",
    "        df_pop_pol1['headcount'][i] = df_pop_pol1[('Total (headcount)', 2016)][i]\n",
    "    if df_pop_pol1['year'][i]==2017:\n",
    "        df_pop_pol1['population'][i] = df_pop_pol1['population_2017'][i]\n",
    "        df_pop_pol1['headcount'][i] = df_pop_pol1[('Total (headcount)', 2017)][i]\n",
    "    if df_pop_pol1['year'][i]==2018:\n",
    "        df_pop_pol1['population'][i] = df_pop_pol1['population_2018'][i]\n",
    "        df_pop_pol1['headcount'][i] = df_pop_pol1[('Total (headcount)', 2018)][i]\n",
    "    if df_pop_pol1['year'][i]==2019:\n",
    "        df_pop_pol1['population'][i] = df_pop_pol1['population_2019'][i]\n",
    "        df_pop_pol1['headcount'][i] = df_pop_pol1[('Total (headcount)', 2019)][i]"
   ]
  },
  {
   "cell_type": "code",
   "execution_count": 61,
   "id": "b265a0bc",
   "metadata": {},
   "outputs": [],
   "source": [
    "df_pop_pol1.drop(['population_2012', 'population_2013','population_2014','population_2015','population_2016','population_2017', 'population_2018', 'population_2019'], axis=1, inplace=True)\n",
    "df_pop_pol1.drop(['index',('Force Name', ''),('Total (headcount)', 2012), ('Total (headcount)', 2013), ('Total (headcount)', 2014), ('Total (headcount)', 2015), ('Total (headcount)', 2016),('Total (headcount)', 2017), ('Total (headcount)', 2018),('Total (headcount)', 2019)], axis=1, inplace=True)\n"
   ]
  },
  {
   "cell_type": "markdown",
   "id": "bd9f410a",
   "metadata": {},
   "source": [
    "# Add year column to dataframe from sql"
   ]
  },
  {
   "cell_type": "code",
   "execution_count": 62,
   "id": "582568f3",
   "metadata": {},
   "outputs": [],
   "source": [
    "crime_per_district['year'] = pd.to_datetime(crime_per_district['Month'], format='%Y-%m').dt.year"
   ]
  },
  {
   "cell_type": "markdown",
   "id": "639152cf",
   "metadata": {},
   "source": [
    "# Merge population per lsoa with crime dataset"
   ]
  },
  {
   "cell_type": "code",
   "execution_count": 63,
   "id": "fcac7d6d",
   "metadata": {},
   "outputs": [],
   "source": [
    "df_pop_merged2 = df_pop_merged2.rename(columns={'LSOA code':'Geo code'})"
   ]
  },
  {
   "cell_type": "code",
   "execution_count": 64,
   "id": "c5322e7e",
   "metadata": {},
   "outputs": [],
   "source": [
    "data = pd.merge(df_pop_merged2, crime_per_district, on=['year', 'Geo code'])"
   ]
  },
  {
   "cell_type": "code",
   "execution_count": 65,
   "id": "a06a7768",
   "metadata": {},
   "outputs": [],
   "source": [
    "del df_pop_merged2\n",
    "del crime_per_district"
   ]
  },
  {
   "cell_type": "code",
   "execution_count": 66,
   "id": "0f8b0b62",
   "metadata": {},
   "outputs": [],
   "source": [
    "data.rename(columns={'name': 'LSOA name', 'Geo code':'LSOA code',}, inplace=True)"
   ]
  },
  {
   "cell_type": "code",
   "execution_count": 67,
   "id": "1d25f7d3",
   "metadata": {},
   "outputs": [],
   "source": [
    "data.reset_index(inplace=True)"
   ]
  },
  {
   "cell_type": "markdown",
   "id": "d131a07b",
   "metadata": {},
   "source": [
    "# Link LSOA and districts"
   ]
  },
  {
   "cell_type": "code",
   "execution_count": 68,
   "id": "4d17f222",
   "metadata": {},
   "outputs": [
    {
     "name": "stderr",
     "output_type": "stream",
     "text": [
      "C:\\Users\\blaze\\Anaconda3\\lib\\site-packages\\IPython\\core\\interactiveshell.py:3444: DtypeWarning: Columns (18,29,47) have mixed types.Specify dtype option on import or set low_memory=False.\n",
      "  exec(code_obj, self.user_global_ns, self.user_ns)\n",
      "C:\\Users\\blaze\\Anaconda3\\lib\\site-packages\\IPython\\core\\interactiveshell.py:3444: DtypeWarning: Columns (18,47) have mixed types.Specify dtype option on import or set low_memory=False.\n",
      "  exec(code_obj, self.user_global_ns, self.user_ns)\n",
      "C:\\Users\\blaze\\Anaconda3\\lib\\site-packages\\IPython\\core\\interactiveshell.py:3444: DtypeWarning: Columns (18) have mixed types.Specify dtype option on import or set low_memory=False.\n",
      "  exec(code_obj, self.user_global_ns, self.user_ns)\n"
     ]
    }
   ],
   "source": [
    "eng1 = pd.read_csv('England1 postcodes.csv')\n",
    "eng2 = pd.read_csv('England2 postcodes.csv')\n",
    "eng3 = pd.read_csv('England3 postcodes.csv')\n",
    "wale = pd.read_csv('Wales postcodes.csv')\n",
    "scot = pd.read_csv('Scotland postcodes.csv')\n",
    "ire = pd.read_csv('BT postcodes.csv')\n",
    "dist_lsoa = pd.concat([eng1, eng2, eng3, wale, scot, ire])"
   ]
  },
  {
   "cell_type": "code",
   "execution_count": 69,
   "id": "e2234af5",
   "metadata": {},
   "outputs": [],
   "source": [
    "final_dist_lsoa = dist_lsoa[['District Code', 'LSOA Code']]"
   ]
  },
  {
   "cell_type": "code",
   "execution_count": 70,
   "id": "0469a04f",
   "metadata": {},
   "outputs": [],
   "source": [
    "del eng1\n",
    "del eng2\n",
    "del eng3\n",
    "del wale\n",
    "del scot\n",
    "del ire\n",
    "del dist_lsoa"
   ]
  },
  {
   "cell_type": "code",
   "execution_count": 71,
   "id": "f52ef645",
   "metadata": {},
   "outputs": [],
   "source": [
    "final_dist_lsoa.rename(columns={'LSOA Code':'LSOA code', 'District Code':'Geo code'}, inplace=True)"
   ]
  },
  {
   "cell_type": "code",
   "execution_count": 72,
   "id": "cd7cf7fb",
   "metadata": {},
   "outputs": [
    {
     "data": {
      "text/plain": [
       "118"
      ]
     },
     "execution_count": 72,
     "metadata": {},
     "output_type": "execute_result"
    }
   ],
   "source": [
    "import gc\n",
    "gc.collect()"
   ]
  },
  {
   "cell_type": "markdown",
   "id": "aee72be0",
   "metadata": {},
   "source": [
    "# Merge linked districts + LSOA's and district population + police"
   ]
  },
  {
   "cell_type": "code",
   "execution_count": 73,
   "id": "30d42f7d",
   "metadata": {},
   "outputs": [],
   "source": [
    "data3 = pd.merge(df_pop_pol1, final_dist_lsoa, on=['Geo code'])"
   ]
  },
  {
   "cell_type": "code",
   "execution_count": 74,
   "id": "1e734d8d",
   "metadata": {},
   "outputs": [],
   "source": [
    "del final_dist_lsoa\n",
    "del df_pop_pol1"
   ]
  },
  {
   "cell_type": "code",
   "execution_count": 75,
   "id": "22a1b8c3",
   "metadata": {},
   "outputs": [],
   "source": [
    "data3.drop_duplicates(inplace=True)"
   ]
  },
  {
   "cell_type": "code",
   "execution_count": 76,
   "id": "d5d1c000",
   "metadata": {},
   "outputs": [],
   "source": [
    "data2 = pd.merge(data3, data, on=['year', 'LSOA code'])"
   ]
  },
  {
   "cell_type": "code",
   "execution_count": null,
   "id": "98d30e8e",
   "metadata": {},
   "outputs": [],
   "source": [
    "del data3\n",
    "del data"
   ]
  },
  {
   "cell_type": "code",
   "execution_count": 80,
   "id": "dae7b52b",
   "metadata": {},
   "outputs": [],
   "source": [
    "data2.drop(['Force Name_y', 'level_0','index'], axis=1, inplace=True)"
   ]
  },
  {
   "cell_type": "code",
   "execution_count": 81,
   "id": "3f8a7526",
   "metadata": {},
   "outputs": [],
   "source": [
    "data2.rename(columns={'Force Name_x':'Force Name'}, inplace=True)"
   ]
  },
  {
   "cell_type": "markdown",
   "id": "1b8a8c1a",
   "metadata": {},
   "source": [
    "# Read gdp data (yearly per district)"
   ]
  },
  {
   "cell_type": "code",
   "execution_count": 89,
   "id": "2a233b7e",
   "metadata": {},
   "outputs": [],
   "source": [
    "df_gdp = pd.read_excel(\"GDP_UK_per_head.xlsx\")\n"
   ]
  },
  {
   "cell_type": "code",
   "execution_count": 90,
   "id": "5560c76d",
   "metadata": {},
   "outputs": [],
   "source": [
    "df_gdp.rename(columns={'2019\\n[note 3]':2019}, inplace=True)"
   ]
  },
  {
   "cell_type": "code",
   "execution_count": 91,
   "id": "90cf746b",
   "metadata": {},
   "outputs": [],
   "source": [
    "ukdpg = df_gdp.copy()\n",
    "ukdpg = ukdpg.loc[ukdpg.index.repeat(8)]\n",
    "ukdpg['year']= 2012\n",
    "ukdpg['GDP']= 0\n",
    "ukdpg.reset_index(inplace=True)"
   ]
  },
  {
   "cell_type": "code",
   "execution_count": 92,
   "id": "5ef28d28",
   "metadata": {},
   "outputs": [],
   "source": [
    "del df_gdp"
   ]
  },
  {
   "cell_type": "code",
   "execution_count": 93,
   "id": "f760c759",
   "metadata": {},
   "outputs": [
    {
     "name": "stderr",
     "output_type": "stream",
     "text": [
      "C:\\Users\\blaze\\AppData\\Local\\Temp/ipykernel_13568/1383387713.py:3: SettingWithCopyWarning: \n",
      "A value is trying to be set on a copy of a slice from a DataFrame\n",
      "\n",
      "See the caveats in the documentation: https://pandas.pydata.org/pandas-docs/stable/user_guide/indexing.html#returning-a-view-versus-a-copy\n",
      "  ukdpg['year'][i] = ukdpg['year'][i-1]+1\n"
     ]
    }
   ],
   "source": [
    "for i in range (1, ukdpg.shape[0]):\n",
    "    if ukdpg['index'][i] == ukdpg['index'][i-1]:\n",
    "        ukdpg['year'][i] = ukdpg['year'][i-1]+1"
   ]
  },
  {
   "cell_type": "code",
   "execution_count": 94,
   "id": "d3abdfa9",
   "metadata": {},
   "outputs": [
    {
     "name": "stderr",
     "output_type": "stream",
     "text": [
      "C:\\Users\\blaze\\AppData\\Local\\Temp/ipykernel_13568/3243934135.py:3: SettingWithCopyWarning: \n",
      "A value is trying to be set on a copy of a slice from a DataFrame\n",
      "\n",
      "See the caveats in the documentation: https://pandas.pydata.org/pandas-docs/stable/user_guide/indexing.html#returning-a-view-versus-a-copy\n",
      "  ukdpg['GDP'][i] = ukdpg[2012][i]\n",
      "C:\\Users\\blaze\\AppData\\Local\\Temp/ipykernel_13568/3243934135.py:5: SettingWithCopyWarning: \n",
      "A value is trying to be set on a copy of a slice from a DataFrame\n",
      "\n",
      "See the caveats in the documentation: https://pandas.pydata.org/pandas-docs/stable/user_guide/indexing.html#returning-a-view-versus-a-copy\n",
      "  ukdpg['GDP'][i] = ukdpg[2013][i]\n",
      "C:\\Users\\blaze\\AppData\\Local\\Temp/ipykernel_13568/3243934135.py:7: SettingWithCopyWarning: \n",
      "A value is trying to be set on a copy of a slice from a DataFrame\n",
      "\n",
      "See the caveats in the documentation: https://pandas.pydata.org/pandas-docs/stable/user_guide/indexing.html#returning-a-view-versus-a-copy\n",
      "  ukdpg['GDP'][i] = ukdpg[2014][i]\n",
      "C:\\Users\\blaze\\AppData\\Local\\Temp/ipykernel_13568/3243934135.py:9: SettingWithCopyWarning: \n",
      "A value is trying to be set on a copy of a slice from a DataFrame\n",
      "\n",
      "See the caveats in the documentation: https://pandas.pydata.org/pandas-docs/stable/user_guide/indexing.html#returning-a-view-versus-a-copy\n",
      "  ukdpg['GDP'][i] = ukdpg[2015][i]\n",
      "C:\\Users\\blaze\\AppData\\Local\\Temp/ipykernel_13568/3243934135.py:11: SettingWithCopyWarning: \n",
      "A value is trying to be set on a copy of a slice from a DataFrame\n",
      "\n",
      "See the caveats in the documentation: https://pandas.pydata.org/pandas-docs/stable/user_guide/indexing.html#returning-a-view-versus-a-copy\n",
      "  ukdpg['GDP'][i] = ukdpg[2016][i]\n",
      "C:\\Users\\blaze\\AppData\\Local\\Temp/ipykernel_13568/3243934135.py:13: SettingWithCopyWarning: \n",
      "A value is trying to be set on a copy of a slice from a DataFrame\n",
      "\n",
      "See the caveats in the documentation: https://pandas.pydata.org/pandas-docs/stable/user_guide/indexing.html#returning-a-view-versus-a-copy\n",
      "  ukdpg['GDP'][i] = ukdpg[2017][i]\n",
      "C:\\Users\\blaze\\AppData\\Local\\Temp/ipykernel_13568/3243934135.py:15: SettingWithCopyWarning: \n",
      "A value is trying to be set on a copy of a slice from a DataFrame\n",
      "\n",
      "See the caveats in the documentation: https://pandas.pydata.org/pandas-docs/stable/user_guide/indexing.html#returning-a-view-versus-a-copy\n",
      "  ukdpg['GDP'][i] = ukdpg[2018][i]\n",
      "C:\\Users\\blaze\\AppData\\Local\\Temp/ipykernel_13568/3243934135.py:17: SettingWithCopyWarning: \n",
      "A value is trying to be set on a copy of a slice from a DataFrame\n",
      "\n",
      "See the caveats in the documentation: https://pandas.pydata.org/pandas-docs/stable/user_guide/indexing.html#returning-a-view-versus-a-copy\n",
      "  ukdpg['GDP'][i] = ukdpg[2019][i]\n"
     ]
    }
   ],
   "source": [
    "for i in range (0, ukdpg.shape[0]):\n",
    "    if ukdpg['year'][i]==2012:\n",
    "        ukdpg['GDP'][i] = ukdpg[2012][i]\n",
    "    if ukdpg['year'][i]==2013:\n",
    "        ukdpg['GDP'][i] = ukdpg[2013][i]\n",
    "    if ukdpg['year'][i]==2014:\n",
    "        ukdpg['GDP'][i] = ukdpg[2014][i]\n",
    "    if ukdpg['year'][i]==2015:\n",
    "        ukdpg['GDP'][i] = ukdpg[2015][i]\n",
    "    if ukdpg['year'][i]==2016:\n",
    "        ukdpg['GDP'][i] = ukdpg[2016][i]\n",
    "    if ukdpg['year'][i]==2017:\n",
    "        ukdpg['GDP'][i] = ukdpg[2017][i]\n",
    "    if ukdpg['year'][i]==2018:\n",
    "        ukdpg['GDP'][i] = ukdpg[2018][i]\n",
    "    if ukdpg['year'][i]==2019:\n",
    "        ukdpg['GDP'][i] = ukdpg[2019][i]"
   ]
  },
  {
   "cell_type": "code",
   "execution_count": 95,
   "id": "1a4b8a5c",
   "metadata": {},
   "outputs": [],
   "source": [
    "ukdpg.drop(['index', 'ITL1 Region', 'LA name', 1998, 1999, 2000, 2001, 2002, 2003, 2004, 2005, 2006, 2007, 2008, 2009, 2010, 2011, 2012, 2013, 2014, 2015, 2016, 2017, 2018, 2019], axis=1, inplace=True)\n",
    "ukdpg = ukdpg.rename(columns={'LA code': 'Geo code'})"
   ]
  },
  {
   "cell_type": "markdown",
   "id": "1b8a8c1a",
   "metadata": {},
   "source": [
    "# Merge gdp with main dataframe"
   ]
  },
  {
   "cell_type": "code",
   "execution_count": 98,
   "id": "6a1bd5a9",
   "metadata": {},
   "outputs": [],
   "source": [
    "data_final2 = pd.merge(data2, ukdpg,  on=['Geo code', 'year'])"
   ]
  },
  {
   "cell_type": "code",
   "execution_count": 105,
   "id": "4ef90ef1",
   "metadata": {},
   "outputs": [],
   "source": [
    "del data2\n",
    "del ukdpg"
   ]
  },
  {
   "cell_type": "markdown",
   "id": "1b8a8c1a",
   "metadata": {},
   "source": [
    "# READ IMD data (same every year (measured every 7 years, we have data from 2015), per LSOA) and merge it with previously merged data"
   ]
  },
  {
   "cell_type": "code",
   "execution_count": 101,
   "id": "ca863b47",
   "metadata": {},
   "outputs": [],
   "source": [
    "df_IMD = pd.read_csv(\"IMD_2015_LSOA_score.csv\", skiprows = 7)\n",
    "\n",
    "df_IMD = df_IMD[[\"Reference area\", \"2015\"]]\n",
    "df_IMD = df_IMD.rename(columns={\"Reference area\":\"LSOA name\", \"2015\" : \"IMD score\"})"
   ]
  },
  {
   "cell_type": "code",
   "execution_count": 102,
   "id": "bd1210b9",
   "metadata": {},
   "outputs": [],
   "source": [
    "data_final = pd.merge(data_final2, df_IMD,  on=['LSOA name']).dropna()\n",
    "data_final.reset_index(inplace=True)"
   ]
  },
  {
   "cell_type": "code",
   "execution_count": 104,
   "id": "79b0abac",
   "metadata": {},
   "outputs": [],
   "source": [
    "del data_final2\n",
    "del df_IMD"
   ]
  },
  {
   "cell_type": "code",
   "execution_count": 103,
   "id": "21e928ae",
   "metadata": {},
   "outputs": [],
   "source": [
    "data_final.drop(['index'], axis=1, inplace=True)"
   ]
  },
  {
   "cell_type": "markdown",
   "id": "1b8a8c1a",
   "metadata": {},
   "source": [
    "# Add month to our main dataset"
   ]
  },
  {
   "cell_type": "code",
   "execution_count": 107,
   "id": "aa9aecac",
   "metadata": {},
   "outputs": [],
   "source": [
    "data_final['month'] = pd.to_datetime(data_final['Month'], format='%Y-%m').dt.month"
   ]
  },
  {
   "cell_type": "markdown",
   "id": "1b8a8c1a",
   "metadata": {},
   "source": [
    "# Save everything as pickle (python 3.8 or higher to read it)"
   ]
  },
  {
   "cell_type": "code",
   "execution_count": 114,
   "id": "d76fe8f9",
   "metadata": {},
   "outputs": [],
   "source": [
    "data_final.to_pickle(\"data_final.pkl\") "
   ]
  },
  {
   "cell_type": "markdown",
   "id": "1b8a8c1a",
   "metadata": {},
   "source": [
    "# Check how much data did we lost: 15% of data, I have no idea where and how"
   ]
  },
  {
   "cell_type": "code",
   "execution_count": 112,
   "id": "e43c020c",
   "metadata": {},
   "outputs": [
    {
     "data": {
      "text/plain": [
       "15.77780267024469"
      ]
     },
     "execution_count": 112,
     "metadata": {},
     "output_type": "execute_result"
    }
   ],
   "source": [
    "\n",
    "(1 - (data_final.shape[0]/dataframe2.shape[0]))*100"
   ]
  },
  {
   "cell_type": "code",
   "execution_count": 115,
   "id": "fed735f2",
   "metadata": {},
   "outputs": [],
   "source": [
    "conn.close()"
   ]
  }
 ],
 "metadata": {
  "kernelspec": {
   "display_name": "Python 3 (ipykernel)",
   "language": "python",
   "name": "python3"
  },
  "language_info": {
   "codemirror_mode": {
    "name": "ipython",
    "version": 3
   },
   "file_extension": ".py",
   "mimetype": "text/x-python",
   "name": "python",
   "nbconvert_exporter": "python",
   "pygments_lexer": "ipython3",
   "version": "3.9.7"
  }
 },
 "nbformat": 4,
 "nbformat_minor": 5
}
