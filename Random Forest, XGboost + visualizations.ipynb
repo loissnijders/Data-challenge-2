{
 "cells": [
  {
   "cell_type": "code",
   "execution_count": 1,
   "metadata": {
    "id": "1eOoqU9i2szn"
   },
   "outputs": [],
   "source": [
    "import pandas as pd \n",
    "import numpy as np\n",
    "import pickle\n",
    "pd.set_option('display.max_columns', None)\n",
    "from sklearn.ensemble import RandomForestRegressor\n",
    "from sklearn.metrics import mean_absolute_error\n",
    "from sklearn.metrics import mean_squared_error \n",
    "from sklearn.metrics import r2_score\n",
    "from sklearn.preprocessing import LabelEncoder\n"
   ]
  },
  {
   "cell_type": "code",
   "execution_count": 2,
   "metadata": {
    "id": "_NLlK8hy2szv"
   },
   "outputs": [],
   "source": [
    "data = pd.read_pickle('crime_data_final.pkl')"
   ]
  },
  {
   "cell_type": "code",
   "execution_count": 3,
   "metadata": {},
   "outputs": [],
   "source": [
    "def evaluate(model, X_test, y_test):\n",
    "    y_pred = model.predict(X_test)\n",
    "    mae = mean_absolute_error(y_test, y_pred)\n",
    "    mse = mean_squared_error(y_test, y_pred)\n",
    "    rmse = np.sqrt(mean_squared_error(y_test, y_pred))\n",
    "    r2 = r2_score(y_test, y_pred)\n",
    "\n",
    "    print(f'The mae of the model is {mae}.')\n",
    "    print(f'The mse of the model is {mse}.')\n",
    "    print(f'The rmse of the model is {rmse}.')\n",
    "    print(f'The r2 of the model is {r2}.')\n",
    "    \n",
    "    return rmse"
   ]
  },
  {
   "cell_type": "code",
   "execution_count": 4,
   "metadata": {},
   "outputs": [],
   "source": [
    "# 86/14 split"
   ]
  },
  {
   "cell_type": "code",
   "execution_count": 5,
   "metadata": {},
   "outputs": [],
   "source": [
    "test = data[data['year'] == 2019]\n",
    "train = data[data['year']<2019]"
   ]
  },
  {
   "cell_type": "code",
   "execution_count": 6,
   "metadata": {},
   "outputs": [
    {
     "name": "stderr",
     "output_type": "stream",
     "text": [
      "/var/folders/9q/8x5l16p97_50315r3xpkbfy80000gn/T/ipykernel_71720/2023044000.py:5: SettingWithCopyWarning: \n",
      "A value is trying to be set on a copy of a slice from a DataFrame.\n",
      "Try using .loc[row_indexer,col_indexer] = value instead\n",
      "\n",
      "See the caveats in the documentation: https://pandas.pydata.org/pandas-docs/stable/user_guide/indexing.html#returning-a-view-versus-a-copy\n",
      "  train[['LSOA name']] = train[['LSOA name']].apply(lab.transform)\n",
      "/var/folders/9q/8x5l16p97_50315r3xpkbfy80000gn/T/ipykernel_71720/2023044000.py:6: SettingWithCopyWarning: \n",
      "A value is trying to be set on a copy of a slice from a DataFrame.\n",
      "Try using .loc[row_indexer,col_indexer] = value instead\n",
      "\n",
      "See the caveats in the documentation: https://pandas.pydata.org/pandas-docs/stable/user_guide/indexing.html#returning-a-view-versus-a-copy\n",
      "  test[['LSOA name']] = test[['LSOA name']].apply(lab.transform)\n"
     ]
    }
   ],
   "source": [
    "lab = LabelEncoder()\n",
    "\n",
    "labels_lsoa = data['LSOA name'].unique()\n",
    "lab.fit(labels_lsoa)\n",
    "train[['LSOA name']] = train[['LSOA name']].apply(lab.transform)\n",
    "test[['LSOA name']] = test[['LSOA name']].apply(lab.transform)"
   ]
  },
  {
   "cell_type": "code",
   "execution_count": 7,
   "metadata": {},
   "outputs": [
    {
     "name": "stderr",
     "output_type": "stream",
     "text": [
      "/var/folders/9q/8x5l16p97_50315r3xpkbfy80000gn/T/ipykernel_71720/39413278.py:3: SettingWithCopyWarning: \n",
      "A value is trying to be set on a copy of a slice from a DataFrame.\n",
      "Try using .loc[row_indexer,col_indexer] = value instead\n",
      "\n",
      "See the caveats in the documentation: https://pandas.pydata.org/pandas-docs/stable/user_guide/indexing.html#returning-a-view-versus-a-copy\n",
      "  train[['name']] = train[['name']].apply(lab.transform)\n",
      "/var/folders/9q/8x5l16p97_50315r3xpkbfy80000gn/T/ipykernel_71720/39413278.py:4: SettingWithCopyWarning: \n",
      "A value is trying to be set on a copy of a slice from a DataFrame.\n",
      "Try using .loc[row_indexer,col_indexer] = value instead\n",
      "\n",
      "See the caveats in the documentation: https://pandas.pydata.org/pandas-docs/stable/user_guide/indexing.html#returning-a-view-versus-a-copy\n",
      "  test[['name']] = test[['name']].apply(lab.transform)\n"
     ]
    }
   ],
   "source": [
    "labels_dist = data['name'].unique()\n",
    "lab.fit(labels_dist)\n",
    "train[['name']] = train[['name']].apply(lab.transform)\n",
    "test[['name']] = test[['name']].apply(lab.transform)"
   ]
  },
  {
   "cell_type": "code",
   "execution_count": 8,
   "metadata": {},
   "outputs": [
    {
     "name": "stderr",
     "output_type": "stream",
     "text": [
      "/var/folders/9q/8x5l16p97_50315r3xpkbfy80000gn/T/ipykernel_71720/267930986.py:3: SettingWithCopyWarning: \n",
      "A value is trying to be set on a copy of a slice from a DataFrame.\n",
      "Try using .loc[row_indexer,col_indexer] = value instead\n",
      "\n",
      "See the caveats in the documentation: https://pandas.pydata.org/pandas-docs/stable/user_guide/indexing.html#returning-a-view-versus-a-copy\n",
      "  train[['Force Name']] = train[['Force Name']].apply(lab.transform)\n",
      "/var/folders/9q/8x5l16p97_50315r3xpkbfy80000gn/T/ipykernel_71720/267930986.py:4: SettingWithCopyWarning: \n",
      "A value is trying to be set on a copy of a slice from a DataFrame.\n",
      "Try using .loc[row_indexer,col_indexer] = value instead\n",
      "\n",
      "See the caveats in the documentation: https://pandas.pydata.org/pandas-docs/stable/user_guide/indexing.html#returning-a-view-versus-a-copy\n",
      "  test[['Force Name']] = test[['Force Name']].apply(lab.transform)\n"
     ]
    }
   ],
   "source": [
    "labels_force = data['Force Name'].unique()\n",
    "lab.fit(labels_force)\n",
    "train[['Force Name']] = train[['Force Name']].apply(lab.transform)\n",
    "test[['Force Name']] = test[['Force Name']].apply(lab.transform)"
   ]
  },
  {
   "cell_type": "code",
   "execution_count": 9,
   "metadata": {},
   "outputs": [
    {
     "data": {
      "text/plain": [
       "0.13945309714156623"
      ]
     },
     "execution_count": 9,
     "metadata": {},
     "output_type": "execute_result"
    }
   ],
   "source": [
    "test.shape[0]/train.shape[0]"
   ]
  },
  {
   "cell_type": "markdown",
   "metadata": {},
   "source": [
    "# Looking for the best features for Random Forest"
   ]
  },
  {
   "cell_type": "markdown",
   "metadata": {},
   "source": [
    "## Model 1: 'LSOA population_last_year', 'population_last_year', 'headcount_last_year', 'LSOA name', 'month', 'IMD score', 'GDP_last_year'"
   ]
  },
  {
   "cell_type": "code",
   "execution_count": 10,
   "metadata": {},
   "outputs": [],
   "source": [
    "X_train2 = train[['LSOA population_last_year', 'population_last_year', 'headcount_last_year', 'LSOA name', 'month', 'IMD score', 'GDP_last_year', 'prev_month_crimes', 'prev_year_crimes']]\n",
    "y_train2 = train['amount_of_crimes']\n",
    "\n",
    "X_test2 = test[['LSOA population_last_year', 'population_last_year', 'headcount_last_year', 'LSOA name', 'month', 'IMD score', 'GDP_last_year', 'prev_month_crimes', 'prev_year_crimes']]\n",
    "y_test2 = test['amount_of_crimes']"
   ]
  },
  {
   "cell_type": "code",
   "execution_count": 11,
   "metadata": {},
   "outputs": [
    {
     "data": {
      "text/plain": [
       "RandomForestRegressor(n_estimators=10, random_state=42)"
      ]
     },
     "execution_count": 11,
     "metadata": {},
     "output_type": "execute_result"
    }
   ],
   "source": [
    "cl2 = RandomForestRegressor(n_estimators = 10, random_state = 42)\n",
    "cl2.fit(X_train2, y_train2)"
   ]
  },
  {
   "cell_type": "code",
   "execution_count": 12,
   "metadata": {},
   "outputs": [
    {
     "name": "stdout",
     "output_type": "stream",
     "text": [
      "The mae of the model is 4.68072312663141.\n",
      "The mse of the model is 53.294884105226124.\n",
      "The rmse of the model is 7.300334520090578.\n",
      "The r2 of the model is 0.9074174795280304.\n"
     ]
    },
    {
     "data": {
      "text/plain": [
       "7.300334520090578"
      ]
     },
     "execution_count": 12,
     "metadata": {},
     "output_type": "execute_result"
    }
   ],
   "source": [
    "evaluate(cl2, X_test2, y_test2)"
   ]
  },
  {
   "cell_type": "code",
   "execution_count": 13,
   "metadata": {},
   "outputs": [
    {
     "data": {
      "text/plain": [
       "array([0.01416206, 0.01099461, 0.00964008, 0.01119042, 0.00877015,\n",
       "       0.0140782 , 0.01149575, 0.87873326, 0.04093546])"
      ]
     },
     "execution_count": 13,
     "metadata": {},
     "output_type": "execute_result"
    }
   ],
   "source": [
    "cl2.feature_importances_"
   ]
  },
  {
   "cell_type": "markdown",
   "metadata": {},
   "source": [
    "# BEST FEATURES"
   ]
  },
  {
   "cell_type": "markdown",
   "metadata": {},
   "source": [
    "## Model 2: 'LSOA population_last_year', 'population_last_year', 'LSOA name', 'IMD score', 'GDP_last_year', 'prev_month_crimes', 'prev_year_crimes'"
   ]
  },
  {
   "cell_type": "code",
   "execution_count": 14,
   "metadata": {},
   "outputs": [],
   "source": [
    "X_train3 = train[['LSOA population_last_year', 'population_last_year', 'LSOA name', 'IMD score', 'GDP_last_year', 'prev_month_crimes', 'prev_year_crimes']]\n",
    "y_train3 = train['amount_of_crimes']\n",
    "\n",
    "X_test3 = test[['LSOA population_last_year', 'population_last_year',  'LSOA name', 'IMD score', 'GDP_last_year', 'prev_month_crimes', 'prev_year_crimes']]\n",
    "y_test3 = test['amount_of_crimes']"
   ]
  },
  {
   "cell_type": "code",
   "execution_count": 15,
   "metadata": {},
   "outputs": [
    {
     "data": {
      "text/plain": [
       "RandomForestRegressor(n_estimators=10, random_state=42)"
      ]
     },
     "execution_count": 15,
     "metadata": {},
     "output_type": "execute_result"
    }
   ],
   "source": [
    "cl3 = RandomForestRegressor(n_estimators = 10, random_state = 42)\n",
    "cl3.fit(X_train3, y_train3)"
   ]
  },
  {
   "cell_type": "code",
   "execution_count": 16,
   "metadata": {},
   "outputs": [
    {
     "name": "stdout",
     "output_type": "stream",
     "text": [
      "The mae of the model is 4.701100277068165.\n",
      "The mse of the model is 53.055407986637164.\n",
      "The rmse of the model is 7.283914331363128.\n",
      "The r2 of the model is 0.9078334913652648.\n"
     ]
    },
    {
     "data": {
      "text/plain": [
       "7.283914331363128"
      ]
     },
     "execution_count": 16,
     "metadata": {},
     "output_type": "execute_result"
    }
   ],
   "source": [
    "evaluate(cl3, X_test3, y_test3)"
   ]
  },
  {
   "cell_type": "code",
   "execution_count": 17,
   "metadata": {},
   "outputs": [
    {
     "data": {
      "text/plain": [
       "array([0.01729696, 0.01436548, 0.01362286, 0.01651003, 0.01479012,\n",
       "       0.88050452, 0.04291003])"
      ]
     },
     "execution_count": 17,
     "metadata": {},
     "output_type": "execute_result"
    }
   ],
   "source": [
    "cl3.feature_importances_"
   ]
  },
  {
   "cell_type": "markdown",
   "metadata": {},
   "source": [
    "## Model 3: 'LSOA population_last_year', 'LSOA name', 'IMD score', 'GDP_last_year', 'prev_month_crimes', 'prev_year_crimes'"
   ]
  },
  {
   "cell_type": "code",
   "execution_count": 18,
   "metadata": {},
   "outputs": [],
   "source": [
    "X_train4 = train[['LSOA population_last_year', 'LSOA name', 'IMD score', 'GDP_last_year', 'prev_month_crimes', 'prev_year_crimes']]\n",
    "y_train4 = train['amount_of_crimes']\n",
    "\n",
    "X_test4 = test[['LSOA population_last_year', 'LSOA name', 'IMD score', 'GDP_last_year', 'prev_month_crimes', 'prev_year_crimes']]\n",
    "y_test4 = test['amount_of_crimes']"
   ]
  },
  {
   "cell_type": "code",
   "execution_count": 19,
   "metadata": {},
   "outputs": [
    {
     "data": {
      "text/plain": [
       "RandomForestRegressor(n_estimators=10, random_state=42)"
      ]
     },
     "execution_count": 19,
     "metadata": {},
     "output_type": "execute_result"
    }
   ],
   "source": [
    "cl4 = RandomForestRegressor(n_estimators = 10, random_state = 42)\n",
    "cl4.fit(X_train4, y_train4)"
   ]
  },
  {
   "cell_type": "code",
   "execution_count": 20,
   "metadata": {},
   "outputs": [
    {
     "name": "stdout",
     "output_type": "stream",
     "text": [
      "The mae of the model is 4.702217087730027.\n",
      "The mse of the model is 53.4310556825813.\n",
      "The rmse of the model is 7.309654963305813.\n",
      "The r2 of the model is 0.9071809257187887.\n"
     ]
    },
    {
     "data": {
      "text/plain": [
       "7.309654963305813"
      ]
     },
     "execution_count": 20,
     "metadata": {},
     "output_type": "execute_result"
    }
   ],
   "source": [
    "evaluate(cl4, X_test4, y_test4)"
   ]
  },
  {
   "cell_type": "code",
   "execution_count": 21,
   "metadata": {},
   "outputs": [
    {
     "data": {
      "text/plain": [
       "array([0.02023342, 0.01697617, 0.01934325, 0.01892915, 0.88094723,\n",
       "       0.04357078])"
      ]
     },
     "execution_count": 21,
     "metadata": {},
     "output_type": "execute_result"
    }
   ],
   "source": [
    "cl4.feature_importances_"
   ]
  },
  {
   "cell_type": "markdown",
   "metadata": {},
   "source": [
    "## Model 4: 'LSOA population_last_year', 'LSOA name', 'prev_month_crimes', 'prev_year_crimes'"
   ]
  },
  {
   "cell_type": "code",
   "execution_count": 22,
   "metadata": {},
   "outputs": [],
   "source": [
    "X_train5 = train[['LSOA population_last_year', 'LSOA name', 'prev_month_crimes', 'prev_year_crimes']]\n",
    "y_train5 = train['amount_of_crimes']\n",
    "\n",
    "X_test5 = test[['LSOA population_last_year', 'LSOA name', 'prev_month_crimes', 'prev_year_crimes']]\n",
    "y_test5 = test['amount_of_crimes']"
   ]
  },
  {
   "cell_type": "code",
   "execution_count": 23,
   "metadata": {},
   "outputs": [
    {
     "data": {
      "text/plain": [
       "RandomForestRegressor(n_estimators=10, random_state=42)"
      ]
     },
     "execution_count": 23,
     "metadata": {},
     "output_type": "execute_result"
    }
   ],
   "source": [
    "cl5 = RandomForestRegressor(n_estimators = 10, random_state = 42)\n",
    "cl5.fit(X_train5, y_train5)"
   ]
  },
  {
   "cell_type": "code",
   "execution_count": 24,
   "metadata": {},
   "outputs": [
    {
     "name": "stdout",
     "output_type": "stream",
     "text": [
      "The mae of the model is 4.897153456326829.\n",
      "The mse of the model is 57.28416132651994.\n",
      "The rmse of the model is 7.568630082552585.\n",
      "The r2 of the model is 0.900487408354978.\n"
     ]
    },
    {
     "data": {
      "text/plain": [
       "7.568630082552585"
      ]
     },
     "execution_count": 24,
     "metadata": {},
     "output_type": "execute_result"
    }
   ],
   "source": [
    "evaluate(cl5, X_test5, y_test5)"
   ]
  },
  {
   "cell_type": "code",
   "execution_count": 25,
   "metadata": {},
   "outputs": [
    {
     "data": {
      "text/plain": [
       "array([0.0347294 , 0.03879046, 0.8816137 , 0.04486644])"
      ]
     },
     "execution_count": 25,
     "metadata": {},
     "output_type": "execute_result"
    }
   ],
   "source": [
    "cl5.feature_importances_"
   ]
  },
  {
   "cell_type": "markdown",
   "metadata": {},
   "source": [
    "# XGboost"
   ]
  },
  {
   "cell_type": "code",
   "execution_count": 26,
   "metadata": {},
   "outputs": [
    {
     "name": "stderr",
     "output_type": "stream",
     "text": [
      "/opt/anaconda3/envs/py39/lib/python3.9/site-packages/xgboost/compat.py:36: FutureWarning: pandas.Int64Index is deprecated and will be removed from pandas in a future version. Use pandas.Index with the appropriate dtype instead.\n",
      "  from pandas import MultiIndex, Int64Index\n"
     ]
    }
   ],
   "source": [
    "import xgboost as xg\n",
    "from sklearn.metrics import mean_squared_error as MSE"
   ]
  },
  {
   "cell_type": "code",
   "execution_count": 27,
   "metadata": {},
   "outputs": [],
   "source": [
    "X_train_xg = train[['LSOA population_last_year', 'population_last_year', 'LSOA name', 'IMD score', 'GDP_last_year', 'prev_month_crimes']]\n",
    "y_train_xg = train['amount_of_crimes']\n",
    "\n",
    "X_test_xg = test[['LSOA population_last_year', 'population_last_year', 'LSOA name', 'IMD score', 'GDP_last_year', 'prev_month_crimes']]\n",
    "y_test_xg = test['amount_of_crimes']\n",
    "\n",
    "X_train_xg2 = train[['LSOA population_last_year', 'population_last_year', 'LSOA name', 'IMD score', 'GDP_last_year', 'prev_month_crimes', 'prev_year_crimes']]\n",
    "y_train_xg2 = train['amount_of_crimes']\n",
    "\n",
    "X_test_xg2 = test[['LSOA population_last_year', 'population_last_year', 'LSOA name', 'IMD score', 'GDP_last_year', 'prev_month_crimes', 'prev_year_crimes']]\n",
    "y_test_xg2 = test['amount_of_crimes']\n"
   ]
  },
  {
   "cell_type": "code",
   "execution_count": 28,
   "metadata": {},
   "outputs": [],
   "source": [
    "#XGboost 2\n",
    "\n",
    "def xg_model(X_train, y_train, X_test, y_test):\n",
    "    #global variables\n",
    "    \n",
    "    global pred\n",
    "    \n",
    "    # Creating matrices optimal for xgboost\n",
    "    \n",
    "    train_dmatrix = xg.DMatrix(data = X_train, label = y_train)\n",
    "    test_dmatrix = xg.DMatrix(data = X_test, label = y_test)\n",
    "\n",
    "    # Parameter dictionary specifying base learner\n",
    "    param = {\"booster\":\"gbtree\", \"objective\":\"reg:squarederror\"}\n",
    "\n",
    "    xgb = xg.train(params = param, dtrain = train_dmatrix, num_boost_round = 20)\n",
    "    pred = xgb.predict(test_dmatrix)\n",
    "\n",
    "    # Model evaluation\n",
    "    \n",
    "    mae = mean_absolute_error(y_test_xg, pred)\n",
    "    mse = mean_squared_error(y_test_xg, pred)\n",
    "    rmse = np.sqrt(mean_squared_error(y_test_xg, pred))\n",
    "    r2 = r2_score(y_test_xg, pred)\n",
    "    \n",
    "    print(f'The mae of the model is {mae}.')\n",
    "    print(f'The mse of the model is {mse}.')\n",
    "    print(f'The rmse of the model is {rmse}.')\n",
    "    print(f'The r2 of the model is {r2}.')"
   ]
  },
  {
   "cell_type": "code",
   "execution_count": 29,
   "metadata": {},
   "outputs": [
    {
     "name": "stderr",
     "output_type": "stream",
     "text": [
      "/opt/anaconda3/envs/py39/lib/python3.9/site-packages/xgboost/data.py:262: FutureWarning: pandas.Int64Index is deprecated and will be removed from pandas in a future version. Use pandas.Index with the appropriate dtype instead.\n",
      "  elif isinstance(data.columns, (pd.Int64Index, pd.RangeIndex)):\n"
     ]
    },
    {
     "name": "stdout",
     "output_type": "stream",
     "text": [
      "The mae of the model is 4.424978209110075.\n",
      "The mse of the model is 48.72597881684886.\n",
      "The rmse of the model is 6.980399617274705.\n",
      "The r2 of the model is 0.9153544658729205.\n"
     ]
    }
   ],
   "source": [
    "xg_model(X_train_xg2, y_train_xg2, X_test_xg2, y_test_xg2)"
   ]
  },
  {
   "cell_type": "code",
   "execution_count": 30,
   "metadata": {},
   "outputs": [
    {
     "name": "stderr",
     "output_type": "stream",
     "text": [
      "/opt/anaconda3/envs/py39/lib/python3.9/site-packages/xgboost/data.py:262: FutureWarning: pandas.Int64Index is deprecated and will be removed from pandas in a future version. Use pandas.Index with the appropriate dtype instead.\n",
      "  elif isinstance(data.columns, (pd.Int64Index, pd.RangeIndex)):\n"
     ]
    },
    {
     "name": "stdout",
     "output_type": "stream",
     "text": [
      "The mae of the model is 4.712666969516731.\n",
      "The mse of the model is 53.18029493365559.\n",
      "The rmse of the model is 7.292482083190578.\n",
      "The r2 of the model is 0.9076165409295309.\n"
     ]
    }
   ],
   "source": [
    "xg_model(X_train_xg, y_train_xg, X_test_xg, y_test_xg)"
   ]
  },
  {
   "cell_type": "markdown",
   "metadata": {},
   "source": [
    "# Visualizations"
   ]
  },
  {
   "cell_type": "code",
   "execution_count": 31,
   "metadata": {},
   "outputs": [],
   "source": [
    "import numpy as np\n",
    "import matplotlib.pyplot as plt\n",
    "import seaborn as sns"
   ]
  },
  {
   "cell_type": "code",
   "execution_count": 32,
   "metadata": {},
   "outputs": [
    {
     "data": {
      "image/png": "[encoded data removed]",
      "text/plain": [
       "<Figure size 432x432 with 3 Axes>"
      ]
     },
     "metadata": {
      "needs_background": "light"
     },
     "output_type": "display_data"
    }
   ],
   "source": [
    "ax = sns.jointplot(x=y_test_xg, y=pred, kind='reg', line_kws={\"color\": \"orange\"})"
   ]
  },
  {
   "cell_type": "code",
   "execution_count": 33,
   "metadata": {},
   "outputs": [
    {
     "data": {
      "image/png": "[encoded data removed]",
      "text/plain": [
       "<Figure size 432x288 with 2 Axes>"
      ]
     },
     "metadata": {
      "needs_background": "light"
     },
     "output_type": "display_data"
    }
   ],
   "source": [
    "sns.heatmap(train[['amount_of_crimes', 'LSOA population_last_year', 'population_last_year', 'LSOA name', 'IMD score', 'GDP_last_year', 'prev_month_crimes', 'prev_year_crimes']].corr(), cmap='Blues', annot=True)\n",
    "sns.set(rc = {'figure.figsize':(15,8)})\n",
    "plt.show()"
   ]
  },
  {
   "cell_type": "code",
   "execution_count": 34,
   "metadata": {},
   "outputs": [
    {
     "data": {
      "image/png": "[encoded data removed]",
      "text/plain": [
       "<Figure size 720x720 with 1 Axes>"
      ]
     },
     "metadata": {},
     "output_type": "display_data"
    }
   ],
   "source": [
    "plt.figure(figsize=(10,10))\n",
    "plt.scatter(y_test_xg, pred, c='crimson', alpha = 0.1)\n",
    "\n",
    "p1 = max(max(pred), max(y_test_xg))\n",
    "p2 = min(min(pred), min(y_test_xg))\n",
    "plt.plot([p1, p2], [p1, p2], 'b-')\n",
    "plt.title('Real values compared to the Predicted values for OLS ')\n",
    "plt.xlabel('Real amount of crimes', fontsize=15)\n",
    "plt.ylabel('Predicted amount of crimes', fontsize=15)\n",
    "plt.axis('equal');"
   ]
  },
  {
   "cell_type": "code",
   "execution_count": 35,
   "metadata": {},
   "outputs": [
    {
     "name": "stderr",
     "output_type": "stream",
     "text": [
      "/var/folders/9q/8x5l16p97_50315r3xpkbfy80000gn/T/ipykernel_71720/578229939.py:5: SettingWithCopyWarning: \n",
      "A value is trying to be set on a copy of a slice from a DataFrame.\n",
      "Try using .loc[row_indexer,col_indexer] = value instead\n",
      "\n",
      "See the caveats in the documentation: https://pandas.pydata.org/pandas-docs/stable/user_guide/indexing.html#returning-a-view-versus-a-copy\n",
      "  top_5_df['predicted_amount_of_crimes_per_head'] = top_5_df['predicted_amount_of_crimes'] / top_5_df['LSOA population_last_year']\n",
      "/var/folders/9q/8x5l16p97_50315r3xpkbfy80000gn/T/ipykernel_71720/578229939.py:12: SettingWithCopyWarning: \n",
      "A value is trying to be set on a copy of a slice from a DataFrame.\n",
      "Try using .loc[row_indexer,col_indexer] = value instead\n",
      "\n",
      "See the caveats in the documentation: https://pandas.pydata.org/pandas-docs/stable/user_guide/indexing.html#returning-a-view-versus-a-copy\n",
      "  top_5_df['amount_of_crimes_per_head'] = top_5_df['amount_of_crimes'] / top_5_df['LSOA population_last_year']\n"
     ]
    },
    {
     "data": {
      "text/html": [
       "<div>\n",
       "<style scoped>\n",
       "    .dataframe tbody tr th:only-of-type {\n",
       "        vertical-align: middle;\n",
       "    }\n",
       "\n",
       "    .dataframe tbody tr th {\n",
       "        vertical-align: top;\n",
       "    }\n",
       "\n",
       "    .dataframe thead th {\n",
       "        text-align: right;\n",
       "    }\n",
       "</style>\n",
       "<table border=\"1\" class=\"dataframe\">\n",
       "  <thead>\n",
       "    <tr style=\"text-align: right;\">\n",
       "      <th></th>\n",
       "      <th>LSOA name</th>\n",
       "      <th>amount_of_crimes</th>\n",
       "      <th>amount_of_crimes_per_head</th>\n",
       "    </tr>\n",
       "  </thead>\n",
       "  <tbody>\n",
       "    <tr>\n",
       "      <th>0</th>\n",
       "      <td>City of London 001F</td>\n",
       "      <td>720.750000</td>\n",
       "      <td>0.640667</td>\n",
       "    </tr>\n",
       "    <tr>\n",
       "      <th>1</th>\n",
       "      <td>Westminster 013E</td>\n",
       "      <td>897.166667</td>\n",
       "      <td>0.639008</td>\n",
       "    </tr>\n",
       "    <tr>\n",
       "      <th>2</th>\n",
       "      <td>Westminster 018A</td>\n",
       "      <td>874.750000</td>\n",
       "      <td>0.466533</td>\n",
       "    </tr>\n",
       "    <tr>\n",
       "      <th>3</th>\n",
       "      <td>Manchester 054C</td>\n",
       "      <td>575.333333</td>\n",
       "      <td>0.363905</td>\n",
       "    </tr>\n",
       "    <tr>\n",
       "      <th>4</th>\n",
       "      <td>Birmingham 138A</td>\n",
       "      <td>465.166667</td>\n",
       "      <td>0.332025</td>\n",
       "    </tr>\n",
       "    <tr>\n",
       "      <th>5</th>\n",
       "      <td>Westminster 018C</td>\n",
       "      <td>633.166667</td>\n",
       "      <td>0.321731</td>\n",
       "    </tr>\n",
       "    <tr>\n",
       "      <th>6</th>\n",
       "      <td>Westminster 013B</td>\n",
       "      <td>742.166667</td>\n",
       "      <td>0.267640</td>\n",
       "    </tr>\n",
       "    <tr>\n",
       "      <th>7</th>\n",
       "      <td>Westminster 018B</td>\n",
       "      <td>309.833333</td>\n",
       "      <td>0.232085</td>\n",
       "    </tr>\n",
       "    <tr>\n",
       "      <th>8</th>\n",
       "      <td>Gloucester 004F</td>\n",
       "      <td>234.916667</td>\n",
       "      <td>0.194307</td>\n",
       "    </tr>\n",
       "    <tr>\n",
       "      <th>9</th>\n",
       "      <td>Kingston upon Hull 029E</td>\n",
       "      <td>313.500000</td>\n",
       "      <td>0.193042</td>\n",
       "    </tr>\n",
       "  </tbody>\n",
       "</table>\n",
       "</div>"
      ],
      "text/plain": [
       "                 LSOA name  amount_of_crimes  amount_of_crimes_per_head\n",
       "0      City of London 001F        720.750000                   0.640667\n",
       "1         Westminster 013E        897.166667                   0.639008\n",
       "2         Westminster 018A        874.750000                   0.466533\n",
       "3          Manchester 054C        575.333333                   0.363905\n",
       "4          Birmingham 138A        465.166667                   0.332025\n",
       "5         Westminster 018C        633.166667                   0.321731\n",
       "6         Westminster 013B        742.166667                   0.267640\n",
       "7         Westminster 018B        309.833333                   0.232085\n",
       "8          Gloucester 004F        234.916667                   0.194307\n",
       "9  Kingston upon Hull 029E        313.500000                   0.193042"
      ]
     },
     "metadata": {},
     "output_type": "display_data"
    },
    {
     "data": {
      "text/html": [
       "<div>\n",
       "<style scoped>\n",
       "    .dataframe tbody tr th:only-of-type {\n",
       "        vertical-align: middle;\n",
       "    }\n",
       "\n",
       "    .dataframe tbody tr th {\n",
       "        vertical-align: top;\n",
       "    }\n",
       "\n",
       "    .dataframe thead th {\n",
       "        text-align: right;\n",
       "    }\n",
       "</style>\n",
       "<table border=\"1\" class=\"dataframe\">\n",
       "  <thead>\n",
       "    <tr style=\"text-align: right;\">\n",
       "      <th></th>\n",
       "      <th>LSOA name</th>\n",
       "      <th>predicted_amount_of_crimes</th>\n",
       "      <th>predicted_amount_of_crimes_per_head</th>\n",
       "    </tr>\n",
       "  </thead>\n",
       "  <tbody>\n",
       "    <tr>\n",
       "      <th>0</th>\n",
       "      <td>Westminster 013E</td>\n",
       "      <td>906.047424</td>\n",
       "      <td>0.645333</td>\n",
       "    </tr>\n",
       "    <tr>\n",
       "      <th>1</th>\n",
       "      <td>City of London 001F</td>\n",
       "      <td>693.310791</td>\n",
       "      <td>0.616276</td>\n",
       "    </tr>\n",
       "    <tr>\n",
       "      <th>2</th>\n",
       "      <td>Westminster 018A</td>\n",
       "      <td>809.562866</td>\n",
       "      <td>0.431767</td>\n",
       "    </tr>\n",
       "    <tr>\n",
       "      <th>3</th>\n",
       "      <td>Manchester 054C</td>\n",
       "      <td>598.771667</td>\n",
       "      <td>0.378730</td>\n",
       "    </tr>\n",
       "    <tr>\n",
       "      <th>4</th>\n",
       "      <td>Birmingham 138A</td>\n",
       "      <td>453.727905</td>\n",
       "      <td>0.323860</td>\n",
       "    </tr>\n",
       "    <tr>\n",
       "      <th>5</th>\n",
       "      <td>Westminster 018C</td>\n",
       "      <td>624.980896</td>\n",
       "      <td>0.317572</td>\n",
       "    </tr>\n",
       "    <tr>\n",
       "      <th>6</th>\n",
       "      <td>Westminster 013B</td>\n",
       "      <td>751.047424</td>\n",
       "      <td>0.270843</td>\n",
       "    </tr>\n",
       "    <tr>\n",
       "      <th>7</th>\n",
       "      <td>Westminster 018B</td>\n",
       "      <td>296.796387</td>\n",
       "      <td>0.222319</td>\n",
       "    </tr>\n",
       "    <tr>\n",
       "      <th>8</th>\n",
       "      <td>Newcastle upon Tyne 024G</td>\n",
       "      <td>448.372284</td>\n",
       "      <td>0.195284</td>\n",
       "    </tr>\n",
       "    <tr>\n",
       "      <th>9</th>\n",
       "      <td>Gloucester 004F</td>\n",
       "      <td>228.361938</td>\n",
       "      <td>0.188885</td>\n",
       "    </tr>\n",
       "  </tbody>\n",
       "</table>\n",
       "</div>"
      ],
      "text/plain": [
       "                  LSOA name  predicted_amount_of_crimes  \\\n",
       "0          Westminster 013E                  906.047424   \n",
       "1       City of London 001F                  693.310791   \n",
       "2          Westminster 018A                  809.562866   \n",
       "3           Manchester 054C                  598.771667   \n",
       "4           Birmingham 138A                  453.727905   \n",
       "5          Westminster 018C                  624.980896   \n",
       "6          Westminster 013B                  751.047424   \n",
       "7          Westminster 018B                  296.796387   \n",
       "8  Newcastle upon Tyne 024G                  448.372284   \n",
       "9           Gloucester 004F                  228.361938   \n",
       "\n",
       "   predicted_amount_of_crimes_per_head  \n",
       "0                             0.645333  \n",
       "1                             0.616276  \n",
       "2                             0.431767  \n",
       "3                             0.378730  \n",
       "4                             0.323860  \n",
       "5                             0.317572  \n",
       "6                             0.270843  \n",
       "7                             0.222319  \n",
       "8                             0.195284  \n",
       "9                             0.188885  "
      ]
     },
     "metadata": {},
     "output_type": "display_data"
    }
   ],
   "source": [
    "test = data[data['year'] == 2019]\n",
    "test_data_forecasted = test.copy()\n",
    "test_data_forecasted['predicted_amount_of_crimes'] = pred\n",
    "top_5_df = test_data_forecasted[['LSOA name', 'predicted_amount_of_crimes', 'LSOA population_last_year']]\n",
    "top_5_df['predicted_amount_of_crimes_per_head'] = top_5_df['predicted_amount_of_crimes'] / top_5_df['LSOA population_last_year']\n",
    "top_5_df = top_5_df.groupby('LSOA name').mean()\n",
    "top_5_df_predicted = top_5_df.sort_values('predicted_amount_of_crimes_per_head', ascending=False).head(10).reset_index()\n",
    "\n",
    "\n",
    "test_data_forecasted = test.copy()\n",
    "top_5_df = test_data_forecasted[['LSOA name', 'amount_of_crimes', 'LSOA population_last_year']]\n",
    "top_5_df['amount_of_crimes_per_head'] = top_5_df['amount_of_crimes'] / top_5_df['LSOA population_last_year']\n",
    "top_5_df = top_5_df.groupby('LSOA name').mean()\n",
    "top_5_df_real = top_5_df.sort_values('amount_of_crimes_per_head', ascending=False).head(10).reset_index()\n",
    "\n",
    "display(top_5_df_real[['LSOA name', 'amount_of_crimes','amount_of_crimes_per_head']], top_5_df_predicted[['LSOA name', 'predicted_amount_of_crimes','predicted_amount_of_crimes_per_head']])"
   ]
  }
 ],
 "metadata": {
  "colab": {
   "name": "OLS.ipynb",
   "provenance": []
  },
  "kernelspec": {
   "display_name": "Python 3 (ipykernel)",
   "language": "python",
   "name": "python3"
  },
  "language_info": {
   "codemirror_mode": {
    "name": "ipython",
    "version": 3
   },
   "file_extension": ".py",
   "mimetype": "text/x-python",
   "name": "python",
   "nbconvert_exporter": "python",
   "pygments_lexer": "ipython3",
   "version": "3.9.11"
  }
 },
 "nbformat": 4,
 "nbformat_minor": 1
}
