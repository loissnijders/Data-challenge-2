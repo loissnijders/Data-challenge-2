{
 "cells": [
  {
   "cell_type": "code",
   "execution_count": 341,
   "id": "e790a6e9",
   "metadata": {},
   "outputs": [],
   "source": [
    "import pandas as pd \n",
    "import numpy as np\n",
    "import matplotlib.pyplot as plt \n",
    "import sqlite3\n",
    "import pickle\n",
    "pd.set_option('display.max_columns', None)\n",
    "from sklearn.ensemble import RandomForestRegressor\n",
    "from sklearn.metrics import mean_absolute_error\n",
    "from sklearn.metrics import mean_squared_error \n",
    "from sklearn.metrics import r2_score\n",
    "from sklearn.preprocessing import LabelEncoder\n",
    "from functools import reduce "
   ]
  },
  {
   "cell_type": "code",
   "execution_count": 342,
   "id": "be726f31",
   "metadata": {},
   "outputs": [],
   "source": [
    "conn = sqlite3.connect('database.db')"
   ]
  },
  {
   "cell_type": "code",
   "execution_count": 343,
   "id": "7b7ebe2e",
   "metadata": {},
   "outputs": [],
   "source": [
    "#Train\n",
    "\n",
    "query_train = '''\n",
    "    SELECT DISTINCT \"Month\", \"LSOA name\", \"LSOA code\", \"Falls within\", COUNT() AS amount_of_crimes\n",
    "    FROM street2012\n",
    "    GROUP BY \"Month\", \"LSOA code\"\n",
    "    UNION ALL\n",
    "    SELECT DISTINCT \"Month\", \"LSOA name\", \"LSOA code\",\"Falls within\", COUNT() AS amount_of_crimes\n",
    "    FROM street2013\n",
    "    GROUP BY \"Month\", \"LSOA code\"\n",
    "    UNION ALL\n",
    "    SELECT DISTINCT \"Month\", \"LSOA name\", \"LSOA code\",\"Falls within\", COUNT() AS amount_of_crimes\n",
    "    FROM street2014\n",
    "    GROUP BY \"Month\", \"LSOA code\"\n",
    "    UNION ALL\n",
    "    SELECT DISTINCT \"Month\", \"LSOA name\", \"LSOA code\",\"Falls within\", COUNT() AS amount_of_crimes\n",
    "    FROM street2015\n",
    "    GROUP BY \"Month\", \"LSOA code\"\n",
    "    UNION ALL\n",
    "    SELECT DISTINCT \"Month\", \"LSOA name\", \"LSOA code\",\"Falls within\", COUNT() AS amount_of_crimes\n",
    "    FROM street2016\n",
    "    GROUP BY \"Month\", \"LSOA code\"\n",
    "    UNION ALL\n",
    "    SELECT DISTINCT \"Month\", \"LSOA name\", \"LSOA code\",\"Falls within\", COUNT() AS amount_of_crimes\n",
    "    FROM street2017\n",
    "    GROUP BY \"Month\", \"LSOA code\"\n",
    "    UNION ALL\n",
    "    SELECT DISTINCT \"Month\", \"LSOA name\", \"LSOA code\", \"Falls within\", COUNT() AS amount_of_crimes\n",
    "    FROM street2018\n",
    "    GROUP BY \"Month\", \"LSOA code\"\n",
    "    '''\n",
    "dataframe2 = pd.read_sql_query(query_train, conn)"
   ]
  },
  {
   "cell_type": "code",
   "execution_count": 344,
   "id": "19a17243",
   "metadata": {},
   "outputs": [],
   "source": [
    "#Test\n",
    "\n",
    "query_test = '''\n",
    "    SELECT DISTINCT \"Month\", \"LSOA name\", \"LSOA code\", \"Falls within\", COUNT() AS amount_of_crimes\n",
    "    FROM street2019\n",
    "    GROUP BY \"Month\", \"LSOA code\"\n",
    "    '''\n",
    "\n",
    "dataframe3 = pd.read_sql_query(query_test, conn)"
   ]
  },
  {
   "cell_type": "code",
   "execution_count": 345,
   "id": "c2f4d4dc",
   "metadata": {},
   "outputs": [],
   "source": [
    "#Train\n",
    "crime_per_district = dataframe2.copy()\n",
    "crime_per_district[\"Falls within\"] = crime_per_district[\"Falls within\"].str.rsplit(' ',1).str[0]\n",
    "crime_per_district = crime_per_district.rename(columns={'LSOA name': 'name', 'LSOA code': 'Geo code', 'Falls within':'Force Name'})\n",
    "\n",
    "\n",
    "\n",
    "#Test\n",
    "crime_per_district2 = dataframe3.copy()\n",
    "crime_per_district2[\"Falls within\"] = crime_per_district2[\"Falls within\"].str.rsplit(' ',1).str[0]\n",
    "crime_per_district2 = crime_per_district2.rename(columns={'LSOA name': 'name', 'LSOA code': 'Geo code', 'Falls within':'Force Name'})"
   ]
  },
  {
   "cell_type": "markdown",
   "id": "bb7e7e5e",
   "metadata": {},
   "source": [
    "# Police"
   ]
  },
  {
   "cell_type": "code",
   "execution_count": 350,
   "id": "e65a4418",
   "metadata": {},
   "outputs": [],
   "source": [
    "df_police = pd.read_excel('Number of police officers per district per year.ods', engine='odf')\n",
    "df_police = df_police.rename(columns={'As at 31 March...': 'year', 'Geo code': 'Geo code police'})\n",
    "\n",
    "#Train\n",
    "bb = df_police[df_police['year']>2011]\n",
    "cc = bb[bb['year']<2019]\n",
    "aa = cc[cc['Worker type']=='Police Officer']\n",
    "df_train = aa.groupby(['year','Force Name', 'Geo code police'])[['Total (headcount)']].sum()\n",
    "\n",
    "#Test\n",
    "ee = df_police[df_police['year']>2018]\n",
    "ff = ee[ee['year']<2020]\n",
    "dd = ff[ff['Worker type']=='Police Officer']\n",
    "df_test = dd.groupby(['year','Force Name', 'Geo code police'])[['Total (headcount)']].sum()"
   ]
  },
  {
   "cell_type": "markdown",
   "id": "1b8a8c1a",
   "metadata": {},
   "source": [
    "# Population"
   ]
  },
  {
   "cell_type": "code",
   "execution_count": 355,
   "id": "7b6da714",
   "metadata": {},
   "outputs": [
    {
     "name": "stderr",
     "output_type": "stream",
     "text": [
      "C:\\Users\\blaze\\Anaconda3\\lib\\site-packages\\openpyxl\\worksheet\\header_footer.py:48: UserWarning: Cannot parse header or footer so it will be ignored\n",
      "  warn(\"\"\"Cannot parse header or footer so it will be ignored\"\"\")\n"
     ]
    }
   ],
   "source": [
    "df_2012 = pd.read_excel('people2012.xlsx')\n",
    "df_2013 = pd.read_excel('people2013.xlsx')\n",
    "df_2014 = pd.read_excel('people2014.xlsx')\n",
    "df_2015 = pd.read_excel('people2015.xlsx')\n",
    "df_2016 = pd.read_excel('people2016.xlsx')\n",
    "df_2017 = pd.read_excel('people2017.xlsx')\n",
    "df_2018 = pd.read_excel('people2018.xlsx')\n",
    "df_2019 = pd.read_excel('people2019.xlsx')"
   ]
  },
  {
   "cell_type": "code",
   "execution_count": 356,
   "id": "e87068d2",
   "metadata": {},
   "outputs": [],
   "source": [
    "df_2012 = df_2012[['Area Codes', 'All Ages']]\n",
    "df_2013 = df_2013[['Area Codes', 'All Ages']]\n",
    "df_2014 = df_2014[['Area Codes', 'All Ages']]\n",
    "df_2015 = df_2015[['Area Codes', 'All Ages']]\n",
    "df_2016 = df_2016[['Area Codes', 'All Ages']]\n",
    "df_2017 = df_2017[['Area Codes', 'All Ages']]\n",
    "df_2018 = df_2018[['Area Codes', 'All Ages']]\n",
    "df_2019 = df_2019[['LSOA Code', 'All Ages']]"
   ]
  },
  {
   "cell_type": "code",
   "execution_count": 357,
   "id": "d7788c52",
   "metadata": {},
   "outputs": [],
   "source": [
    "df_2012 = df_2012.rename(columns={'All Ages':'Population 2012'})\n",
    "df_2013 = df_2013.rename(columns={'All Ages':'Population 2013'})\n",
    "df_2014 = df_2014.rename(columns={'All Ages':'Population 2014'})\n",
    "df_2015 = df_2015.rename(columns={'All Ages':'Population 2015'})\n",
    "df_2016 = df_2016.rename(columns={'All Ages':'Population 2016'})\n",
    "df_2017 = df_2017.rename(columns={'All Ages':'Population 2017'})\n",
    "df_2018 = df_2018.rename(columns={'All Ages':'Population 2018'})\n",
    "df_2019 = df_2019.rename(columns={'LSOA Code': 'Area Codes', 'All Ages':'Population 2019'})"
   ]
  },
  {
   "cell_type": "code",
   "execution_count": 358,
   "id": "77b7e30b",
   "metadata": {},
   "outputs": [],
   "source": [
    "data_frames = [df_2012, df_2013,df_2014,df_2015,df_2016,df_2017,df_2018,df_2019]"
   ]
  },
  {
   "cell_type": "code",
   "execution_count": 359,
   "id": "bbbc1829",
   "metadata": {},
   "outputs": [],
   "source": [
    "df_pop_merged =  reduce(lambda  left,right: pd.merge(left,right,on=['Area Codes'], how='outer'), data_frames)"
   ]
  },
  {
   "cell_type": "code",
   "execution_count": 361,
   "id": "f2b0ee8c",
   "metadata": {},
   "outputs": [],
   "source": [
    "zz2 = df_pop_merged.copy()\n",
    "zz2 = zz2.loc[zz2.index.repeat(8)]\n",
    "zz2['year']= 2012\n",
    "zz2['LSOA population']= 514261.0\n",
    "zz2.reset_index(inplace=True)"
   ]
  },
  {
   "cell_type": "code",
   "execution_count": 362,
   "id": "8d367b16",
   "metadata": {},
   "outputs": [
    {
     "name": "stderr",
     "output_type": "stream",
     "text": [
      "C:\\Users\\blaze\\AppData\\Local\\Temp/ipykernel_9144/228228283.py:3: SettingWithCopyWarning: \n",
      "A value is trying to be set on a copy of a slice from a DataFrame\n",
      "\n",
      "See the caveats in the documentation: https://pandas.pydata.org/pandas-docs/stable/user_guide/indexing.html#returning-a-view-versus-a-copy\n",
      "  zz2['year'][i] = zz2['year'][i-1]+1\n"
     ]
    }
   ],
   "source": [
    "for i in range (1, zz2.shape[0]):\n",
    "    if zz2['index'][i] == zz2['index'][i-1]:\n",
    "        zz2['year'][i] = zz2['year'][i-1]+1"
   ]
  },
  {
   "cell_type": "code",
   "execution_count": 363,
   "id": "0df653ee",
   "metadata": {},
   "outputs": [
    {
     "name": "stderr",
     "output_type": "stream",
     "text": [
      "C:\\Users\\blaze\\AppData\\Local\\Temp/ipykernel_9144/3200078983.py:3: SettingWithCopyWarning: \n",
      "A value is trying to be set on a copy of a slice from a DataFrame\n",
      "\n",
      "See the caveats in the documentation: https://pandas.pydata.org/pandas-docs/stable/user_guide/indexing.html#returning-a-view-versus-a-copy\n",
      "  zz2['LSOA population'][i] = zz2['Population 2012'][i]\n",
      "C:\\Users\\blaze\\AppData\\Local\\Temp/ipykernel_9144/3200078983.py:5: SettingWithCopyWarning: \n",
      "A value is trying to be set on a copy of a slice from a DataFrame\n",
      "\n",
      "See the caveats in the documentation: https://pandas.pydata.org/pandas-docs/stable/user_guide/indexing.html#returning-a-view-versus-a-copy\n",
      "  zz2['LSOA population'][i] = zz2['Population 2013'][i]\n",
      "C:\\Users\\blaze\\AppData\\Local\\Temp/ipykernel_9144/3200078983.py:7: SettingWithCopyWarning: \n",
      "A value is trying to be set on a copy of a slice from a DataFrame\n",
      "\n",
      "See the caveats in the documentation: https://pandas.pydata.org/pandas-docs/stable/user_guide/indexing.html#returning-a-view-versus-a-copy\n",
      "  zz2['LSOA population'][i] = zz2['Population 2014'][i]\n",
      "C:\\Users\\blaze\\AppData\\Local\\Temp/ipykernel_9144/3200078983.py:9: SettingWithCopyWarning: \n",
      "A value is trying to be set on a copy of a slice from a DataFrame\n",
      "\n",
      "See the caveats in the documentation: https://pandas.pydata.org/pandas-docs/stable/user_guide/indexing.html#returning-a-view-versus-a-copy\n",
      "  zz2['LSOA population'][i] = zz2['Population 2015'][i]\n",
      "C:\\Users\\blaze\\AppData\\Local\\Temp/ipykernel_9144/3200078983.py:11: SettingWithCopyWarning: \n",
      "A value is trying to be set on a copy of a slice from a DataFrame\n",
      "\n",
      "See the caveats in the documentation: https://pandas.pydata.org/pandas-docs/stable/user_guide/indexing.html#returning-a-view-versus-a-copy\n",
      "  zz2['LSOA population'][i] = zz2['Population 2016'][i]\n",
      "C:\\Users\\blaze\\AppData\\Local\\Temp/ipykernel_9144/3200078983.py:13: SettingWithCopyWarning: \n",
      "A value is trying to be set on a copy of a slice from a DataFrame\n",
      "\n",
      "See the caveats in the documentation: https://pandas.pydata.org/pandas-docs/stable/user_guide/indexing.html#returning-a-view-versus-a-copy\n",
      "  zz2['LSOA population'][i] = zz2['Population 2017'][i]\n",
      "C:\\Users\\blaze\\AppData\\Local\\Temp/ipykernel_9144/3200078983.py:15: SettingWithCopyWarning: \n",
      "A value is trying to be set on a copy of a slice from a DataFrame\n",
      "\n",
      "See the caveats in the documentation: https://pandas.pydata.org/pandas-docs/stable/user_guide/indexing.html#returning-a-view-versus-a-copy\n",
      "  zz2['LSOA population'][i] = zz2['Population 2018'][i]\n",
      "C:\\Users\\blaze\\AppData\\Local\\Temp/ipykernel_9144/3200078983.py:17: SettingWithCopyWarning: \n",
      "A value is trying to be set on a copy of a slice from a DataFrame\n",
      "\n",
      "See the caveats in the documentation: https://pandas.pydata.org/pandas-docs/stable/user_guide/indexing.html#returning-a-view-versus-a-copy\n",
      "  zz2['LSOA population'][i] = zz2['Population 2019'][i]\n"
     ]
    }
   ],
   "source": [
    "for i in range (0, zz2.shape[0]):\n",
    "    if zz2['year'][i]==2012:\n",
    "        zz2['LSOA population'][i] = zz2['Population 2012'][i]\n",
    "    if zz2['year'][i]==2013:\n",
    "        zz2['LSOA population'][i] = zz2['Population 2013'][i]\n",
    "    if zz2['year'][i]==2014:\n",
    "        zz2['LSOA population'][i] = zz2['Population 2014'][i]\n",
    "    if zz2['year'][i]==2015:\n",
    "        zz2['LSOA population'][i] = zz2['Population 2015'][i]\n",
    "    if zz2['year'][i]==2016:\n",
    "        zz2['LSOA population'][i] = zz2['Population 2016'][i]\n",
    "    if zz2['year'][i]==2017:\n",
    "        zz2['LSOA population'][i] = zz2['Population 2017'][i]\n",
    "    if zz2['year'][i]==2018:\n",
    "        zz2['LSOA population'][i] = zz2['Population 2018'][i]\n",
    "    if zz2['year'][i]==2019:\n",
    "        zz2['LSOA population'][i] = zz2['Population 2019'][i] "
   ]
  },
  {
   "cell_type": "code",
   "execution_count": 364,
   "id": "42fe3102",
   "metadata": {},
   "outputs": [],
   "source": [
    "zz2.drop(['Population 2012', 'Population 2013','Population 2014','Population 2015','Population 2016','Population 2017', 'Population 2018', 'Population 2019'], axis=1, inplace=True)"
   ]
  },
  {
   "cell_type": "code",
   "execution_count": 365,
   "id": "d9fffe4e",
   "metadata": {},
   "outputs": [],
   "source": [
    "zz2 = zz2.rename(columns={'Area Codes': 'LSOA code'})"
   ]
  },
  {
   "cell_type": "code",
   "execution_count": 368,
   "id": "73c8e166",
   "metadata": {},
   "outputs": [],
   "source": [
    "df_population = pd.read_csv(\"Population of each district.csv\")\n",
    "df_population=df_population.rename(columns={'ladcode21':'Geo code', 'laname21':'name'})\n",
    "\n",
    "df_districts = pd.read_csv(\"districts.csv\")\n",
    "df_districts = df_districts.rename(columns={'LAD19CD':'Geo code', 'LAD19NM':'name','PFA19CD': 'Geo code police', 'PFA19NM':'Force Name'})\n",
    "df_districts.drop(['CSP19CD', 'CSP19NM', 'FID'], axis=1, inplace=True)\n",
    "\n",
    "#Train\n",
    "df_train2 = df_population.groupby(['name', 'Geo code'])[['population_2012', 'population_2013', 'population_2014', 'population_2015', 'population_2016', 'population_2017', 'population_2018', 'population_2019']].sum()\n",
    "df_train2.reset_index(inplace=True)\n",
    "\n",
    "abc_train = pd.merge(df_train2, df_districts, on='Geo code')\n",
    "abc_train = abc_train.rename(columns={'name_x': 'name'})\n",
    "abc_train.drop(['name_y'], axis=1, inplace=True)\n",
    "\n",
    "#Test\n",
    "df_test2 = df_population.groupby(['name', 'Geo code'])[['population_2019']].sum()\n",
    "df_test2.reset_index(inplace=True)\n",
    "\n",
    "abc_test = pd.merge(df_test2, df_districts, on='Geo code')\n",
    "abc_test = abc_test.rename(columns={'name_x': 'name'})\n",
    "abc_test.drop(['name_y'], axis=1, inplace=True)"
   ]
  },
  {
   "cell_type": "markdown",
   "id": "b1c304ab",
   "metadata": {},
   "source": [
    "# Merge population with the police"
   ]
  },
  {
   "cell_type": "code",
   "execution_count": 371,
   "id": "1823524e",
   "metadata": {},
   "outputs": [],
   "source": [
    "#Train\n",
    "df_train3 = df_train.unstack(level=0)\n",
    "df_train3.reset_index(inplace=True)\n",
    "\n",
    "#Test\n",
    "df_test3 = df_test.unstack(level=0)\n",
    "df_test3.reset_index(inplace=True)"
   ]
  },
  {
   "cell_type": "code",
   "execution_count": 372,
   "id": "9aa9f672",
   "metadata": {},
   "outputs": [
    {
     "name": "stderr",
     "output_type": "stream",
     "text": [
      "C:\\Users\\blaze\\AppData\\Local\\Temp/ipykernel_9144/1921022594.py:2: FutureWarning: merging between different levels is deprecated and will be removed in a future version. (1 levels on the left,2 on the right)\n",
      "  df_merged_train = pd.merge(abc_train, df_train3, on='Force Name')\n",
      "C:\\Users\\blaze\\Anaconda3\\lib\\site-packages\\pandas\\core\\generic.py:4150: PerformanceWarning: dropping on a non-lexsorted multi-index without a level parameter may impact performance.\n",
      "  obj = obj._drop_axis(labels, axis, level=level, errors=errors)\n",
      "C:\\Users\\blaze\\AppData\\Local\\Temp/ipykernel_9144/1921022594.py:6: FutureWarning: merging between different levels is deprecated and will be removed in a future version. (1 levels on the left,2 on the right)\n",
      "  df_merged_test = pd.merge(abc_test, df_test3, on='Force Name')\n"
     ]
    }
   ],
   "source": [
    "#Train\n",
    "df_merged_train = pd.merge(abc_train, df_train3, on='Force Name')\n",
    "df_merged_train.drop(('Geo code police', ''), axis=1, inplace=True)\n",
    "\n",
    "#Test\n",
    "df_merged_test = pd.merge(abc_test, df_test3, on='Force Name')\n",
    "df_merged_test.drop(('Geo code police', ''), axis=1, inplace=True)"
   ]
  },
  {
   "cell_type": "markdown",
   "id": "11bed414",
   "metadata": {},
   "source": [
    "# Add year population and headcount column to merged dataframe"
   ]
  },
  {
   "cell_type": "code",
   "execution_count": 373,
   "id": "fe521f1a",
   "metadata": {},
   "outputs": [],
   "source": [
    "#Train\n",
    "zz = df_merged_train.copy()\n",
    "zz = zz.loc[zz.index.repeat(7)]\n",
    "zz['year']= 2012\n",
    "zz['population']= 61334\n",
    "zz['headcount'] = 3181\n",
    "zz.reset_index(inplace=True)\n",
    "\n",
    "#Test\n",
    "yy = df_merged_test.copy()\n",
    "#yy = yy.loc[yy.index.repeat(1)]\n",
    "yy['year']= 2019\n",
    "yy['population']= 61334\n",
    "yy['headcount'] = 3181\n",
    "yy.reset_index(inplace=True)"
   ]
  },
  {
   "cell_type": "code",
   "execution_count": 374,
   "id": "bf301588",
   "metadata": {},
   "outputs": [
    {
     "name": "stderr",
     "output_type": "stream",
     "text": [
      "C:\\Users\\blaze\\AppData\\Local\\Temp/ipykernel_9144/3389684030.py:4: SettingWithCopyWarning: \n",
      "A value is trying to be set on a copy of a slice from a DataFrame\n",
      "\n",
      "See the caveats in the documentation: https://pandas.pydata.org/pandas-docs/stable/user_guide/indexing.html#returning-a-view-versus-a-copy\n",
      "  zz['year'][i] = zz['year'][i-1]+1\n"
     ]
    }
   ],
   "source": [
    "#Train\n",
    "for i in range (1, zz.shape[0]):\n",
    "    if zz['index'][i] == zz['index'][i-1]:\n",
    "        zz['year'][i] = zz['year'][i-1]+1\n"
   ]
  },
  {
   "cell_type": "code",
   "execution_count": 375,
   "id": "cb9a12a7",
   "metadata": {},
   "outputs": [
    {
     "name": "stderr",
     "output_type": "stream",
     "text": [
      "C:\\Users\\blaze\\AppData\\Local\\Temp/ipykernel_9144/1698172861.py:6: SettingWithCopyWarning: \n",
      "A value is trying to be set on a copy of a slice from a DataFrame\n",
      "\n",
      "See the caveats in the documentation: https://pandas.pydata.org/pandas-docs/stable/user_guide/indexing.html#returning-a-view-versus-a-copy\n",
      "  zz['population'][i] = zz['population_2012'][i]\n",
      "C:\\Users\\blaze\\AppData\\Local\\Temp/ipykernel_9144/1698172861.py:7: SettingWithCopyWarning: \n",
      "A value is trying to be set on a copy of a slice from a DataFrame\n",
      "\n",
      "See the caveats in the documentation: https://pandas.pydata.org/pandas-docs/stable/user_guide/indexing.html#returning-a-view-versus-a-copy\n",
      "  zz['headcount'][i] = zz[('Total (headcount)', 2012)][i]\n",
      "C:\\Users\\blaze\\AppData\\Local\\Temp/ipykernel_9144/1698172861.py:9: SettingWithCopyWarning: \n",
      "A value is trying to be set on a copy of a slice from a DataFrame\n",
      "\n",
      "See the caveats in the documentation: https://pandas.pydata.org/pandas-docs/stable/user_guide/indexing.html#returning-a-view-versus-a-copy\n",
      "  zz['population'][i] = zz['population_2013'][i]\n",
      "C:\\Users\\blaze\\AppData\\Local\\Temp/ipykernel_9144/1698172861.py:10: SettingWithCopyWarning: \n",
      "A value is trying to be set on a copy of a slice from a DataFrame\n",
      "\n",
      "See the caveats in the documentation: https://pandas.pydata.org/pandas-docs/stable/user_guide/indexing.html#returning-a-view-versus-a-copy\n",
      "  zz['headcount'][i] = zz[('Total (headcount)', 2013)][i]\n",
      "C:\\Users\\blaze\\AppData\\Local\\Temp/ipykernel_9144/1698172861.py:12: SettingWithCopyWarning: \n",
      "A value is trying to be set on a copy of a slice from a DataFrame\n",
      "\n",
      "See the caveats in the documentation: https://pandas.pydata.org/pandas-docs/stable/user_guide/indexing.html#returning-a-view-versus-a-copy\n",
      "  zz['population'][i] = zz['population_2014'][i]\n",
      "C:\\Users\\blaze\\AppData\\Local\\Temp/ipykernel_9144/1698172861.py:13: SettingWithCopyWarning: \n",
      "A value is trying to be set on a copy of a slice from a DataFrame\n",
      "\n",
      "See the caveats in the documentation: https://pandas.pydata.org/pandas-docs/stable/user_guide/indexing.html#returning-a-view-versus-a-copy\n",
      "  zz['headcount'][i] = zz[('Total (headcount)', 2014)][i]\n",
      "C:\\Users\\blaze\\AppData\\Local\\Temp/ipykernel_9144/1698172861.py:15: SettingWithCopyWarning: \n",
      "A value is trying to be set on a copy of a slice from a DataFrame\n",
      "\n",
      "See the caveats in the documentation: https://pandas.pydata.org/pandas-docs/stable/user_guide/indexing.html#returning-a-view-versus-a-copy\n",
      "  zz['population'][i] = zz['population_2015'][i]\n",
      "C:\\Users\\blaze\\AppData\\Local\\Temp/ipykernel_9144/1698172861.py:16: SettingWithCopyWarning: \n",
      "A value is trying to be set on a copy of a slice from a DataFrame\n",
      "\n",
      "See the caveats in the documentation: https://pandas.pydata.org/pandas-docs/stable/user_guide/indexing.html#returning-a-view-versus-a-copy\n",
      "  zz['headcount'][i] = zz[('Total (headcount)', 2015)][i]\n",
      "C:\\Users\\blaze\\AppData\\Local\\Temp/ipykernel_9144/1698172861.py:18: SettingWithCopyWarning: \n",
      "A value is trying to be set on a copy of a slice from a DataFrame\n",
      "\n",
      "See the caveats in the documentation: https://pandas.pydata.org/pandas-docs/stable/user_guide/indexing.html#returning-a-view-versus-a-copy\n",
      "  zz['population'][i] = zz['population_2016'][i]\n",
      "C:\\Users\\blaze\\AppData\\Local\\Temp/ipykernel_9144/1698172861.py:19: SettingWithCopyWarning: \n",
      "A value is trying to be set on a copy of a slice from a DataFrame\n",
      "\n",
      "See the caveats in the documentation: https://pandas.pydata.org/pandas-docs/stable/user_guide/indexing.html#returning-a-view-versus-a-copy\n",
      "  zz['headcount'][i] = zz[('Total (headcount)', 2016)][i]\n",
      "C:\\Users\\blaze\\AppData\\Local\\Temp/ipykernel_9144/1698172861.py:21: SettingWithCopyWarning: \n",
      "A value is trying to be set on a copy of a slice from a DataFrame\n",
      "\n",
      "See the caveats in the documentation: https://pandas.pydata.org/pandas-docs/stable/user_guide/indexing.html#returning-a-view-versus-a-copy\n",
      "  zz['population'][i] = zz['population_2017'][i]\n",
      "C:\\Users\\blaze\\AppData\\Local\\Temp/ipykernel_9144/1698172861.py:22: SettingWithCopyWarning: \n",
      "A value is trying to be set on a copy of a slice from a DataFrame\n",
      "\n",
      "See the caveats in the documentation: https://pandas.pydata.org/pandas-docs/stable/user_guide/indexing.html#returning-a-view-versus-a-copy\n",
      "  zz['headcount'][i] = zz[('Total (headcount)', 2017)][i]\n",
      "C:\\Users\\blaze\\AppData\\Local\\Temp/ipykernel_9144/1698172861.py:24: SettingWithCopyWarning: \n",
      "A value is trying to be set on a copy of a slice from a DataFrame\n",
      "\n",
      "See the caveats in the documentation: https://pandas.pydata.org/pandas-docs/stable/user_guide/indexing.html#returning-a-view-versus-a-copy\n",
      "  zz['population'][i] = zz['population_2018'][i]\n",
      "C:\\Users\\blaze\\AppData\\Local\\Temp/ipykernel_9144/1698172861.py:25: SettingWithCopyWarning: \n",
      "A value is trying to be set on a copy of a slice from a DataFrame\n",
      "\n",
      "See the caveats in the documentation: https://pandas.pydata.org/pandas-docs/stable/user_guide/indexing.html#returning-a-view-versus-a-copy\n",
      "  zz['headcount'][i] = zz[('Total (headcount)', 2018)][i]\n"
     ]
    }
   ],
   "source": [
    "for i in range (0, zz.shape[0]):\n",
    "    if zz['year'][i]==2011:\n",
    "        zz['population'][i] = zz['population_2011'][i]\n",
    "        zz['headcount'][i] = zz[('Total (headcount)', 2011)][i]\n",
    "    if zz['year'][i]==2012:\n",
    "        zz['population'][i] = zz['population_2012'][i]\n",
    "        zz['headcount'][i] = zz[('Total (headcount)', 2012)][i]\n",
    "    if zz['year'][i]==2013:\n",
    "        zz['population'][i] = zz['population_2013'][i]\n",
    "        zz['headcount'][i] = zz[('Total (headcount)', 2013)][i]\n",
    "    if zz['year'][i]==2014:\n",
    "        zz['population'][i] = zz['population_2014'][i]\n",
    "        zz['headcount'][i] = zz[('Total (headcount)', 2014)][i]\n",
    "    if zz['year'][i]==2015:\n",
    "        zz['population'][i] = zz['population_2015'][i]\n",
    "        zz['headcount'][i] = zz[('Total (headcount)', 2015)][i]\n",
    "    if zz['year'][i]==2016:\n",
    "        zz['population'][i] = zz['population_2016'][i]\n",
    "        zz['headcount'][i] = zz[('Total (headcount)', 2016)][i]\n",
    "    if zz['year'][i]==2017:\n",
    "        zz['population'][i] = zz['population_2017'][i]\n",
    "        zz['headcount'][i] = zz[('Total (headcount)', 2017)][i]\n",
    "    if zz['year'][i]==2018:\n",
    "        zz['population'][i] = zz['population_2018'][i]\n",
    "        zz['headcount'][i] = zz[('Total (headcount)', 2018)][i]\n"
   ]
  },
  {
   "cell_type": "code",
   "execution_count": 377,
   "id": "1aad5d02",
   "metadata": {},
   "outputs": [
    {
     "name": "stderr",
     "output_type": "stream",
     "text": [
      "C:\\Users\\blaze\\AppData\\Local\\Temp/ipykernel_9144/1612746822.py:3: SettingWithCopyWarning: \n",
      "A value is trying to be set on a copy of a slice from a DataFrame\n",
      "\n",
      "See the caveats in the documentation: https://pandas.pydata.org/pandas-docs/stable/user_guide/indexing.html#returning-a-view-versus-a-copy\n",
      "  yy['population'][i] = yy['population_2019'][i]\n",
      "C:\\Users\\blaze\\AppData\\Local\\Temp/ipykernel_9144/1612746822.py:4: SettingWithCopyWarning: \n",
      "A value is trying to be set on a copy of a slice from a DataFrame\n",
      "\n",
      "See the caveats in the documentation: https://pandas.pydata.org/pandas-docs/stable/user_guide/indexing.html#returning-a-view-versus-a-copy\n",
      "  yy['headcount'][i] = yy[('Total (headcount)', 2019)][i]\n"
     ]
    }
   ],
   "source": [
    "#Test\n",
    "for i in range (0, yy.shape[0]):\n",
    "    yy['population'][i] = yy['population_2019'][i]\n",
    "    yy['headcount'][i] = yy[('Total (headcount)', 2019)][i]"
   ]
  },
  {
   "cell_type": "code",
   "execution_count": 378,
   "id": "b265a0bc",
   "metadata": {},
   "outputs": [],
   "source": [
    "zz.drop(['population_2012', 'population_2013','population_2014','population_2015','population_2016','population_2017', 'population_2018', 'population_2019'], axis=1, inplace=True)\n",
    "yy.drop(['population_2019'], axis=1, inplace=True)\n",
    "zz.drop(['index',('Total (headcount)', 2012), ('Total (headcount)', 2013), ('Total (headcount)', 2014), ('Total (headcount)', 2015), ('Total (headcount)', 2016),('Total (headcount)', 2017), ('Total (headcount)', 2018)], axis=1, inplace=True)\n",
    "yy.drop(['index',('Total (headcount)', 2019)], axis=1, inplace=True)"
   ]
  },
  {
   "cell_type": "markdown",
   "id": "639152cf",
   "metadata": {},
   "source": [
    "# GDP"
   ]
  },
  {
   "cell_type": "code",
   "execution_count": 411,
   "id": "dbf31503",
   "metadata": {},
   "outputs": [],
   "source": [
    "uk_gdp = pd.read_excel('GDP_UK_per_head.xlsx')\n",
    "uk_gdp = uk_gdp.rename(columns={'2019\\n[note 3]': '2019'})"
   ]
  },
  {
   "cell_type": "code",
   "execution_count": 412,
   "id": "02f603e6",
   "metadata": {},
   "outputs": [],
   "source": [
    "ukdpg = uk_gdp.copy()\n",
    "ukdpg = ukdpg.loc[ukdpg.index.repeat(8)]\n",
    "ukdpg['year']= 2012\n",
    "ukdpg['GDP']= 0\n",
    "ukdpg.reset_index(inplace=True)"
   ]
  },
  {
   "cell_type": "code",
   "execution_count": 413,
   "id": "d695101d",
   "metadata": {},
   "outputs": [
    {
     "name": "stderr",
     "output_type": "stream",
     "text": [
      "C:\\Users\\blaze\\AppData\\Local\\Temp/ipykernel_9144/1383387713.py:3: SettingWithCopyWarning: \n",
      "A value is trying to be set on a copy of a slice from a DataFrame\n",
      "\n",
      "See the caveats in the documentation: https://pandas.pydata.org/pandas-docs/stable/user_guide/indexing.html#returning-a-view-versus-a-copy\n",
      "  ukdpg['year'][i] = ukdpg['year'][i-1]+1\n"
     ]
    }
   ],
   "source": [
    "for i in range (1, ukdpg.shape[0]):\n",
    "    if ukdpg['index'][i] == ukdpg['index'][i-1]:\n",
    "        ukdpg['year'][i] = ukdpg['year'][i-1]+1"
   ]
  },
  {
   "cell_type": "code",
   "execution_count": 414,
   "id": "a6b401f4",
   "metadata": {},
   "outputs": [
    {
     "name": "stderr",
     "output_type": "stream",
     "text": [
      "C:\\Users\\blaze\\AppData\\Local\\Temp/ipykernel_9144/1345400967.py:3: SettingWithCopyWarning: \n",
      "A value is trying to be set on a copy of a slice from a DataFrame\n",
      "\n",
      "See the caveats in the documentation: https://pandas.pydata.org/pandas-docs/stable/user_guide/indexing.html#returning-a-view-versus-a-copy\n",
      "  ukdpg['GDP'][i] = ukdpg[2012][i]\n",
      "C:\\Users\\blaze\\AppData\\Local\\Temp/ipykernel_9144/1345400967.py:5: SettingWithCopyWarning: \n",
      "A value is trying to be set on a copy of a slice from a DataFrame\n",
      "\n",
      "See the caveats in the documentation: https://pandas.pydata.org/pandas-docs/stable/user_guide/indexing.html#returning-a-view-versus-a-copy\n",
      "  ukdpg['GDP'][i] = ukdpg[2013][i]\n",
      "C:\\Users\\blaze\\AppData\\Local\\Temp/ipykernel_9144/1345400967.py:7: SettingWithCopyWarning: \n",
      "A value is trying to be set on a copy of a slice from a DataFrame\n",
      "\n",
      "See the caveats in the documentation: https://pandas.pydata.org/pandas-docs/stable/user_guide/indexing.html#returning-a-view-versus-a-copy\n",
      "  ukdpg['GDP'][i] = ukdpg[2014][i]\n",
      "C:\\Users\\blaze\\AppData\\Local\\Temp/ipykernel_9144/1345400967.py:9: SettingWithCopyWarning: \n",
      "A value is trying to be set on a copy of a slice from a DataFrame\n",
      "\n",
      "See the caveats in the documentation: https://pandas.pydata.org/pandas-docs/stable/user_guide/indexing.html#returning-a-view-versus-a-copy\n",
      "  ukdpg['GDP'][i] = ukdpg[2015][i]\n",
      "C:\\Users\\blaze\\AppData\\Local\\Temp/ipykernel_9144/1345400967.py:11: SettingWithCopyWarning: \n",
      "A value is trying to be set on a copy of a slice from a DataFrame\n",
      "\n",
      "See the caveats in the documentation: https://pandas.pydata.org/pandas-docs/stable/user_guide/indexing.html#returning-a-view-versus-a-copy\n",
      "  ukdpg['GDP'][i] = ukdpg[2016][i]\n",
      "C:\\Users\\blaze\\AppData\\Local\\Temp/ipykernel_9144/1345400967.py:13: SettingWithCopyWarning: \n",
      "A value is trying to be set on a copy of a slice from a DataFrame\n",
      "\n",
      "See the caveats in the documentation: https://pandas.pydata.org/pandas-docs/stable/user_guide/indexing.html#returning-a-view-versus-a-copy\n",
      "  ukdpg['GDP'][i] = ukdpg[2017][i]\n",
      "C:\\Users\\blaze\\AppData\\Local\\Temp/ipykernel_9144/1345400967.py:15: SettingWithCopyWarning: \n",
      "A value is trying to be set on a copy of a slice from a DataFrame\n",
      "\n",
      "See the caveats in the documentation: https://pandas.pydata.org/pandas-docs/stable/user_guide/indexing.html#returning-a-view-versus-a-copy\n",
      "  ukdpg['GDP'][i] = ukdpg[2018][i]\n",
      "C:\\Users\\blaze\\AppData\\Local\\Temp/ipykernel_9144/1345400967.py:17: SettingWithCopyWarning: \n",
      "A value is trying to be set on a copy of a slice from a DataFrame\n",
      "\n",
      "See the caveats in the documentation: https://pandas.pydata.org/pandas-docs/stable/user_guide/indexing.html#returning-a-view-versus-a-copy\n",
      "  ukdpg['GDP'][i] = ukdpg['2019'][i]\n"
     ]
    }
   ],
   "source": [
    "for i in range (0, ukdpg.shape[0]):\n",
    "    if ukdpg['year'][i]==2012:\n",
    "        ukdpg['GDP'][i] = ukdpg[2012][i]\n",
    "    if ukdpg['year'][i]==2013:\n",
    "        ukdpg['GDP'][i] = ukdpg[2013][i]\n",
    "    if ukdpg['year'][i]==2014:\n",
    "        ukdpg['GDP'][i] = ukdpg[2014][i]\n",
    "    if ukdpg['year'][i]==2015:\n",
    "        ukdpg['GDP'][i] = ukdpg[2015][i]\n",
    "    if ukdpg['year'][i]==2016:\n",
    "        ukdpg['GDP'][i] = ukdpg[2016][i]\n",
    "    if ukdpg['year'][i]==2017:\n",
    "        ukdpg['GDP'][i] = ukdpg[2017][i]\n",
    "    if ukdpg['year'][i]==2018:\n",
    "        ukdpg['GDP'][i] = ukdpg[2018][i]\n",
    "    if ukdpg['year'][i]==2019:\n",
    "        ukdpg['GDP'][i] = ukdpg['2019'][i]"
   ]
  },
  {
   "cell_type": "code",
   "execution_count": 415,
   "id": "50eac225",
   "metadata": {},
   "outputs": [],
   "source": [
    "ukdpg.drop(['index', 'ITL1 Region', 'LA name', 1998, 1999, 2000, 2001, 2002, 2003, 2004, 2005, 2006, 2007, 2008, 2009, 2010, 2011, 2012, 2013, 2014, 2015, 2016, 2017, 2018, '2019'], axis=1, inplace=True)\n",
    "ukdpg = ukdpg.rename(columns={'LA code': 'district code'})"
   ]
  },
  {
   "cell_type": "markdown",
   "id": "bd9f410a",
   "metadata": {},
   "source": [
    "# Add year column to dataframe from sql"
   ]
  },
  {
   "cell_type": "code",
   "execution_count": 416,
   "id": "582568f3",
   "metadata": {},
   "outputs": [],
   "source": [
    "#Train\n",
    "crime_per_district['year'] = pd.to_datetime(crime_per_district['Month'], format='%Y-%m').dt.year\n",
    "\n",
    "#Test\n",
    "crime_per_district2['year'] = pd.to_datetime(crime_per_district2['Month'], format='%Y-%m').dt.year"
   ]
  },
  {
   "cell_type": "markdown",
   "id": "639152cf",
   "metadata": {},
   "source": [
    "# Merge everything together"
   ]
  },
  {
   "cell_type": "code",
   "execution_count": 417,
   "id": "c5322e7e",
   "metadata": {},
   "outputs": [],
   "source": [
    "#Train\n",
    "df_merged_train2 = pd.merge(zz, crime_per_district, on=['year', 'Force Name'])\n",
    "\n",
    "#Test\n",
    "df_merged_test2 = pd.merge(yy, crime_per_district2, on=['year', 'Force Name'])"
   ]
  },
  {
   "cell_type": "code",
   "execution_count": 418,
   "id": "0f8b0b62",
   "metadata": {},
   "outputs": [],
   "source": [
    "#Train\n",
    "df_merged_train2.rename(columns={'name_y': 'LSOA name', 'Geo code_y':'LSOA code', 'name_x':'District name', 'Geo code_x':'district code'}, inplace=True)\n",
    "\n",
    "#Test\n",
    "df_merged_test2.rename(columns={'name_y': 'LSOA name', 'Geo code_y':'LSOA code', 'name_x':'District name', 'Geo code_x':'district code'}, inplace=True)"
   ]
  },
  {
   "cell_type": "code",
   "execution_count": 420,
   "id": "5d207045",
   "metadata": {},
   "outputs": [],
   "source": [
    "#Train\n",
    "df_merged_train2['month'] = pd.to_datetime(df_merged_train2['Month'], format='%Y-%m').dt.month\n",
    "\n",
    "#Test\n",
    "df_merged_test2['month'] = pd.to_datetime(df_merged_test2['Month'], format='%Y-%m').dt.month"
   ]
  },
  {
   "cell_type": "code",
   "execution_count": 423,
   "id": "1d25f7d3",
   "metadata": {},
   "outputs": [],
   "source": [
    "import pandas as pd"
   ]
  },
  {
   "cell_type": "code",
   "execution_count": 424,
   "id": "87c21796",
   "metadata": {},
   "outputs": [
    {
     "ename": "MemoryError",
     "evalue": "Unable to allocate 1.07 GiB for an array with shape (4, 35807513) and data type object",
     "output_type": "error",
     "traceback": [
      "\u001b[1;31m---------------------------------------------------------------------------\u001b[0m",
      "\u001b[1;31mMemoryError\u001b[0m                               Traceback (most recent call last)",
      "\u001b[1;32m~\\AppData\\Local\\Temp/ipykernel_9144/3727754079.py\u001b[0m in \u001b[0;36m<module>\u001b[1;34m\u001b[0m\n\u001b[1;32m----> 1\u001b[1;33m \u001b[0mdata\u001b[0m \u001b[1;33m=\u001b[0m \u001b[0mpd\u001b[0m\u001b[1;33m.\u001b[0m\u001b[0mconcat\u001b[0m\u001b[1;33m(\u001b[0m\u001b[1;33m[\u001b[0m\u001b[0mdf_merged_test2\u001b[0m\u001b[1;33m,\u001b[0m \u001b[0mdf_merged_train2\u001b[0m\u001b[1;33m]\u001b[0m\u001b[1;33m)\u001b[0m\u001b[1;33m\u001b[0m\u001b[1;33m\u001b[0m\u001b[0m\n\u001b[0m",
      "\u001b[1;32m~\\Anaconda3\\lib\\site-packages\\pandas\\util\\_decorators.py\u001b[0m in \u001b[0;36mwrapper\u001b[1;34m(*args, **kwargs)\u001b[0m\n\u001b[0;32m    309\u001b[0m                     \u001b[0mstacklevel\u001b[0m\u001b[1;33m=\u001b[0m\u001b[0mstacklevel\u001b[0m\u001b[1;33m,\u001b[0m\u001b[1;33m\u001b[0m\u001b[1;33m\u001b[0m\u001b[0m\n\u001b[0;32m    310\u001b[0m                 )\n\u001b[1;32m--> 311\u001b[1;33m             \u001b[1;32mreturn\u001b[0m \u001b[0mfunc\u001b[0m\u001b[1;33m(\u001b[0m\u001b[1;33m*\u001b[0m\u001b[0margs\u001b[0m\u001b[1;33m,\u001b[0m \u001b[1;33m**\u001b[0m\u001b[0mkwargs\u001b[0m\u001b[1;33m)\u001b[0m\u001b[1;33m\u001b[0m\u001b[1;33m\u001b[0m\u001b[0m\n\u001b[0m\u001b[0;32m    312\u001b[0m \u001b[1;33m\u001b[0m\u001b[0m\n\u001b[0;32m    313\u001b[0m         \u001b[1;32mreturn\u001b[0m \u001b[0mwrapper\u001b[0m\u001b[1;33m\u001b[0m\u001b[1;33m\u001b[0m\u001b[0m\n",
      "\u001b[1;32m~\\Anaconda3\\lib\\site-packages\\pandas\\core\\reshape\\concat.py\u001b[0m in \u001b[0;36mconcat\u001b[1;34m(objs, axis, join, ignore_index, keys, levels, names, verify_integrity, sort, copy)\u001b[0m\n\u001b[0;32m    305\u001b[0m     )\n\u001b[0;32m    306\u001b[0m \u001b[1;33m\u001b[0m\u001b[0m\n\u001b[1;32m--> 307\u001b[1;33m     \u001b[1;32mreturn\u001b[0m \u001b[0mop\u001b[0m\u001b[1;33m.\u001b[0m\u001b[0mget_result\u001b[0m\u001b[1;33m(\u001b[0m\u001b[1;33m)\u001b[0m\u001b[1;33m\u001b[0m\u001b[1;33m\u001b[0m\u001b[0m\n\u001b[0m\u001b[0;32m    308\u001b[0m \u001b[1;33m\u001b[0m\u001b[0m\n\u001b[0;32m    309\u001b[0m \u001b[1;33m\u001b[0m\u001b[0m\n",
      "\u001b[1;32m~\\Anaconda3\\lib\\site-packages\\pandas\\core\\reshape\\concat.py\u001b[0m in \u001b[0;36mget_result\u001b[1;34m(self)\u001b[0m\n\u001b[0;32m    530\u001b[0m                 \u001b[0mmgrs_indexers\u001b[0m\u001b[1;33m.\u001b[0m\u001b[0mappend\u001b[0m\u001b[1;33m(\u001b[0m\u001b[1;33m(\u001b[0m\u001b[0mobj\u001b[0m\u001b[1;33m.\u001b[0m\u001b[0m_mgr\u001b[0m\u001b[1;33m,\u001b[0m \u001b[0mindexers\u001b[0m\u001b[1;33m)\u001b[0m\u001b[1;33m)\u001b[0m\u001b[1;33m\u001b[0m\u001b[1;33m\u001b[0m\u001b[0m\n\u001b[0;32m    531\u001b[0m \u001b[1;33m\u001b[0m\u001b[0m\n\u001b[1;32m--> 532\u001b[1;33m             new_data = concatenate_managers(\n\u001b[0m\u001b[0;32m    533\u001b[0m                 \u001b[0mmgrs_indexers\u001b[0m\u001b[1;33m,\u001b[0m \u001b[0mself\u001b[0m\u001b[1;33m.\u001b[0m\u001b[0mnew_axes\u001b[0m\u001b[1;33m,\u001b[0m \u001b[0mconcat_axis\u001b[0m\u001b[1;33m=\u001b[0m\u001b[0mself\u001b[0m\u001b[1;33m.\u001b[0m\u001b[0mbm_axis\u001b[0m\u001b[1;33m,\u001b[0m \u001b[0mcopy\u001b[0m\u001b[1;33m=\u001b[0m\u001b[0mself\u001b[0m\u001b[1;33m.\u001b[0m\u001b[0mcopy\u001b[0m\u001b[1;33m\u001b[0m\u001b[1;33m\u001b[0m\u001b[0m\n\u001b[0;32m    534\u001b[0m             )\n",
      "\u001b[1;32m~\\Anaconda3\\lib\\site-packages\\pandas\\core\\internals\\concat.py\u001b[0m in \u001b[0;36mconcatenate_managers\u001b[1;34m(mgrs_indexers, axes, concat_axis, copy)\u001b[0m\n\u001b[0;32m    214\u001b[0m                 \u001b[1;31m#  we can use np.concatenate, which is more performant\u001b[0m\u001b[1;33m\u001b[0m\u001b[1;33m\u001b[0m\u001b[0m\n\u001b[0;32m    215\u001b[0m                 \u001b[1;31m#  than concat_compat\u001b[0m\u001b[1;33m\u001b[0m\u001b[1;33m\u001b[0m\u001b[0m\n\u001b[1;32m--> 216\u001b[1;33m                 \u001b[0mvalues\u001b[0m \u001b[1;33m=\u001b[0m \u001b[0mnp\u001b[0m\u001b[1;33m.\u001b[0m\u001b[0mconcatenate\u001b[0m\u001b[1;33m(\u001b[0m\u001b[0mvals\u001b[0m\u001b[1;33m,\u001b[0m \u001b[0maxis\u001b[0m\u001b[1;33m=\u001b[0m\u001b[0mblk\u001b[0m\u001b[1;33m.\u001b[0m\u001b[0mndim\u001b[0m \u001b[1;33m-\u001b[0m \u001b[1;36m1\u001b[0m\u001b[1;33m)\u001b[0m\u001b[1;33m\u001b[0m\u001b[1;33m\u001b[0m\u001b[0m\n\u001b[0m\u001b[0;32m    217\u001b[0m             \u001b[1;32melse\u001b[0m\u001b[1;33m:\u001b[0m\u001b[1;33m\u001b[0m\u001b[1;33m\u001b[0m\u001b[0m\n\u001b[0;32m    218\u001b[0m                 \u001b[1;31m# TODO(EA2D): special-casing not needed with 2D EAs\u001b[0m\u001b[1;33m\u001b[0m\u001b[1;33m\u001b[0m\u001b[0m\n",
      "\u001b[1;32m<__array_function__ internals>\u001b[0m in \u001b[0;36mconcatenate\u001b[1;34m(*args, **kwargs)\u001b[0m\n",
      "\u001b[1;31mMemoryError\u001b[0m: Unable to allocate 1.07 GiB for an array with shape (4, 35807513) and data type object"
     ]
    }
   ],
   "source": [
    "data = pd.concat([df_merged_test2, df_merged_train2])"
   ]
  },
  {
   "cell_type": "code",
   "execution_count": 228,
   "id": "575c8bee",
   "metadata": {},
   "outputs": [],
   "source": [
    "data.reset_index(inplace=True)"
   ]
  },
  {
   "cell_type": "code",
   "execution_count": 258,
   "id": "6189fc54",
   "metadata": {},
   "outputs": [],
   "source": [
    "data_merged1 = pd.merge(zz2, data, on=['LSOA code', 'year'])"
   ]
  },
  {
   "cell_type": "code",
   "execution_count": 269,
   "id": "30450b65",
   "metadata": {},
   "outputs": [
    {
     "data": {
      "text/html": [
       "<div>\n",
       "<style scoped>\n",
       "    .dataframe tbody tr th:only-of-type {\n",
       "        vertical-align: middle;\n",
       "    }\n",
       "\n",
       "    .dataframe tbody tr th {\n",
       "        vertical-align: top;\n",
       "    }\n",
       "\n",
       "    .dataframe thead th {\n",
       "        text-align: right;\n",
       "    }\n",
       "</style>\n",
       "<table border=\"1\" class=\"dataframe\">\n",
       "  <thead>\n",
       "    <tr style=\"text-align: right;\">\n",
       "      <th></th>\n",
       "      <th>index_x</th>\n",
       "      <th>LSOA code</th>\n",
       "      <th>year</th>\n",
       "      <th>LSOA population</th>\n",
       "      <th>index_y</th>\n",
       "      <th>District name</th>\n",
       "      <th>district code</th>\n",
       "      <th>Geo code police</th>\n",
       "      <th>Force Name</th>\n",
       "      <th>population</th>\n",
       "      <th>headcount</th>\n",
       "      <th>Month</th>\n",
       "      <th>LSOA name</th>\n",
       "      <th>amount_of_crimes</th>\n",
       "      <th>month</th>\n",
       "    </tr>\n",
       "  </thead>\n",
       "  <tbody>\n",
       "    <tr>\n",
       "      <th>0</th>\n",
       "      <td>1</td>\n",
       "      <td>E01020634</td>\n",
       "      <td>2012</td>\n",
       "      <td>1528.0</td>\n",
       "      <td>29137559</td>\n",
       "      <td>County Durham</td>\n",
       "      <td>E06000047</td>\n",
       "      <td>E23000008</td>\n",
       "      <td>Durham</td>\n",
       "      <td>514261</td>\n",
       "      <td>1383</td>\n",
       "      <td>2012-01</td>\n",
       "      <td>County Durham 001A</td>\n",
       "      <td>3</td>\n",
       "      <td>1</td>\n",
       "    </tr>\n",
       "    <tr>\n",
       "      <th>1</th>\n",
       "      <td>1</td>\n",
       "      <td>E01020634</td>\n",
       "      <td>2012</td>\n",
       "      <td>1528.0</td>\n",
       "      <td>29137942</td>\n",
       "      <td>County Durham</td>\n",
       "      <td>E06000047</td>\n",
       "      <td>E23000008</td>\n",
       "      <td>Durham</td>\n",
       "      <td>514261</td>\n",
       "      <td>1383</td>\n",
       "      <td>2012-02</td>\n",
       "      <td>County Durham 001A</td>\n",
       "      <td>4</td>\n",
       "      <td>2</td>\n",
       "    </tr>\n",
       "    <tr>\n",
       "      <th>2</th>\n",
       "      <td>1</td>\n",
       "      <td>E01020634</td>\n",
       "      <td>2012</td>\n",
       "      <td>1528.0</td>\n",
       "      <td>29138328</td>\n",
       "      <td>County Durham</td>\n",
       "      <td>E06000047</td>\n",
       "      <td>E23000008</td>\n",
       "      <td>Durham</td>\n",
       "      <td>514261</td>\n",
       "      <td>1383</td>\n",
       "      <td>2012-03</td>\n",
       "      <td>County Durham 001A</td>\n",
       "      <td>11</td>\n",
       "      <td>3</td>\n",
       "    </tr>\n",
       "    <tr>\n",
       "      <th>3</th>\n",
       "      <td>1</td>\n",
       "      <td>E01020634</td>\n",
       "      <td>2012</td>\n",
       "      <td>1528.0</td>\n",
       "      <td>29138720</td>\n",
       "      <td>County Durham</td>\n",
       "      <td>E06000047</td>\n",
       "      <td>E23000008</td>\n",
       "      <td>Durham</td>\n",
       "      <td>514261</td>\n",
       "      <td>1383</td>\n",
       "      <td>2012-04</td>\n",
       "      <td>County Durham 001A</td>\n",
       "      <td>4</td>\n",
       "      <td>4</td>\n",
       "    </tr>\n",
       "    <tr>\n",
       "      <th>4</th>\n",
       "      <td>1</td>\n",
       "      <td>E01020634</td>\n",
       "      <td>2012</td>\n",
       "      <td>1528.0</td>\n",
       "      <td>29139108</td>\n",
       "      <td>County Durham</td>\n",
       "      <td>E06000047</td>\n",
       "      <td>E23000008</td>\n",
       "      <td>Durham</td>\n",
       "      <td>514261</td>\n",
       "      <td>1383</td>\n",
       "      <td>2012-05</td>\n",
       "      <td>County Durham 001A</td>\n",
       "      <td>4</td>\n",
       "      <td>5</td>\n",
       "    </tr>\n",
       "    <tr>\n",
       "      <th>...</th>\n",
       "      <td>...</td>\n",
       "      <td>...</td>\n",
       "      <td>...</td>\n",
       "      <td>...</td>\n",
       "      <td>...</td>\n",
       "      <td>...</td>\n",
       "      <td>...</td>\n",
       "      <td>...</td>\n",
       "      <td>...</td>\n",
       "      <td>...</td>\n",
       "      <td>...</td>\n",
       "      <td>...</td>\n",
       "      <td>...</td>\n",
       "      <td>...</td>\n",
       "      <td>...</td>\n",
       "    </tr>\n",
       "    <tr>\n",
       "      <th>1112306</th>\n",
       "      <td>2260</td>\n",
       "      <td>E01018744</td>\n",
       "      <td>2019</td>\n",
       "      <td>1615.0</td>\n",
       "      <td>3856876</td>\n",
       "      <td>Warrington</td>\n",
       "      <td>E06000007</td>\n",
       "      <td>E23000006</td>\n",
       "      <td>Cheshire</td>\n",
       "      <td>210014</td>\n",
       "      <td>2037</td>\n",
       "      <td>2019-08</td>\n",
       "      <td>Cheshire West and Chester 037D</td>\n",
       "      <td>10</td>\n",
       "      <td>8</td>\n",
       "    </tr>\n",
       "    <tr>\n",
       "      <th>1112307</th>\n",
       "      <td>2260</td>\n",
       "      <td>E01018744</td>\n",
       "      <td>2019</td>\n",
       "      <td>1615.0</td>\n",
       "      <td>3857510</td>\n",
       "      <td>Warrington</td>\n",
       "      <td>E06000007</td>\n",
       "      <td>E23000006</td>\n",
       "      <td>Cheshire</td>\n",
       "      <td>210014</td>\n",
       "      <td>2037</td>\n",
       "      <td>2019-09</td>\n",
       "      <td>Cheshire West and Chester 037D</td>\n",
       "      <td>4</td>\n",
       "      <td>9</td>\n",
       "    </tr>\n",
       "    <tr>\n",
       "      <th>1112308</th>\n",
       "      <td>2260</td>\n",
       "      <td>E01018744</td>\n",
       "      <td>2019</td>\n",
       "      <td>1615.0</td>\n",
       "      <td>3858142</td>\n",
       "      <td>Warrington</td>\n",
       "      <td>E06000007</td>\n",
       "      <td>E23000006</td>\n",
       "      <td>Cheshire</td>\n",
       "      <td>210014</td>\n",
       "      <td>2037</td>\n",
       "      <td>2019-10</td>\n",
       "      <td>Cheshire West and Chester 037D</td>\n",
       "      <td>20</td>\n",
       "      <td>10</td>\n",
       "    </tr>\n",
       "    <tr>\n",
       "      <th>1112309</th>\n",
       "      <td>2260</td>\n",
       "      <td>E01018744</td>\n",
       "      <td>2019</td>\n",
       "      <td>1615.0</td>\n",
       "      <td>3858773</td>\n",
       "      <td>Warrington</td>\n",
       "      <td>E06000007</td>\n",
       "      <td>E23000006</td>\n",
       "      <td>Cheshire</td>\n",
       "      <td>210014</td>\n",
       "      <td>2037</td>\n",
       "      <td>2019-11</td>\n",
       "      <td>Cheshire West and Chester 037D</td>\n",
       "      <td>8</td>\n",
       "      <td>11</td>\n",
       "    </tr>\n",
       "    <tr>\n",
       "      <th>1112310</th>\n",
       "      <td>2260</td>\n",
       "      <td>E01018744</td>\n",
       "      <td>2019</td>\n",
       "      <td>1615.0</td>\n",
       "      <td>3859389</td>\n",
       "      <td>Warrington</td>\n",
       "      <td>E06000007</td>\n",
       "      <td>E23000006</td>\n",
       "      <td>Cheshire</td>\n",
       "      <td>210014</td>\n",
       "      <td>2037</td>\n",
       "      <td>2019-12</td>\n",
       "      <td>Cheshire West and Chester 037D</td>\n",
       "      <td>10</td>\n",
       "      <td>12</td>\n",
       "    </tr>\n",
       "  </tbody>\n",
       "</table>\n",
       "<p>1112311 rows × 15 columns</p>\n",
       "</div>"
      ],
      "text/plain": [
       "         index_x  LSOA code  year  LSOA population   index_y  District name  \\\n",
       "0              1  E01020634  2012           1528.0  29137559  County Durham   \n",
       "1              1  E01020634  2012           1528.0  29137942  County Durham   \n",
       "2              1  E01020634  2012           1528.0  29138328  County Durham   \n",
       "3              1  E01020634  2012           1528.0  29138720  County Durham   \n",
       "4              1  E01020634  2012           1528.0  29139108  County Durham   \n",
       "...          ...        ...   ...              ...       ...            ...   \n",
       "1112306     2260  E01018744  2019           1615.0   3856876     Warrington   \n",
       "1112307     2260  E01018744  2019           1615.0   3857510     Warrington   \n",
       "1112308     2260  E01018744  2019           1615.0   3858142     Warrington   \n",
       "1112309     2260  E01018744  2019           1615.0   3858773     Warrington   \n",
       "1112310     2260  E01018744  2019           1615.0   3859389     Warrington   \n",
       "\n",
       "        district code Geo code police Force Name  population  headcount  \\\n",
       "0           E06000047       E23000008     Durham      514261       1383   \n",
       "1           E06000047       E23000008     Durham      514261       1383   \n",
       "2           E06000047       E23000008     Durham      514261       1383   \n",
       "3           E06000047       E23000008     Durham      514261       1383   \n",
       "4           E06000047       E23000008     Durham      514261       1383   \n",
       "...               ...             ...        ...         ...        ...   \n",
       "1112306     E06000007       E23000006   Cheshire      210014       2037   \n",
       "1112307     E06000007       E23000006   Cheshire      210014       2037   \n",
       "1112308     E06000007       E23000006   Cheshire      210014       2037   \n",
       "1112309     E06000007       E23000006   Cheshire      210014       2037   \n",
       "1112310     E06000007       E23000006   Cheshire      210014       2037   \n",
       "\n",
       "           Month                       LSOA name  amount_of_crimes  month  \n",
       "0        2012-01              County Durham 001A                 3      1  \n",
       "1        2012-02              County Durham 001A                 4      2  \n",
       "2        2012-03              County Durham 001A                11      3  \n",
       "3        2012-04              County Durham 001A                 4      4  \n",
       "4        2012-05              County Durham 001A                 4      5  \n",
       "...          ...                             ...               ...    ...  \n",
       "1112306  2019-08  Cheshire West and Chester 037D                10      8  \n",
       "1112307  2019-09  Cheshire West and Chester 037D                 4      9  \n",
       "1112308  2019-10  Cheshire West and Chester 037D                20     10  \n",
       "1112309  2019-11  Cheshire West and Chester 037D                 8     11  \n",
       "1112310  2019-12  Cheshire West and Chester 037D                10     12  \n",
       "\n",
       "[1112311 rows x 15 columns]"
      ]
     },
     "execution_count": 269,
     "metadata": {},
     "output_type": "execute_result"
    }
   ],
   "source": [
    "data_merged1"
   ]
  },
  {
   "cell_type": "code",
   "execution_count": 270,
   "id": "f98ae6c5",
   "metadata": {},
   "outputs": [],
   "source": [
    "df_data = pd.merge(data_merged1, ukdpg, on=['district code', 'year'])"
   ]
  },
  {
   "cell_type": "code",
   "execution_count": 272,
   "id": "c515f4fd",
   "metadata": {},
   "outputs": [
    {
     "data": {
      "text/html": [
       "<div>\n",
       "<style scoped>\n",
       "    .dataframe tbody tr th:only-of-type {\n",
       "        vertical-align: middle;\n",
       "    }\n",
       "\n",
       "    .dataframe tbody tr th {\n",
       "        vertical-align: top;\n",
       "    }\n",
       "\n",
       "    .dataframe thead th {\n",
       "        text-align: right;\n",
       "    }\n",
       "</style>\n",
       "<table border=\"1\" class=\"dataframe\">\n",
       "  <thead>\n",
       "    <tr style=\"text-align: right;\">\n",
       "      <th></th>\n",
       "      <th>LSOA code</th>\n",
       "      <th>year</th>\n",
       "      <th>LSOA population</th>\n",
       "      <th>District name</th>\n",
       "      <th>district code</th>\n",
       "      <th>Geo code police</th>\n",
       "      <th>Force Name</th>\n",
       "      <th>population</th>\n",
       "      <th>headcount</th>\n",
       "      <th>Month</th>\n",
       "      <th>LSOA name</th>\n",
       "      <th>amount_of_crimes</th>\n",
       "      <th>month</th>\n",
       "      <th>GDP</th>\n",
       "    </tr>\n",
       "  </thead>\n",
       "  <tbody>\n",
       "    <tr>\n",
       "      <th>0</th>\n",
       "      <td>E01020634</td>\n",
       "      <td>2012</td>\n",
       "      <td>1528.0</td>\n",
       "      <td>County Durham</td>\n",
       "      <td>E06000047</td>\n",
       "      <td>E23000008</td>\n",
       "      <td>Durham</td>\n",
       "      <td>514261</td>\n",
       "      <td>1383</td>\n",
       "      <td>2012-01</td>\n",
       "      <td>County Durham 001A</td>\n",
       "      <td>3</td>\n",
       "      <td>1</td>\n",
       "      <td>17751</td>\n",
       "    </tr>\n",
       "    <tr>\n",
       "      <th>1</th>\n",
       "      <td>E01020634</td>\n",
       "      <td>2012</td>\n",
       "      <td>1528.0</td>\n",
       "      <td>County Durham</td>\n",
       "      <td>E06000047</td>\n",
       "      <td>E23000008</td>\n",
       "      <td>Durham</td>\n",
       "      <td>514261</td>\n",
       "      <td>1383</td>\n",
       "      <td>2012-02</td>\n",
       "      <td>County Durham 001A</td>\n",
       "      <td>4</td>\n",
       "      <td>2</td>\n",
       "      <td>17751</td>\n",
       "    </tr>\n",
       "    <tr>\n",
       "      <th>2</th>\n",
       "      <td>E01020634</td>\n",
       "      <td>2012</td>\n",
       "      <td>1528.0</td>\n",
       "      <td>County Durham</td>\n",
       "      <td>E06000047</td>\n",
       "      <td>E23000008</td>\n",
       "      <td>Durham</td>\n",
       "      <td>514261</td>\n",
       "      <td>1383</td>\n",
       "      <td>2012-03</td>\n",
       "      <td>County Durham 001A</td>\n",
       "      <td>11</td>\n",
       "      <td>3</td>\n",
       "      <td>17751</td>\n",
       "    </tr>\n",
       "    <tr>\n",
       "      <th>3</th>\n",
       "      <td>E01020634</td>\n",
       "      <td>2012</td>\n",
       "      <td>1528.0</td>\n",
       "      <td>County Durham</td>\n",
       "      <td>E06000047</td>\n",
       "      <td>E23000008</td>\n",
       "      <td>Durham</td>\n",
       "      <td>514261</td>\n",
       "      <td>1383</td>\n",
       "      <td>2012-04</td>\n",
       "      <td>County Durham 001A</td>\n",
       "      <td>4</td>\n",
       "      <td>4</td>\n",
       "      <td>17751</td>\n",
       "    </tr>\n",
       "    <tr>\n",
       "      <th>4</th>\n",
       "      <td>E01020634</td>\n",
       "      <td>2012</td>\n",
       "      <td>1528.0</td>\n",
       "      <td>County Durham</td>\n",
       "      <td>E06000047</td>\n",
       "      <td>E23000008</td>\n",
       "      <td>Durham</td>\n",
       "      <td>514261</td>\n",
       "      <td>1383</td>\n",
       "      <td>2012-05</td>\n",
       "      <td>County Durham 001A</td>\n",
       "      <td>4</td>\n",
       "      <td>5</td>\n",
       "      <td>17751</td>\n",
       "    </tr>\n",
       "    <tr>\n",
       "      <th>...</th>\n",
       "      <td>...</td>\n",
       "      <td>...</td>\n",
       "      <td>...</td>\n",
       "      <td>...</td>\n",
       "      <td>...</td>\n",
       "      <td>...</td>\n",
       "      <td>...</td>\n",
       "      <td>...</td>\n",
       "      <td>...</td>\n",
       "      <td>...</td>\n",
       "      <td>...</td>\n",
       "      <td>...</td>\n",
       "      <td>...</td>\n",
       "      <td>...</td>\n",
       "    </tr>\n",
       "    <tr>\n",
       "      <th>1112306</th>\n",
       "      <td>E01018569</td>\n",
       "      <td>2018</td>\n",
       "      <td>1262.0</td>\n",
       "      <td>Knowsley</td>\n",
       "      <td>E08000011</td>\n",
       "      <td>E23000004</td>\n",
       "      <td>Merseyside</td>\n",
       "      <td>149571</td>\n",
       "      <td>3490</td>\n",
       "      <td>2018-03</td>\n",
       "      <td>Cheshire West and Chester 004B</td>\n",
       "      <td>1</td>\n",
       "      <td>3</td>\n",
       "      <td>27174</td>\n",
       "    </tr>\n",
       "    <tr>\n",
       "      <th>1112307</th>\n",
       "      <td>E01018569</td>\n",
       "      <td>2018</td>\n",
       "      <td>1262.0</td>\n",
       "      <td>Liverpool</td>\n",
       "      <td>E08000012</td>\n",
       "      <td>E23000004</td>\n",
       "      <td>Merseyside</td>\n",
       "      <td>494814</td>\n",
       "      <td>3490</td>\n",
       "      <td>2018-03</td>\n",
       "      <td>Cheshire West and Chester 004B</td>\n",
       "      <td>1</td>\n",
       "      <td>3</td>\n",
       "      <td>29215</td>\n",
       "    </tr>\n",
       "    <tr>\n",
       "      <th>1112308</th>\n",
       "      <td>E01018569</td>\n",
       "      <td>2018</td>\n",
       "      <td>1262.0</td>\n",
       "      <td>Sefton</td>\n",
       "      <td>E08000014</td>\n",
       "      <td>E23000004</td>\n",
       "      <td>Merseyside</td>\n",
       "      <td>275396</td>\n",
       "      <td>3490</td>\n",
       "      <td>2018-03</td>\n",
       "      <td>Cheshire West and Chester 004B</td>\n",
       "      <td>1</td>\n",
       "      <td>3</td>\n",
       "      <td>18052</td>\n",
       "    </tr>\n",
       "    <tr>\n",
       "      <th>1112309</th>\n",
       "      <td>E01018569</td>\n",
       "      <td>2018</td>\n",
       "      <td>1262.0</td>\n",
       "      <td>St. Helens</td>\n",
       "      <td>E08000013</td>\n",
       "      <td>E23000004</td>\n",
       "      <td>Merseyside</td>\n",
       "      <td>180049</td>\n",
       "      <td>3490</td>\n",
       "      <td>2018-03</td>\n",
       "      <td>Cheshire West and Chester 004B</td>\n",
       "      <td>1</td>\n",
       "      <td>3</td>\n",
       "      <td>18420</td>\n",
       "    </tr>\n",
       "    <tr>\n",
       "      <th>1112310</th>\n",
       "      <td>E01018569</td>\n",
       "      <td>2018</td>\n",
       "      <td>1262.0</td>\n",
       "      <td>Wirral</td>\n",
       "      <td>E08000015</td>\n",
       "      <td>E23000004</td>\n",
       "      <td>Merseyside</td>\n",
       "      <td>323235</td>\n",
       "      <td>3490</td>\n",
       "      <td>2018-03</td>\n",
       "      <td>Cheshire West and Chester 004B</td>\n",
       "      <td>1</td>\n",
       "      <td>3</td>\n",
       "      <td>18497</td>\n",
       "    </tr>\n",
       "  </tbody>\n",
       "</table>\n",
       "<p>1112311 rows × 14 columns</p>\n",
       "</div>"
      ],
      "text/plain": [
       "         LSOA code  year  LSOA population  District name district code  \\\n",
       "0        E01020634  2012           1528.0  County Durham     E06000047   \n",
       "1        E01020634  2012           1528.0  County Durham     E06000047   \n",
       "2        E01020634  2012           1528.0  County Durham     E06000047   \n",
       "3        E01020634  2012           1528.0  County Durham     E06000047   \n",
       "4        E01020634  2012           1528.0  County Durham     E06000047   \n",
       "...            ...   ...              ...            ...           ...   \n",
       "1112306  E01018569  2018           1262.0       Knowsley     E08000011   \n",
       "1112307  E01018569  2018           1262.0      Liverpool     E08000012   \n",
       "1112308  E01018569  2018           1262.0         Sefton     E08000014   \n",
       "1112309  E01018569  2018           1262.0     St. Helens     E08000013   \n",
       "1112310  E01018569  2018           1262.0         Wirral     E08000015   \n",
       "\n",
       "        Geo code police  Force Name  population  headcount    Month  \\\n",
       "0             E23000008      Durham      514261       1383  2012-01   \n",
       "1             E23000008      Durham      514261       1383  2012-02   \n",
       "2             E23000008      Durham      514261       1383  2012-03   \n",
       "3             E23000008      Durham      514261       1383  2012-04   \n",
       "4             E23000008      Durham      514261       1383  2012-05   \n",
       "...                 ...         ...         ...        ...      ...   \n",
       "1112306       E23000004  Merseyside      149571       3490  2018-03   \n",
       "1112307       E23000004  Merseyside      494814       3490  2018-03   \n",
       "1112308       E23000004  Merseyside      275396       3490  2018-03   \n",
       "1112309       E23000004  Merseyside      180049       3490  2018-03   \n",
       "1112310       E23000004  Merseyside      323235       3490  2018-03   \n",
       "\n",
       "                              LSOA name  amount_of_crimes  month    GDP  \n",
       "0                    County Durham 001A                 3      1  17751  \n",
       "1                    County Durham 001A                 4      2  17751  \n",
       "2                    County Durham 001A                11      3  17751  \n",
       "3                    County Durham 001A                 4      4  17751  \n",
       "4                    County Durham 001A                 4      5  17751  \n",
       "...                                 ...               ...    ...    ...  \n",
       "1112306  Cheshire West and Chester 004B                 1      3  27174  \n",
       "1112307  Cheshire West and Chester 004B                 1      3  29215  \n",
       "1112308  Cheshire West and Chester 004B                 1      3  18052  \n",
       "1112309  Cheshire West and Chester 004B                 1      3  18420  \n",
       "1112310  Cheshire West and Chester 004B                 1      3  18497  \n",
       "\n",
       "[1112311 rows x 14 columns]"
      ]
     },
     "execution_count": 272,
     "metadata": {},
     "output_type": "execute_result"
    }
   ],
   "source": [
    "df_data.drop(['index_x', 'index_y'], axis=1, inplace=True)\n",
    "\n"
   ]
  },
  {
   "cell_type": "code",
   "execution_count": 273,
   "id": "17944789",
   "metadata": {},
   "outputs": [],
   "source": [
    "df_data.to_pickle(\"df_data.pkl\")  "
   ]
  },
  {
   "cell_type": "markdown",
   "id": "639152cf",
   "metadata": {},
   "source": [
    "# Train-Test split and encoding"
   ]
  },
  {
   "cell_type": "code",
   "execution_count": 338,
   "id": "bef10a72",
   "metadata": {},
   "outputs": [],
   "source": [
    "test = df_data[df_data['year'] == 2019]\n",
    "train = df_data[df_data['year']<2019]"
   ]
  },
  {
   "cell_type": "code",
   "execution_count": 278,
   "id": "2524add9",
   "metadata": {},
   "outputs": [
    {
     "name": "stderr",
     "output_type": "stream",
     "text": [
      "C:\\Users\\blaze\\Anaconda3\\lib\\site-packages\\pandas\\core\\frame.py:3641: SettingWithCopyWarning: \n",
      "A value is trying to be set on a copy of a slice from a DataFrame.\n",
      "Try using .loc[row_indexer,col_indexer] = value instead\n",
      "\n",
      "See the caveats in the documentation: https://pandas.pydata.org/pandas-docs/stable/user_guide/indexing.html#returning-a-view-versus-a-copy\n",
      "  self[k1] = value[k2]\n"
     ]
    }
   ],
   "source": [
    "lab = LabelEncoder()\n",
    "\n",
    "labels_lsoa = df_data['LSOA code'].unique()\n",
    "lab.fit(labels_lsoa)\n",
    "train[['LSOA code']] = train[['LSOA code']].apply(lab.fit_transform)\n",
    "test[['LSOA code']] = test[['LSOA code']].apply(lab.fit_transform)"
   ]
  },
  {
   "cell_type": "code",
   "execution_count": 279,
   "id": "e32e2dab",
   "metadata": {},
   "outputs": [],
   "source": [
    "labels_dist = df_data['district code'].unique()\n",
    "lab.fit(labels_dist)\n",
    "train[['district code']] = train[['district code']].apply(lab.fit_transform)\n",
    "test[['district code']] = test[['district code']].apply(lab.fit_transform)"
   ]
  },
  {
   "cell_type": "code",
   "execution_count": 280,
   "id": "7cc36e28",
   "metadata": {},
   "outputs": [],
   "source": [
    "labels_force = df_data['Force Name'].unique()\n",
    "lab.fit(labels_force)\n",
    "train[['Force Name']] = train[['Force Name']].apply(lab.fit_transform)\n",
    "test[['Force Name']] = test[['Force Name']].apply(lab.fit_transform)"
   ]
  },
  {
   "cell_type": "markdown",
   "id": "06f915b0",
   "metadata": {},
   "source": [
    "# Random forest implementation"
   ]
  },
  {
   "cell_type": "code",
   "execution_count": 327,
   "id": "374c0d36",
   "metadata": {},
   "outputs": [],
   "source": [
    "X_train = train[['LSOA code', 'LSOA population', 'headcount', 'month']]\n",
    "y_train = train['amount_of_crimes']\n",
    "\n",
    "X_test = test[['LSOA code', 'LSOA population', 'headcount', 'month']]\n",
    "y_test = test['amount_of_crimes']\n"
   ]
  },
  {
   "cell_type": "code",
   "execution_count": 328,
   "id": "32e39e55",
   "metadata": {},
   "outputs": [
    {
     "data": {
      "text/plain": [
       "RandomForestRegressor(n_estimators=10, random_state=42)"
      ]
     },
     "execution_count": 328,
     "metadata": {},
     "output_type": "execute_result"
    }
   ],
   "source": [
    "cl = RandomForestRegressor(n_estimators = 10, random_state = 42)\n",
    "cl.fit(X_train, y_train)"
   ]
  },
  {
   "cell_type": "code",
   "execution_count": 329,
   "id": "0810c1af",
   "metadata": {},
   "outputs": [],
   "source": [
    "pred = cl.predict(X_test)"
   ]
  },
  {
   "cell_type": "code",
   "execution_count": 330,
   "id": "57132a2e",
   "metadata": {},
   "outputs": [
    {
     "data": {
      "text/plain": [
       "11.690628851490143"
      ]
     },
     "execution_count": 330,
     "metadata": {},
     "output_type": "execute_result"
    }
   ],
   "source": [
    "mean_absolute_error(y_test.values, pred)"
   ]
  },
  {
   "cell_type": "code",
   "execution_count": 331,
   "id": "64730509",
   "metadata": {},
   "outputs": [
    {
     "data": {
      "text/plain": [
       "655.0219292226747"
      ]
     },
     "execution_count": 331,
     "metadata": {},
     "output_type": "execute_result"
    }
   ],
   "source": [
    "mean_squared_error(y_test, pred)"
   ]
  },
  {
   "cell_type": "code",
   "execution_count": 332,
   "id": "80d0e51f",
   "metadata": {},
   "outputs": [
    {
     "data": {
      "text/plain": [
       "25.593396203370013"
      ]
     },
     "execution_count": 332,
     "metadata": {},
     "output_type": "execute_result"
    }
   ],
   "source": [
    "np.sqrt(mean_squared_error(y_test, pred))\n"
   ]
  },
  {
   "cell_type": "code",
   "execution_count": 333,
   "id": "c81ecef7",
   "metadata": {},
   "outputs": [
    {
     "data": {
      "text/plain": [
       "-0.17621019060960408"
      ]
     },
     "execution_count": 333,
     "metadata": {},
     "output_type": "execute_result"
    }
   ],
   "source": [
    "r2_score(y_test, pred)"
   ]
  },
  {
   "cell_type": "code",
   "execution_count": 340,
   "id": "90b84dfa",
   "metadata": {},
   "outputs": [
    {
     "data": {
      "text/html": [
       "<div>\n",
       "<style scoped>\n",
       "    .dataframe tbody tr th:only-of-type {\n",
       "        vertical-align: middle;\n",
       "    }\n",
       "\n",
       "    .dataframe tbody tr th {\n",
       "        vertical-align: top;\n",
       "    }\n",
       "\n",
       "    .dataframe thead th {\n",
       "        text-align: right;\n",
       "    }\n",
       "</style>\n",
       "<table border=\"1\" class=\"dataframe\">\n",
       "  <thead>\n",
       "    <tr style=\"text-align: right;\">\n",
       "      <th></th>\n",
       "      <th>LSOA code</th>\n",
       "      <th>LSOA population</th>\n",
       "      <th>headcount</th>\n",
       "      <th>month</th>\n",
       "    </tr>\n",
       "  </thead>\n",
       "  <tbody>\n",
       "    <tr>\n",
       "      <th>0</th>\n",
       "      <td>1705</td>\n",
       "      <td>1528.0</td>\n",
       "      <td>1383</td>\n",
       "      <td>1</td>\n",
       "    </tr>\n",
       "    <tr>\n",
       "      <th>1</th>\n",
       "      <td>1705</td>\n",
       "      <td>1528.0</td>\n",
       "      <td>1383</td>\n",
       "      <td>2</td>\n",
       "    </tr>\n",
       "    <tr>\n",
       "      <th>2</th>\n",
       "      <td>1705</td>\n",
       "      <td>1528.0</td>\n",
       "      <td>1383</td>\n",
       "      <td>3</td>\n",
       "    </tr>\n",
       "    <tr>\n",
       "      <th>3</th>\n",
       "      <td>1705</td>\n",
       "      <td>1528.0</td>\n",
       "      <td>1383</td>\n",
       "      <td>4</td>\n",
       "    </tr>\n",
       "    <tr>\n",
       "      <th>4</th>\n",
       "      <td>1705</td>\n",
       "      <td>1528.0</td>\n",
       "      <td>1383</td>\n",
       "      <td>5</td>\n",
       "    </tr>\n",
       "    <tr>\n",
       "      <th>...</th>\n",
       "      <td>...</td>\n",
       "      <td>...</td>\n",
       "      <td>...</td>\n",
       "      <td>...</td>\n",
       "    </tr>\n",
       "    <tr>\n",
       "      <th>1112306</th>\n",
       "      <td>1496</td>\n",
       "      <td>1262.0</td>\n",
       "      <td>3490</td>\n",
       "      <td>3</td>\n",
       "    </tr>\n",
       "    <tr>\n",
       "      <th>1112307</th>\n",
       "      <td>1496</td>\n",
       "      <td>1262.0</td>\n",
       "      <td>3490</td>\n",
       "      <td>3</td>\n",
       "    </tr>\n",
       "    <tr>\n",
       "      <th>1112308</th>\n",
       "      <td>1496</td>\n",
       "      <td>1262.0</td>\n",
       "      <td>3490</td>\n",
       "      <td>3</td>\n",
       "    </tr>\n",
       "    <tr>\n",
       "      <th>1112309</th>\n",
       "      <td>1496</td>\n",
       "      <td>1262.0</td>\n",
       "      <td>3490</td>\n",
       "      <td>3</td>\n",
       "    </tr>\n",
       "    <tr>\n",
       "      <th>1112310</th>\n",
       "      <td>1496</td>\n",
       "      <td>1262.0</td>\n",
       "      <td>3490</td>\n",
       "      <td>3</td>\n",
       "    </tr>\n",
       "  </tbody>\n",
       "</table>\n",
       "<p>973566 rows × 4 columns</p>\n",
       "</div>"
      ],
      "text/plain": [
       "         LSOA code  LSOA population  headcount  month\n",
       "0             1705           1528.0       1383      1\n",
       "1             1705           1528.0       1383      2\n",
       "2             1705           1528.0       1383      3\n",
       "3             1705           1528.0       1383      4\n",
       "4             1705           1528.0       1383      5\n",
       "...            ...              ...        ...    ...\n",
       "1112306       1496           1262.0       3490      3\n",
       "1112307       1496           1262.0       3490      3\n",
       "1112308       1496           1262.0       3490      3\n",
       "1112309       1496           1262.0       3490      3\n",
       "1112310       1496           1262.0       3490      3\n",
       "\n",
       "[973566 rows x 4 columns]"
      ]
     },
     "execution_count": 340,
     "metadata": {},
     "output_type": "execute_result"
    }
   ],
   "source": [
    "X_train"
   ]
  },
  {
   "cell_type": "code",
   "execution_count": 334,
   "id": "47d536f3",
   "metadata": {},
   "outputs": [
    {
     "data": {
      "text/plain": [
       "array([0.75421653, 0.16229236, 0.03600016, 0.04749095])"
      ]
     },
     "execution_count": 334,
     "metadata": {},
     "output_type": "execute_result"
    }
   ],
   "source": [
    "cl.feature_importances_"
   ]
  }
 ],
 "metadata": {
  "kernelspec": {
   "display_name": "Python 3 (ipykernel)",
   "language": "python",
   "name": "python3"
  },
  "language_info": {
   "codemirror_mode": {
    "name": "ipython",
    "version": 3
   },
   "file_extension": ".py",
   "mimetype": "text/x-python",
   "name": "python",
   "nbconvert_exporter": "python",
   "pygments_lexer": "ipython3",
   "version": "3.9.7"
  }
 },
 "nbformat": 4,
 "nbformat_minor": 5
}
